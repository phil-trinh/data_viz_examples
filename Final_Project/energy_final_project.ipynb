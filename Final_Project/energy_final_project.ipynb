{
 "cells": [
  {
   "cell_type": "code",
   "execution_count": 1,
   "metadata": {
    "ExecuteTime": {
     "end_time": "2019-05-16T22:39:13.449782Z",
     "start_time": "2019-05-16T22:39:11.574565Z"
    }
   },
   "outputs": [],
   "source": [
    "from bokeh.palettes import Plasma256\n",
    "import datetime\n",
    "from geopy.geocoders import Nominatim\n",
    "import matplotlib\n",
    "import matplotlib.pyplot as plt\n",
    "import numpy as np\n",
    "\n",
    "import pandas as pd\n",
    "import plotly.plotly as py\n",
    "import plotly.graph_objs as go\n",
    "from plotly.offline import init_notebook_mode, plot, iplot\n",
    "\n",
    "import seaborn as sns"
   ]
  },
  {
   "cell_type": "code",
   "execution_count": 2,
   "metadata": {
    "ExecuteTime": {
     "end_time": "2019-05-16T22:39:13.455517Z",
     "start_time": "2019-05-16T22:39:13.451643Z"
    }
   },
   "outputs": [
    {
     "data": {
      "text/html": [
       "        <script type=\"text/javascript\">\n",
       "        window.PlotlyConfig = {MathJaxConfig: 'local'};\n",
       "        if (window.MathJax) {MathJax.Hub.Config({SVG: {font: \"STIX-Web\"}});}\n",
       "        if (typeof require !== 'undefined') {\n",
       "        require.undef(\"plotly\");\n",
       "        requirejs.config({\n",
       "            paths: {\n",
       "                'plotly': ['https://cdn.plot.ly/plotly-latest.min']\n",
       "            }\n",
       "        });\n",
       "        require(['plotly'], function(Plotly) {\n",
       "            window._Plotly = Plotly;\n",
       "        });\n",
       "        }\n",
       "        </script>\n",
       "        "
      ]
     },
     "metadata": {},
     "output_type": "display_data"
    }
   ],
   "source": [
    "init_notebook_mode(connected=True)"
   ]
  },
  {
   "cell_type": "code",
   "execution_count": 3,
   "metadata": {
    "ExecuteTime": {
     "end_time": "2019-05-16T22:39:13.469726Z",
     "start_time": "2019-05-16T22:39:13.458159Z"
    }
   },
   "outputs": [],
   "source": [
    "geolocator = Nominatim(user_agent=\"test\")"
   ]
  },
  {
   "cell_type": "markdown",
   "metadata": {},
   "source": [
    "# Data Load"
   ]
  },
  {
   "cell_type": "code",
   "execution_count": 4,
   "metadata": {
    "ExecuteTime": {
     "end_time": "2019-05-16T22:39:13.510389Z",
     "start_time": "2019-05-16T22:39:13.472042Z"
    }
   },
   "outputs": [
    {
     "data": {
      "text/html": [
       "<div>\n",
       "<style scoped>\n",
       "    .dataframe tbody tr th:only-of-type {\n",
       "        vertical-align: middle;\n",
       "    }\n",
       "\n",
       "    .dataframe tbody tr th {\n",
       "        vertical-align: top;\n",
       "    }\n",
       "\n",
       "    .dataframe thead th {\n",
       "        text-align: right;\n",
       "    }\n",
       "</style>\n",
       "<table border=\"1\" class=\"dataframe\">\n",
       "  <thead>\n",
       "    <tr style=\"text-align: right;\">\n",
       "      <th></th>\n",
       "      <th>StateCodes</th>\n",
       "      <th>State</th>\n",
       "      <th>Region</th>\n",
       "      <th>Division</th>\n",
       "      <th>Coast</th>\n",
       "      <th>Great Lakes</th>\n",
       "      <th>TotalC2010</th>\n",
       "      <th>TotalC2011</th>\n",
       "      <th>TotalC2012</th>\n",
       "      <th>TotalC2013</th>\n",
       "      <th>...</th>\n",
       "      <th>RINTERNATIONALMIG2013</th>\n",
       "      <th>RINTERNATIONALMIG2014</th>\n",
       "      <th>RDOMESTICMIG2011</th>\n",
       "      <th>RDOMESTICMIG2012</th>\n",
       "      <th>RDOMESTICMIG2013</th>\n",
       "      <th>RDOMESTICMIG2014</th>\n",
       "      <th>RNETMIG2011</th>\n",
       "      <th>RNETMIG2012</th>\n",
       "      <th>RNETMIG2013</th>\n",
       "      <th>RNETMIG2014</th>\n",
       "    </tr>\n",
       "  </thead>\n",
       "  <tbody>\n",
       "    <tr>\n",
       "      <th>0</th>\n",
       "      <td>AL</td>\n",
       "      <td>Alabama</td>\n",
       "      <td>3.0</td>\n",
       "      <td>6.0</td>\n",
       "      <td>1.0</td>\n",
       "      <td>0.0</td>\n",
       "      <td>1931522</td>\n",
       "      <td>1905207</td>\n",
       "      <td>1879716</td>\n",
       "      <td>1919365</td>\n",
       "      <td>...</td>\n",
       "      <td>1.165832</td>\n",
       "      <td>1.157861</td>\n",
       "      <td>-0.020443</td>\n",
       "      <td>-0.168414</td>\n",
       "      <td>0.396416</td>\n",
       "      <td>0.420102</td>\n",
       "      <td>1.011941</td>\n",
       "      <td>1.001333</td>\n",
       "      <td>1.562247</td>\n",
       "      <td>1.577963</td>\n",
       "    </tr>\n",
       "    <tr>\n",
       "      <th>1</th>\n",
       "      <td>AK</td>\n",
       "      <td>Alaska</td>\n",
       "      <td>4.0</td>\n",
       "      <td>9.0</td>\n",
       "      <td>1.0</td>\n",
       "      <td>0.0</td>\n",
       "      <td>653221</td>\n",
       "      <td>653637</td>\n",
       "      <td>649341</td>\n",
       "      <td>621107</td>\n",
       "      <td>...</td>\n",
       "      <td>3.203618</td>\n",
       "      <td>2.869760</td>\n",
       "      <td>-1.175137</td>\n",
       "      <td>-1.949571</td>\n",
       "      <td>-3.789313</td>\n",
       "      <td>-13.754494</td>\n",
       "      <td>0.948185</td>\n",
       "      <td>1.835376</td>\n",
       "      <td>-0.585695</td>\n",
       "      <td>-10.884734</td>\n",
       "    </tr>\n",
       "    <tr>\n",
       "      <th>2</th>\n",
       "      <td>AZ</td>\n",
       "      <td>Arizona</td>\n",
       "      <td>4.0</td>\n",
       "      <td>8.0</td>\n",
       "      <td>0.0</td>\n",
       "      <td>0.0</td>\n",
       "      <td>1383531</td>\n",
       "      <td>1424944</td>\n",
       "      <td>1395839</td>\n",
       "      <td>1414383</td>\n",
       "      <td>...</td>\n",
       "      <td>1.090035</td>\n",
       "      <td>1.091283</td>\n",
       "      <td>1.341472</td>\n",
       "      <td>-0.420875</td>\n",
       "      <td>-0.580562</td>\n",
       "      <td>-1.313050</td>\n",
       "      <td>2.317801</td>\n",
       "      <td>0.621971</td>\n",
       "      <td>0.509473</td>\n",
       "      <td>-0.221767</td>\n",
       "    </tr>\n",
       "    <tr>\n",
       "      <th>3</th>\n",
       "      <td>AR</td>\n",
       "      <td>Arkansas</td>\n",
       "      <td>3.0</td>\n",
       "      <td>7.0</td>\n",
       "      <td>0.0</td>\n",
       "      <td>0.0</td>\n",
       "      <td>1120632</td>\n",
       "      <td>1122544</td>\n",
       "      <td>1067642</td>\n",
       "      <td>1096438</td>\n",
       "      <td>...</td>\n",
       "      <td>2.141877</td>\n",
       "      <td>2.129805</td>\n",
       "      <td>1.369514</td>\n",
       "      <td>5.131282</td>\n",
       "      <td>3.910476</td>\n",
       "      <td>6.280636</td>\n",
       "      <td>3.336628</td>\n",
       "      <td>7.155212</td>\n",
       "      <td>6.052353</td>\n",
       "      <td>8.410441</td>\n",
       "    </tr>\n",
       "    <tr>\n",
       "      <th>4</th>\n",
       "      <td>CA</td>\n",
       "      <td>California</td>\n",
       "      <td>4.0</td>\n",
       "      <td>9.0</td>\n",
       "      <td>1.0</td>\n",
       "      <td>0.0</td>\n",
       "      <td>7760629</td>\n",
       "      <td>7777115</td>\n",
       "      <td>7564063</td>\n",
       "      <td>7665241</td>\n",
       "      <td>...</td>\n",
       "      <td>4.207353</td>\n",
       "      <td>4.177389</td>\n",
       "      <td>-1.162079</td>\n",
       "      <td>-1.173951</td>\n",
       "      <td>-1.341226</td>\n",
       "      <td>-0.830982</td>\n",
       "      <td>2.761377</td>\n",
       "      <td>2.772770</td>\n",
       "      <td>2.866127</td>\n",
       "      <td>3.346406</td>\n",
       "    </tr>\n",
       "  </tbody>\n",
       "</table>\n",
       "<p>5 rows × 192 columns</p>\n",
       "</div>"
      ],
      "text/plain": [
       "  StateCodes       State  Region  Division  Coast  Great Lakes  TotalC2010  \\\n",
       "0         AL     Alabama     3.0       6.0    1.0          0.0     1931522   \n",
       "1         AK      Alaska     4.0       9.0    1.0          0.0      653221   \n",
       "2         AZ     Arizona     4.0       8.0    0.0          0.0     1383531   \n",
       "3         AR    Arkansas     3.0       7.0    0.0          0.0     1120632   \n",
       "4         CA  California     4.0       9.0    1.0          0.0     7760629   \n",
       "\n",
       "   TotalC2011  TotalC2012  TotalC2013  ...  RINTERNATIONALMIG2013  \\\n",
       "0     1905207     1879716     1919365  ...               1.165832   \n",
       "1      653637      649341      621107  ...               3.203618   \n",
       "2     1424944     1395839     1414383  ...               1.090035   \n",
       "3     1122544     1067642     1096438  ...               2.141877   \n",
       "4     7777115     7564063     7665241  ...               4.207353   \n",
       "\n",
       "   RINTERNATIONALMIG2014  RDOMESTICMIG2011  RDOMESTICMIG2012  \\\n",
       "0               1.157861         -0.020443         -0.168414   \n",
       "1               2.869760         -1.175137         -1.949571   \n",
       "2               1.091283          1.341472         -0.420875   \n",
       "3               2.129805          1.369514          5.131282   \n",
       "4               4.177389         -1.162079         -1.173951   \n",
       "\n",
       "   RDOMESTICMIG2013  RDOMESTICMIG2014  RNETMIG2011  RNETMIG2012  RNETMIG2013  \\\n",
       "0          0.396416          0.420102     1.011941     1.001333     1.562247   \n",
       "1         -3.789313        -13.754494     0.948185     1.835376    -0.585695   \n",
       "2         -0.580562         -1.313050     2.317801     0.621971     0.509473   \n",
       "3          3.910476          6.280636     3.336628     7.155212     6.052353   \n",
       "4         -1.341226         -0.830982     2.761377     2.772770     2.866127   \n",
       "\n",
       "   RNETMIG2014  \n",
       "0     1.577963  \n",
       "1   -10.884734  \n",
       "2    -0.221767  \n",
       "3     8.410441  \n",
       "4     3.346406  \n",
       "\n",
       "[5 rows x 192 columns]"
      ]
     },
     "execution_count": 4,
     "metadata": {},
     "output_type": "execute_result"
    }
   ],
   "source": [
    "energy = pd.read_csv(\"Energy Census and Economic Data US 2010-2014.csv\")\n",
    "energy.head()"
   ]
  },
  {
   "cell_type": "markdown",
   "metadata": {},
   "source": [
    "# Slice and Augment"
   ]
  },
  {
   "cell_type": "code",
   "execution_count": 5,
   "metadata": {
    "ExecuteTime": {
     "end_time": "2019-05-16T22:39:13.515435Z",
     "start_time": "2019-05-16T22:39:13.512076Z"
    }
   },
   "outputs": [
    {
     "data": {
      "text/plain": [
       "(52, 192)"
      ]
     },
     "execution_count": 5,
     "metadata": {},
     "output_type": "execute_result"
    }
   ],
   "source": [
    "energy.shape"
   ]
  },
  {
   "cell_type": "code",
   "execution_count": 6,
   "metadata": {
    "ExecuteTime": {
     "end_time": "2019-05-16T22:39:13.522078Z",
     "start_time": "2019-05-16T22:39:13.517315Z"
    }
   },
   "outputs": [
    {
     "data": {
      "text/plain": [
       "['StateCodes',\n",
       " 'State',\n",
       " 'Region',\n",
       " 'Division',\n",
       " 'Coast',\n",
       " 'Great Lakes',\n",
       " 'TotalC2010',\n",
       " 'TotalC2011',\n",
       " 'TotalC2012',\n",
       " 'TotalC2013',\n",
       " 'TotalC2014',\n",
       " 'TotalP2010',\n",
       " 'TotalP2011',\n",
       " 'TotalP2012',\n",
       " 'TotalP2013',\n",
       " 'TotalP2014',\n",
       " 'TotalE2010',\n",
       " 'TotalE2011',\n",
       " 'TotalE2012',\n",
       " 'TotalE2013',\n",
       " 'TotalE2014',\n",
       " 'TotalPrice2010',\n",
       " 'TotalPrice2011',\n",
       " 'TotalPrice2012',\n",
       " 'TotalPrice2013',\n",
       " 'TotalPrice2014',\n",
       " 'TotalC10-11',\n",
       " 'TotalC11-12',\n",
       " 'TotalC12-13',\n",
       " 'TotalC13-14',\n",
       " 'TotalP10-11',\n",
       " 'TotalP11-12',\n",
       " 'TotalP12-13',\n",
       " 'TotalP13-14',\n",
       " 'TotalE10-11',\n",
       " 'TotalE11-12',\n",
       " 'TotalE12-13',\n",
       " 'TotalE13-14',\n",
       " 'TotalPrice10-11',\n",
       " 'TotalPrice11-12',\n",
       " 'TotalPrice12-13',\n",
       " 'TotalPrice13-14',\n",
       " 'BiomassC2010',\n",
       " 'BiomassC2011',\n",
       " 'BiomassC2012',\n",
       " 'BiomassC2013',\n",
       " 'BiomassC2014',\n",
       " 'CoalC2010',\n",
       " 'CoalC2011',\n",
       " 'CoalC2012',\n",
       " 'CoalC2013',\n",
       " 'CoalC2014',\n",
       " 'CoalP2010',\n",
       " 'CoalP2011',\n",
       " 'CoalP2012',\n",
       " 'CoalP2013',\n",
       " 'CoalP2014',\n",
       " 'CoalE2010',\n",
       " 'CoalE2011',\n",
       " 'CoalE2012',\n",
       " 'CoalE2013',\n",
       " 'CoalE2014',\n",
       " 'CoalPrice2010',\n",
       " 'CoalPrice2011',\n",
       " 'CoalPrice2012',\n",
       " 'CoalPrice2013',\n",
       " 'CoalPrice2014',\n",
       " 'ElecC2010',\n",
       " 'ElecC2011',\n",
       " 'ElecC2012',\n",
       " 'ElecC2013',\n",
       " 'ElecC2014',\n",
       " 'ElecE2010',\n",
       " 'ElecE2011',\n",
       " 'ElecE2012',\n",
       " 'ElecE2013',\n",
       " 'ElecE2014',\n",
       " 'ElecPrice2010',\n",
       " 'ElecPrice2011',\n",
       " 'ElecPrice2012',\n",
       " 'ElecPrice2013',\n",
       " 'ElecPrice2014',\n",
       " 'FossFuelC2010',\n",
       " 'FossFuelC2011',\n",
       " 'FossFuelC2012',\n",
       " 'FossFuelC2013',\n",
       " 'FossFuelC2014',\n",
       " 'GeoC2010',\n",
       " 'GeoC2011',\n",
       " 'GeoC2012',\n",
       " 'GeoC2013',\n",
       " 'GeoC2014',\n",
       " 'GeoP2010',\n",
       " 'GeoP2011',\n",
       " 'GeoP2012',\n",
       " 'GeoP2013',\n",
       " 'GeoP2014',\n",
       " 'HydroC2010',\n",
       " 'HydroC2011',\n",
       " 'HydroC2012',\n",
       " 'HydroC2013',\n",
       " 'HydroC2014',\n",
       " 'HydroP2010',\n",
       " 'HydroP2011',\n",
       " 'HydroP2012',\n",
       " 'HydroP2013',\n",
       " 'HydroP2014',\n",
       " 'NatGasC2010',\n",
       " 'NatGasC2011',\n",
       " 'NatGasC2012',\n",
       " 'NatGasC2013',\n",
       " 'NatGasC2014',\n",
       " 'NatGasE2010',\n",
       " 'NatGasE2011',\n",
       " 'NatGasE2012',\n",
       " 'NatGasE2013',\n",
       " 'NatGasE2014',\n",
       " 'NatGasPrice2010',\n",
       " 'NatGasPrice2011',\n",
       " 'NatGasPrice2012',\n",
       " 'NatGasPrice2013',\n",
       " 'NatGasPrice2014',\n",
       " 'LPGC2010',\n",
       " 'LPGC2011',\n",
       " 'LPGC2012',\n",
       " 'LPGC2013',\n",
       " 'LPGC2014',\n",
       " 'LPGE2010',\n",
       " 'LPGE2011',\n",
       " 'LPGE2012',\n",
       " 'LPGE2013',\n",
       " 'LPGE2014',\n",
       " 'LPGPrice2010',\n",
       " 'LPGPrice2011',\n",
       " 'LPGPrice2012',\n",
       " 'LPGPrice2013',\n",
       " 'LPGPrice2014',\n",
       " 'GDP2010Q1',\n",
       " 'GDP2010Q2',\n",
       " 'GDP2010Q3',\n",
       " 'GDP2010Q4',\n",
       " 'GDP2010',\n",
       " 'GDP2011Q1',\n",
       " 'GDP2011Q2',\n",
       " 'GDP2011Q3',\n",
       " 'GDP2011Q4',\n",
       " 'GDP2011',\n",
       " 'GDP2012Q1',\n",
       " 'GDP2012Q2',\n",
       " 'GDP2012Q3',\n",
       " 'GDP2012Q4',\n",
       " 'GDP2012',\n",
       " 'GDP2013Q1',\n",
       " 'GDP2013Q2',\n",
       " 'GDP2013Q3',\n",
       " 'GDP2013Q4',\n",
       " 'GDP2013',\n",
       " 'GDP2014Q1',\n",
       " 'GDP2014Q2',\n",
       " 'GDP2014Q3',\n",
       " 'GDP2014Q4',\n",
       " 'GDP2014',\n",
       " 'CENSUS2010POP',\n",
       " 'POPESTIMATE2010',\n",
       " 'POPESTIMATE2011',\n",
       " 'POPESTIMATE2012',\n",
       " 'POPESTIMATE2013',\n",
       " 'POPESTIMATE2014',\n",
       " 'RBIRTH2011',\n",
       " 'RBIRTH2012',\n",
       " 'RBIRTH2013',\n",
       " 'RBIRTH2014',\n",
       " 'RDEATH2011',\n",
       " 'RDEATH2012',\n",
       " 'RDEATH2013',\n",
       " 'RDEATH2014',\n",
       " 'RNATURALINC2011',\n",
       " 'RNATURALINC2012',\n",
       " 'RNATURALINC2013',\n",
       " 'RNATURALINC2014',\n",
       " 'RINTERNATIONALMIG2011',\n",
       " 'RINTERNATIONALMIG2012',\n",
       " 'RINTERNATIONALMIG2013',\n",
       " 'RINTERNATIONALMIG2014',\n",
       " 'RDOMESTICMIG2011',\n",
       " 'RDOMESTICMIG2012',\n",
       " 'RDOMESTICMIG2013',\n",
       " 'RDOMESTICMIG2014',\n",
       " 'RNETMIG2011',\n",
       " 'RNETMIG2012',\n",
       " 'RNETMIG2013',\n",
       " 'RNETMIG2014']"
      ]
     },
     "execution_count": 6,
     "metadata": {},
     "output_type": "execute_result"
    }
   ],
   "source": [
    "columns = list(energy.columns); columns"
   ]
  },
  {
   "cell_type": "markdown",
   "metadata": {},
   "source": [
    "# Histogram"
   ]
  },
  {
   "cell_type": "code",
   "execution_count": 7,
   "metadata": {
    "ExecuteTime": {
     "end_time": "2019-05-16T22:39:13.657970Z",
     "start_time": "2019-05-16T22:39:13.524551Z"
    }
   },
   "outputs": [
    {
     "data": {
      "text/plain": [
       "([<matplotlib.axis.XTick at 0x1a1754bda0>,\n",
       "  <matplotlib.axis.XTick at 0x1a1754b630>],\n",
       " <a list of 2 Text xticklabel objects>)"
      ]
     },
     "execution_count": 7,
     "metadata": {},
     "output_type": "execute_result"
    },
    {
     "data": {
      "image/png": "[encoded data removed]",
      "text/plain": [
       "<Figure size 432x288 with 1 Axes>"
      ]
     },
     "metadata": {
      "needs_background": "light"
     },
     "output_type": "display_data"
    }
   ],
   "source": [
    "sns.distplot(energy.Coast.dropna(), bins=2)\n",
    "plt.title(\"Histogram of States with Coastal Borders\")\n",
    "plt.xticks(ticks=[0.25, 0.75],\n",
    "           labels=['No', 'Yes'])"
   ]
  },
  {
   "cell_type": "code",
   "execution_count": 8,
   "metadata": {
    "ExecuteTime": {
     "end_time": "2019-05-16T22:39:13.775182Z",
     "start_time": "2019-05-16T22:39:13.660196Z"
    }
   },
   "outputs": [
    {
     "data": {
      "text/plain": [
       "([<matplotlib.axis.XTick at 0x1a1869eac8>,\n",
       "  <matplotlib.axis.XTick at 0x1a1869e400>,\n",
       "  <matplotlib.axis.XTick at 0x1a1869e2b0>,\n",
       "  <matplotlib.axis.XTick at 0x1a186c79b0>],\n",
       " <a list of 4 Text xticklabel objects>)"
      ]
     },
     "execution_count": 8,
     "metadata": {},
     "output_type": "execute_result"
    },
    {
     "data": {
      "image/png": "[encoded data removed]",
      "text/plain": [
       "<Figure size 432x288 with 1 Axes>"
      ]
     },
     "metadata": {
      "needs_background": "light"
     },
     "output_type": "display_data"
    }
   ],
   "source": [
    "sns.distplot(energy.Region.dropna(), bins=4)\n",
    "plt.title(\"Histogram of Region of States\")\n",
    "plt.xticks(ticks=list(np.arange(1.4, 3.6, 0.7)),\n",
    "           labels=['Northeast', 'Midwest', 'South', 'West'],\n",
    "          rotation=90)"
   ]
  },
  {
   "cell_type": "code",
   "execution_count": 9,
   "metadata": {
    "ExecuteTime": {
     "end_time": "2019-05-16T22:39:13.970428Z",
     "start_time": "2019-05-16T22:39:13.776890Z"
    }
   },
   "outputs": [
    {
     "data": {
      "text/plain": [
       "([<matplotlib.axis.XTick at 0x1a18772668>,\n",
       "  <matplotlib.axis.XTick at 0x1a1876ff98>,\n",
       "  <matplotlib.axis.XTick at 0x1a18ab89b0>,\n",
       "  <matplotlib.axis.XTick at 0x1a18ad10b8>,\n",
       "  <matplotlib.axis.XTick at 0x1a18ae6908>,\n",
       "  <matplotlib.axis.XTick at 0x1a18ae6dd8>,\n",
       "  <matplotlib.axis.XTick at 0x1a18aef2e8>,\n",
       "  <matplotlib.axis.XTick at 0x1a18aef7f0>,\n",
       "  <matplotlib.axis.XTick at 0x1a18aefcf8>],\n",
       " <a list of 9 Text xticklabel objects>)"
      ]
     },
     "execution_count": 9,
     "metadata": {},
     "output_type": "execute_result"
    },
    {
     "data": {
      "image/png": "[encoded data removed]",
      "text/plain": [
       "<Figure size 576x576 with 1 Axes>"
      ]
     },
     "metadata": {
      "needs_background": "light"
     },
     "output_type": "display_data"
    }
   ],
   "source": [
    "plt.figure(figsize=(8, 8))\n",
    "sns.distplot(energy.Division.dropna(), bins=9)\n",
    "plt.title(\"Histogram of Divisions of States\")\n",
    "plt.xticks(ticks=list(np.arange(1.5, 9, 0.9)),\n",
    "           labels=['New England', 'Middle Atlantic', 'East North Central', 'West North Central', 'South Atlantic', 'East South Central', 'West South Central', 'Mountain', 'Pacific'],\n",
    "          rotation=90)"
   ]
  },
  {
   "cell_type": "markdown",
   "metadata": {},
   "source": [
    "# Barplot"
   ]
  },
  {
   "cell_type": "markdown",
   "metadata": {},
   "source": [
    "See [Tableau Plot](https://public.tableau.com/profile/philip.trinh#!/vizhome/EnergyPricesUSin2014byGDP/EnergyPricesin2014byGDP?publish=yes)"
   ]
  },
  {
   "cell_type": "markdown",
   "metadata": {},
   "source": [
    "# Box Plot"
   ]
  },
  {
   "cell_type": "code",
   "execution_count": 10,
   "metadata": {
    "ExecuteTime": {
     "end_time": "2019-05-16T22:39:13.974958Z",
     "start_time": "2019-05-16T22:39:13.971797Z"
    }
   },
   "outputs": [],
   "source": [
    "energy.drop(51, inplace=True)"
   ]
  },
  {
   "cell_type": "code",
   "execution_count": 11,
   "metadata": {
    "ExecuteTime": {
     "end_time": "2019-05-16T22:39:14.172757Z",
     "start_time": "2019-05-16T22:39:13.976434Z"
    }
   },
   "outputs": [
    {
     "data": {
      "text/plain": [
       "Text(0, 0.5, 'Energy Consumption (in billion BTU)')"
      ]
     },
     "execution_count": 11,
     "metadata": {},
     "output_type": "execute_result"
    },
    {
     "data": {
      "image/png": "[encoded data removed]",
      "text/plain": [
       "<Figure size 720x720 with 1 Axes>"
      ]
     },
     "metadata": {
      "needs_background": "light"
     },
     "output_type": "display_data"
    }
   ],
   "source": [
    "fig, ax = plt.subplots(1, 1, figsize=(10, 10))\n",
    "sns.boxplot(data=energy.loc[:, ['TotalC2010', 'TotalC2011', 'TotalC2012', 'TotalC2013', 'TotalC2014']])\n",
    "ax.get_yaxis().get_major_formatter().set_scientific(False)\n",
    "ax.get_yaxis().set_major_formatter(\n",
    "    matplotlib.ticker.FuncFormatter(lambda x, p: format(int(x), ',')))\n",
    "plt.title(\"Total Energy Consumption\")\n",
    "plt.xlabel(\"Year\")\n",
    "plt.xticks(ticks=list(range(5)), labels=['2010', '2011', '2012', '2013', '2014'])\n",
    "plt.ylabel(\"Energy Consumption (in billion BTU)\")"
   ]
  },
  {
   "cell_type": "code",
   "execution_count": 12,
   "metadata": {
    "ExecuteTime": {
     "end_time": "2019-05-16T22:39:14.180110Z",
     "start_time": "2019-05-16T22:39:14.174298Z"
    },
    "scrolled": true
   },
   "outputs": [
    {
     "data": {
      "text/plain": [
       "42         Texas\n",
       "4     California\n",
       "Name: State, dtype: object"
      ]
     },
     "execution_count": 12,
     "metadata": {},
     "output_type": "execute_result"
    }
   ],
   "source": [
    "energy.sort_values('TotalC2010', ascending=False).iloc[:2, 1]"
   ]
  },
  {
   "cell_type": "markdown",
   "metadata": {},
   "source": [
    "# Scatter Plot"
   ]
  },
  {
   "cell_type": "code",
   "execution_count": 13,
   "metadata": {
    "ExecuteTime": {
     "end_time": "2019-05-16T22:39:14.512438Z",
     "start_time": "2019-05-16T22:39:14.181452Z"
    }
   },
   "outputs": [
    {
     "data": {
      "text/plain": [
       "Text(0, 0.5, 'GDP (in millions USD)')"
      ]
     },
     "execution_count": 13,
     "metadata": {},
     "output_type": "execute_result"
    },
    {
     "data": {
      "image/png": "[encoded data removed]",
      "text/plain": [
       "<Figure size 720x720 with 1 Axes>"
      ]
     },
     "metadata": {
      "needs_background": "light"
     },
     "output_type": "display_data"
    }
   ],
   "source": [
    "fig, ax = plt.subplots(1, 1, figsize=(10, 10))\n",
    "sns.regplot(x='POPESTIMATE2014', y='GDP2014', data=energy)\n",
    "# ax.get_yaxis().get_major_formatter().set_scientific(False)\n",
    "ax.get_xaxis().set_major_formatter(\n",
    "    matplotlib.ticker.FuncFormatter(lambda x, p: int(x / 1_000_000)))\n",
    "ax.get_yaxis().set_major_formatter(\n",
    "    matplotlib.ticker.FuncFormatter(lambda x, p: x / 1_000_000))\n",
    "plt.title(\"States' GDP over Population\")\n",
    "plt.xlabel(\"Population Estimate (in millions)\")\n",
    "plt.ylabel(\"GDP (in millions USD)\")"
   ]
  },
  {
   "cell_type": "markdown",
   "metadata": {},
   "source": [
    "# Bubble Map"
   ]
  },
  {
   "cell_type": "code",
   "execution_count": 14,
   "metadata": {
    "ExecuteTime": {
     "end_time": "2019-05-16T22:39:14.519152Z",
     "start_time": "2019-05-16T22:39:14.514000Z"
    }
   },
   "outputs": [],
   "source": [
    "fourteen = ['State', 'Region', 'POPESTIMATE2014', 'GDP2014', 'TotalC2014', 'TotalP2014']\n",
    "energy_2014 = energy[fourteen][energy.Region.notnull()]"
   ]
  },
  {
   "cell_type": "code",
   "execution_count": 15,
   "metadata": {
    "ExecuteTime": {
     "end_time": "2019-05-16T22:39:14.547947Z",
     "start_time": "2019-05-16T22:39:14.521057Z"
    },
    "scrolled": false
   },
   "outputs": [
    {
     "data": {
      "text/html": [
       "<div>\n",
       "<style scoped>\n",
       "    .dataframe tbody tr th:only-of-type {\n",
       "        vertical-align: middle;\n",
       "    }\n",
       "\n",
       "    .dataframe tbody tr th {\n",
       "        vertical-align: top;\n",
       "    }\n",
       "\n",
       "    .dataframe thead th {\n",
       "        text-align: right;\n",
       "    }\n",
       "</style>\n",
       "<table border=\"1\" class=\"dataframe\">\n",
       "  <thead>\n",
       "    <tr style=\"text-align: right;\">\n",
       "      <th></th>\n",
       "      <th>Region</th>\n",
       "      <th>POPESTIMATE2014</th>\n",
       "      <th>GDP2014</th>\n",
       "      <th>TotalC2014</th>\n",
       "      <th>TotalP2014</th>\n",
       "    </tr>\n",
       "  </thead>\n",
       "  <tbody>\n",
       "    <tr>\n",
       "      <th>count</th>\n",
       "      <td>51.000000</td>\n",
       "      <td>5.100000e+01</td>\n",
       "      <td>5.100000e+01</td>\n",
       "      <td>5.100000e+01</td>\n",
       "      <td>5.100000e+01</td>\n",
       "    </tr>\n",
       "    <tr>\n",
       "      <th>mean</th>\n",
       "      <td>2.666667</td>\n",
       "      <td>6.252099e+06</td>\n",
       "      <td>3.379047e+05</td>\n",
       "      <td>1.929544e+06</td>\n",
       "      <td>1.622712e+06</td>\n",
       "    </tr>\n",
       "    <tr>\n",
       "      <th>std</th>\n",
       "      <td>1.051982</td>\n",
       "      <td>7.124005e+06</td>\n",
       "      <td>4.225183e+05</td>\n",
       "      <td>2.126122e+06</td>\n",
       "      <td>2.882341e+06</td>\n",
       "    </tr>\n",
       "    <tr>\n",
       "      <th>min</th>\n",
       "      <td>1.000000</td>\n",
       "      <td>5.841530e+05</td>\n",
       "      <td>2.966175e+04</td>\n",
       "      <td>1.398970e+05</td>\n",
       "      <td>3.600000e+02</td>\n",
       "    </tr>\n",
       "    <tr>\n",
       "      <th>25%</th>\n",
       "      <td>2.000000</td>\n",
       "      <td>1.742395e+06</td>\n",
       "      <td>8.560812e+04</td>\n",
       "      <td>6.501755e+05</td>\n",
       "      <td>2.499235e+05</td>\n",
       "    </tr>\n",
       "    <tr>\n",
       "      <th>50%</th>\n",
       "      <td>3.000000</td>\n",
       "      <td>4.413457e+06</td>\n",
       "      <td>1.975345e+05</td>\n",
       "      <td>1.437640e+06</td>\n",
       "      <td>6.751100e+05</td>\n",
       "    </tr>\n",
       "    <tr>\n",
       "      <th>75%</th>\n",
       "      <td>3.500000</td>\n",
       "      <td>6.903469e+06</td>\n",
       "      <td>4.349939e+05</td>\n",
       "      <td>2.385196e+06</td>\n",
       "      <td>1.511248e+06</td>\n",
       "    </tr>\n",
       "    <tr>\n",
       "      <th>max</th>\n",
       "      <td>4.000000</td>\n",
       "      <td>3.880250e+07</td>\n",
       "      <td>2.324996e+06</td>\n",
       "      <td>1.289950e+07</td>\n",
       "      <td>1.759710e+07</td>\n",
       "    </tr>\n",
       "  </tbody>\n",
       "</table>\n",
       "</div>"
      ],
      "text/plain": [
       "          Region  POPESTIMATE2014       GDP2014    TotalC2014    TotalP2014\n",
       "count  51.000000     5.100000e+01  5.100000e+01  5.100000e+01  5.100000e+01\n",
       "mean    2.666667     6.252099e+06  3.379047e+05  1.929544e+06  1.622712e+06\n",
       "std     1.051982     7.124005e+06  4.225183e+05  2.126122e+06  2.882341e+06\n",
       "min     1.000000     5.841530e+05  2.966175e+04  1.398970e+05  3.600000e+02\n",
       "25%     2.000000     1.742395e+06  8.560812e+04  6.501755e+05  2.499235e+05\n",
       "50%     3.000000     4.413457e+06  1.975345e+05  1.437640e+06  6.751100e+05\n",
       "75%     3.500000     6.903469e+06  4.349939e+05  2.385196e+06  1.511248e+06\n",
       "max     4.000000     3.880250e+07  2.324996e+06  1.289950e+07  1.759710e+07"
      ]
     },
     "execution_count": 15,
     "metadata": {},
     "output_type": "execute_result"
    }
   ],
   "source": [
    "energy_2014.describe()"
   ]
  },
  {
   "cell_type": "code",
   "execution_count": 16,
   "metadata": {
    "ExecuteTime": {
     "end_time": "2019-05-16T22:39:48.042418Z",
     "start_time": "2019-05-16T22:39:14.549784Z"
    },
    "scrolled": true
   },
   "outputs": [],
   "source": [
    "lats = []\n",
    "longs = []\n",
    "for state in energy_2014.State:\n",
    "    if state == 'Washington':\n",
    "        location = geolocator.geocode('WA, USA')\n",
    "    elif state == 'New York':\n",
    "        location = geolocator.geocode('NY, USA')\n",
    "    else:\n",
    "        location = geolocator.geocode(state + ', USA')\n",
    "    lats.append(location.latitude)\n",
    "    longs.append(location.longitude)\n",
    "\n",
    "energy_2014['latitude'] = lats\n",
    "energy_2014['longitude'] = longs\n",
    "\n",
    "energy_2014['ratio'] = energy_2014.apply(lambda row: round(row.TotalC2014 / row.TotalP2014, 2), axis=1)"
   ]
  },
  {
   "cell_type": "code",
   "execution_count": 17,
   "metadata": {
    "ExecuteTime": {
     "end_time": "2019-05-16T22:39:48.054241Z",
     "start_time": "2019-05-16T22:39:48.044472Z"
    }
   },
   "outputs": [],
   "source": [
    "colors = [\"rgb(0,116,217)\",\"rgb(255,65,54)\",\"rgb(133,20,75)\",\"rgb(255,133,27)\",\"lightgrey\"]\n",
    "cities = []\n",
    "scale = 5000\n",
    "energy_2014['text'] = energy_2014['State']\\\n",
    "                      + '<br>GDP: $' + round(energy_2014['GDP2014']/1e6, 2).astype(str)\\\n",
    "                      + ' million' + '<br>Energy Ratio: ' + energy_2014['ratio'].astype(str)"
   ]
  },
  {
   "cell_type": "code",
   "execution_count": 18,
   "metadata": {
    "ExecuteTime": {
     "end_time": "2019-05-16T22:39:48.456157Z",
     "start_time": "2019-05-16T22:39:48.058028Z"
    }
   },
   "outputs": [
    {
     "data": {
      "application/vnd.plotly.v1+json": {
       "config": {
        "linkText": "Export to plot.ly",
        "plotlyServerURL": "https://plot.ly",
        "responsive": true,
        "showLink": false
       },
       "data": [
        {
         "lat": [
          33.2588817,
          64.4459613,
          34.395342,
          35.2048883,
          36.7014631,
          38.7251776,
          41.6500201,
          38.6920451,
          27.7567667,
          32.3293809,
          21.2160437,
          43.6447642,
          40.0796606,
          40.3270127,
          41.9216734,
          38.27312,
          37.5726028,
          30.8703881,
          45.709097,
          39.5162234,
          42.3788774,
          43.6211955,
          45.9896587,
          32.9715645,
          38.7604815,
          47.3752671,
          41.7370229,
          39.5158825,
          43.4849133,
          40.0757384,
          34.5708167,
          43.1561681,
          35.6729639,
          47.6201461,
          40.2253569,
          34.9550817,
          43.9792797,
          40.9699889,
          41.7962409,
          33.6874388,
          44.6471761,
          35.7730076,
          31.8160381,
          39.4225192,
          44.5990718,
          37.1232245,
          47.2868352,
          38.4758406,
          44.4308975,
          43.1700264,
          38.89366125
         ],
         "locationmode": "USA-states",
         "lon": [
          -86.8295337,
          -149.680909,
          -111.7632755,
          -92.4479108,
          -118.7559974,
          -105.6077167,
          -72.7342163,
          -75.4013315,
          -81.4639835,
          -83.1137366,
          -157.975203,
          -114.0154071,
          -89.4337288,
          -86.1746933,
          -93.3122705,
          -98.5821872,
          -85.1551411,
          -92.007126,
          -68.8590201,
          -76.9382069,
          -72.032366,
          -84.6824346,
          -94.6113288,
          -89.7348497,
          -92.5617875,
          -109.6387579,
          -99.5873816,
          -116.8537227,
          -71.6553992,
          -74.4041622,
          -105.993007,
          -75.8449946,
          -79.0392919,
          -100.540737,
          -82.6881395,
          -97.2684063,
          -120.737257,
          -77.7278831,
          -71.5992372,
          -80.4363743,
          -100.348761,
          -86.2820081,
          -99.5120986,
          -111.7143584,
          -72.5002608,
          -78.4927721,
          -120.2126139,
          -80.8408415,
          -89.6884637,
          -107.5685348,
          -76.987883253882
         ],
         "marker": {
          "cmax": 10,
          "cmin": 0,
          "color": [
           1.45,
           0.41,
           2.24,
           0.77,
           3.16,
           0.49,
           3.8,
           65.41,
           7.44,
           4.77,
           10.35,
           3.36,
           1.51,
           2.61,
           2.04,
           1.29,
           0.86,
           1.5,
           2.71,
           5.6,
           11.53,
           4.22,
           4.09,
           2.87,
           9.54,
           0.35,
           2.15,
           9.28,
           1.93,
           6.03,
           0.27,
           4.29,
           4.29,
           0.2,
           2.46,
           0.47,
           2.06,
           0.55,
           47.5,
           2.42,
           1.57,
           4.39,
           0.73,
           0.68,
           1.63,
           2.48,
           1.96,
           0.18,
           6.26,
           0.06,
           497.02
          ],
          "colorbar": {
           "tickmode": "array",
           "ticktext": [
            0,
            2,
            4,
            6,
            8,
            ">10"
           ],
           "tickvals": [
            0,
            2,
            4,
            6,
            8,
            10
           ],
           "title": {
            "text": "Consumption /<br>Production Ratio"
           }
          },
          "colorscale": "Bluered",
          "line": {
           "color": "rgb(40,40,40)",
           "width": 0.5
          },
          "showscale": true,
          "size": [
           39.5069,
           11.61335,
           56.31175,
           24.21295,
           464.9991,
           61.07335,
           50.15275,
           13.09695,
           167.1157,
           94.3759,
           15.28495,
           12.6728,
           148.40555,
           64.8578,
           34.143,
           29.3124,
           37.7036,
           49.15815,
           11.0058,
           70.0525,
           91.2546,
           89.44425,
           64.07625,
           20.9875,
           56.65605,
           8.93445,
           22.13265,
           26.81045,
           14.06905,
           109.07485,
           18.9583,
           277.15525,
           94.87105,
           11.646,
           117.76555,
           38.0341,
           40.6656,
           134.48265,
           11.01965,
           37.9311,
           9.12,
           60.00305,
           320.39535,
           28.113,
           5.93235,
           92.4486,
           84.5533,
           14.88655,
           58.66825,
           8.1751,
           23.30785
          ],
          "sizemode": "area"
         },
         "name": "GDP",
         "text": [
          "Alabama<br>GDP: $0.2 million<br>Energy Ratio: 1.45",
          "Alaska<br>GDP: $0.06 million<br>Energy Ratio: 0.41",
          "Arizona<br>GDP: $0.28 million<br>Energy Ratio: 2.24",
          "Arkansas<br>GDP: $0.12 million<br>Energy Ratio: 0.77",
          "California<br>GDP: $2.32 million<br>Energy Ratio: 3.16",
          "Colorado<br>GDP: $0.31 million<br>Energy Ratio: 0.49",
          "Connecticut<br>GDP: $0.25 million<br>Energy Ratio: 3.8",
          "Delaware<br>GDP: $0.07 million<br>Energy Ratio: 65.41",
          "Florida<br>GDP: $0.84 million<br>Energy Ratio: 7.44",
          "Georgia<br>GDP: $0.47 million<br>Energy Ratio: 4.77",
          "Hawaii<br>GDP: $0.08 million<br>Energy Ratio: 10.35",
          "Idaho<br>GDP: $0.06 million<br>Energy Ratio: 3.36",
          "Illinois<br>GDP: $0.74 million<br>Energy Ratio: 1.51",
          "Indiana<br>GDP: $0.32 million<br>Energy Ratio: 2.61",
          "Iowa<br>GDP: $0.17 million<br>Energy Ratio: 2.04",
          "Kansas<br>GDP: $0.15 million<br>Energy Ratio: 1.29",
          "Kentucky<br>GDP: $0.19 million<br>Energy Ratio: 0.86",
          "Louisiana<br>GDP: $0.25 million<br>Energy Ratio: 1.5",
          "Maine<br>GDP: $0.06 million<br>Energy Ratio: 2.71",
          "Maryland<br>GDP: $0.35 million<br>Energy Ratio: 5.6",
          "Massachusetts<br>GDP: $0.46 million<br>Energy Ratio: 11.53",
          "Michigan<br>GDP: $0.45 million<br>Energy Ratio: 4.22",
          "Minnesota<br>GDP: $0.32 million<br>Energy Ratio: 4.09",
          "Mississippi<br>GDP: $0.1 million<br>Energy Ratio: 2.87",
          "Missouri<br>GDP: $0.28 million<br>Energy Ratio: 9.54",
          "Montana<br>GDP: $0.04 million<br>Energy Ratio: 0.35",
          "Nebraska<br>GDP: $0.11 million<br>Energy Ratio: 2.15",
          "Nevada<br>GDP: $0.13 million<br>Energy Ratio: 9.28",
          "New Hampshire<br>GDP: $0.07 million<br>Energy Ratio: 1.93",
          "New Jersey<br>GDP: $0.55 million<br>Energy Ratio: 6.03",
          "New Mexico<br>GDP: $0.09 million<br>Energy Ratio: 0.27",
          "New York<br>GDP: $1.39 million<br>Energy Ratio: 4.29",
          "North Carolina<br>GDP: $0.47 million<br>Energy Ratio: 4.29",
          "North Dakota<br>GDP: $0.06 million<br>Energy Ratio: 0.2",
          "Ohio<br>GDP: $0.59 million<br>Energy Ratio: 2.46",
          "Oklahoma<br>GDP: $0.19 million<br>Energy Ratio: 0.47",
          "Oregon<br>GDP: $0.2 million<br>Energy Ratio: 2.06",
          "Pennsylvania<br>GDP: $0.67 million<br>Energy Ratio: 0.55",
          "Rhode Island<br>GDP: $0.06 million<br>Energy Ratio: 47.5",
          "South Carolina<br>GDP: $0.19 million<br>Energy Ratio: 2.42",
          "South Dakota<br>GDP: $0.05 million<br>Energy Ratio: 1.57",
          "Tennessee<br>GDP: $0.3 million<br>Energy Ratio: 4.39",
          "Texas<br>GDP: $1.6 million<br>Energy Ratio: 0.73",
          "Utah<br>GDP: $0.14 million<br>Energy Ratio: 0.68",
          "Vermont<br>GDP: $0.03 million<br>Energy Ratio: 1.63",
          "Virginia<br>GDP: $0.46 million<br>Energy Ratio: 2.48",
          "Washington<br>GDP: $0.42 million<br>Energy Ratio: 1.96",
          "West Virginia<br>GDP: $0.07 million<br>Energy Ratio: 0.18",
          "Wisconsin<br>GDP: $0.29 million<br>Energy Ratio: 6.26",
          "Wyoming<br>GDP: $0.04 million<br>Energy Ratio: 0.06",
          "District of Columbia<br>GDP: $0.12 million<br>Energy Ratio: 497.02"
         ],
         "type": "scattergeo",
         "uid": "c3b9e37d-20b5-4e40-b83a-2dd7b959a5c9"
        }
       ],
       "layout": {
        "geo": {
         "countrycolor": "rgb(255, 255, 255)",
         "countrywidth": 1,
         "landcolor": "rgb(217, 217, 217)",
         "projection": {
          "type": "albers usa"
         },
         "scope": "usa",
         "showland": true,
         "subunitcolor": "rgb(255, 255, 255)",
         "subunitwidth": 1
        },
        "legend": {
         "x": 0
        },
        "showlegend": true,
        "title": {
         "text": "2014 US Energy Consumption / Production Ratio & GDP"
        }
       }
      },
      "text/html": [
       "<div>\n",
       "        \n",
       "        \n",
       "            <div id=\"dac9b3c7-a1af-42f3-a188-e7ecd03d3f92\" class=\"plotly-graph-div\"></div>\n",
       "            <script type=\"text/javascript\">\n",
       "                require([\"plotly\"], function(Plotly) {\n",
       "                    window.PLOTLYENV=window.PLOTLYENV || {};\n",
       "                    window.PLOTLYENV.BASE_URL='https://plot.ly';\n",
       "                    \n",
       "                if (document.getElementById(\"dac9b3c7-a1af-42f3-a188-e7ecd03d3f92\")) {\n",
       "                    Plotly.newPlot(\n",
       "                        'dac9b3c7-a1af-42f3-a188-e7ecd03d3f92',\n",
       "                        [{\"lat\": [33.2588817, 64.4459613, 34.395342, 35.2048883, 36.7014631, 38.7251776, 41.6500201, 38.6920451, 27.7567667, 32.3293809, 21.2160437, 43.6447642, 40.0796606, 40.3270127, 41.9216734, 38.27312, 37.5726028, 30.8703881, 45.709097, 39.5162234, 42.3788774, 43.6211955, 45.9896587, 32.9715645, 38.7604815, 47.3752671, 41.7370229, 39.5158825, 43.4849133, 40.0757384, 34.5708167, 43.1561681, 35.6729639, 47.6201461, 40.2253569, 34.9550817, 43.9792797, 40.9699889, 41.7962409, 33.6874388, 44.6471761, 35.7730076, 31.8160381, 39.4225192, 44.5990718, 37.1232245, 47.2868352, 38.4758406, 44.4308975, 43.1700264, 38.89366125], \"locationmode\": \"USA-states\", \"lon\": [-86.8295337, -149.680909, -111.7632755, -92.4479108, -118.7559974, -105.6077167, -72.7342163, -75.4013315, -81.4639835, -83.1137366, -157.975203, -114.0154071, -89.4337288, -86.1746933, -93.3122705, -98.5821872, -85.1551411, -92.007126, -68.8590201, -76.9382069, -72.032366, -84.6824346, -94.6113288, -89.7348497, -92.5617875, -109.6387579, -99.5873816, -116.8537227, -71.6553992, -74.4041622, -105.993007, -75.8449946, -79.0392919, -100.540737, -82.6881395, -97.2684063, -120.737257, -77.7278831, -71.5992372, -80.4363743, -100.348761, -86.2820081, -99.5120986, -111.7143584, -72.5002608, -78.4927721, -120.2126139, -80.8408415, -89.6884637, -107.5685348, -76.987883253882], \"marker\": {\"cmax\": 10, \"cmin\": 0, \"color\": [1.45, 0.41, 2.24, 0.77, 3.16, 0.49, 3.8, 65.41, 7.44, 4.77, 10.35, 3.36, 1.51, 2.61, 2.04, 1.29, 0.86, 1.5, 2.71, 5.6, 11.53, 4.22, 4.09, 2.87, 9.54, 0.35, 2.15, 9.28, 1.93, 6.03, 0.27, 4.29, 4.29, 0.2, 2.46, 0.47, 2.06, 0.55, 47.5, 2.42, 1.57, 4.39, 0.73, 0.68, 1.63, 2.48, 1.96, 0.18, 6.26, 0.06, 497.02], \"colorbar\": {\"tickmode\": \"array\", \"ticktext\": [0, 2, 4, 6, 8, \">10\"], \"tickvals\": [0, 2, 4, 6, 8, 10], \"title\": {\"text\": \"Consumption /<br>Production Ratio\"}}, \"colorscale\": \"Bluered\", \"line\": {\"color\": \"rgb(40,40,40)\", \"width\": 0.5}, \"showscale\": true, \"size\": [39.5069, 11.61335, 56.31175, 24.21295, 464.9991, 61.07335, 50.15275, 13.09695, 167.1157, 94.3759, 15.28495, 12.6728, 148.40555, 64.8578, 34.143, 29.3124, 37.7036, 49.15815, 11.0058, 70.0525, 91.2546, 89.44425, 64.07625, 20.9875, 56.65605, 8.93445, 22.13265, 26.81045, 14.06905, 109.07485, 18.9583, 277.15525, 94.87105, 11.646, 117.76555, 38.0341, 40.6656, 134.48265, 11.01965, 37.9311, 9.12, 60.00305, 320.39535, 28.113, 5.93235, 92.4486, 84.5533, 14.88655, 58.66825, 8.1751, 23.30785], \"sizemode\": \"area\"}, \"name\": \"GDP\", \"text\": [\"Alabama<br>GDP: $0.2 million<br>Energy Ratio: 1.45\", \"Alaska<br>GDP: $0.06 million<br>Energy Ratio: 0.41\", \"Arizona<br>GDP: $0.28 million<br>Energy Ratio: 2.24\", \"Arkansas<br>GDP: $0.12 million<br>Energy Ratio: 0.77\", \"California<br>GDP: $2.32 million<br>Energy Ratio: 3.16\", \"Colorado<br>GDP: $0.31 million<br>Energy Ratio: 0.49\", \"Connecticut<br>GDP: $0.25 million<br>Energy Ratio: 3.8\", \"Delaware<br>GDP: $0.07 million<br>Energy Ratio: 65.41\", \"Florida<br>GDP: $0.84 million<br>Energy Ratio: 7.44\", \"Georgia<br>GDP: $0.47 million<br>Energy Ratio: 4.77\", \"Hawaii<br>GDP: $0.08 million<br>Energy Ratio: 10.35\", \"Idaho<br>GDP: $0.06 million<br>Energy Ratio: 3.36\", \"Illinois<br>GDP: $0.74 million<br>Energy Ratio: 1.51\", \"Indiana<br>GDP: $0.32 million<br>Energy Ratio: 2.61\", \"Iowa<br>GDP: $0.17 million<br>Energy Ratio: 2.04\", \"Kansas<br>GDP: $0.15 million<br>Energy Ratio: 1.29\", \"Kentucky<br>GDP: $0.19 million<br>Energy Ratio: 0.86\", \"Louisiana<br>GDP: $0.25 million<br>Energy Ratio: 1.5\", \"Maine<br>GDP: $0.06 million<br>Energy Ratio: 2.71\", \"Maryland<br>GDP: $0.35 million<br>Energy Ratio: 5.6\", \"Massachusetts<br>GDP: $0.46 million<br>Energy Ratio: 11.53\", \"Michigan<br>GDP: $0.45 million<br>Energy Ratio: 4.22\", \"Minnesota<br>GDP: $0.32 million<br>Energy Ratio: 4.09\", \"Mississippi<br>GDP: $0.1 million<br>Energy Ratio: 2.87\", \"Missouri<br>GDP: $0.28 million<br>Energy Ratio: 9.54\", \"Montana<br>GDP: $0.04 million<br>Energy Ratio: 0.35\", \"Nebraska<br>GDP: $0.11 million<br>Energy Ratio: 2.15\", \"Nevada<br>GDP: $0.13 million<br>Energy Ratio: 9.28\", \"New Hampshire<br>GDP: $0.07 million<br>Energy Ratio: 1.93\", \"New Jersey<br>GDP: $0.55 million<br>Energy Ratio: 6.03\", \"New Mexico<br>GDP: $0.09 million<br>Energy Ratio: 0.27\", \"New York<br>GDP: $1.39 million<br>Energy Ratio: 4.29\", \"North Carolina<br>GDP: $0.47 million<br>Energy Ratio: 4.29\", \"North Dakota<br>GDP: $0.06 million<br>Energy Ratio: 0.2\", \"Ohio<br>GDP: $0.59 million<br>Energy Ratio: 2.46\", \"Oklahoma<br>GDP: $0.19 million<br>Energy Ratio: 0.47\", \"Oregon<br>GDP: $0.2 million<br>Energy Ratio: 2.06\", \"Pennsylvania<br>GDP: $0.67 million<br>Energy Ratio: 0.55\", \"Rhode Island<br>GDP: $0.06 million<br>Energy Ratio: 47.5\", \"South Carolina<br>GDP: $0.19 million<br>Energy Ratio: 2.42\", \"South Dakota<br>GDP: $0.05 million<br>Energy Ratio: 1.57\", \"Tennessee<br>GDP: $0.3 million<br>Energy Ratio: 4.39\", \"Texas<br>GDP: $1.6 million<br>Energy Ratio: 0.73\", \"Utah<br>GDP: $0.14 million<br>Energy Ratio: 0.68\", \"Vermont<br>GDP: $0.03 million<br>Energy Ratio: 1.63\", \"Virginia<br>GDP: $0.46 million<br>Energy Ratio: 2.48\", \"Washington<br>GDP: $0.42 million<br>Energy Ratio: 1.96\", \"West Virginia<br>GDP: $0.07 million<br>Energy Ratio: 0.18\", \"Wisconsin<br>GDP: $0.29 million<br>Energy Ratio: 6.26\", \"Wyoming<br>GDP: $0.04 million<br>Energy Ratio: 0.06\", \"District of Columbia<br>GDP: $0.12 million<br>Energy Ratio: 497.02\"], \"type\": \"scattergeo\", \"uid\": \"948a13cf-ae0b-44bc-b008-9c98fcb40085\"}],\n",
       "                        {\"geo\": {\"countrycolor\": \"rgb(255, 255, 255)\", \"countrywidth\": 1, \"landcolor\": \"rgb(217, 217, 217)\", \"projection\": {\"type\": \"albers usa\"}, \"scope\": \"usa\", \"showland\": true, \"subunitcolor\": \"rgb(255, 255, 255)\", \"subunitwidth\": 1}, \"legend\": {\"x\": 0}, \"showlegend\": true, \"title\": {\"text\": \"2014 US Energy Consumption / Production Ratio & GDP\"}},\n",
       "                        {\"showLink\": false, \"linkText\": \"Export to plot.ly\", \"plotlyServerURL\": \"https://plot.ly\", \"responsive\": true}\n",
       "                    )\n",
       "                };\n",
       "                });\n",
       "            </script>\n",
       "        </div>"
      ]
     },
     "metadata": {},
     "output_type": "display_data"
    }
   ],
   "source": [
    "states = go.Scattergeo(\n",
    "    locationmode = 'USA-states',\n",
    "    lon = energy_2014['longitude'],\n",
    "    lat = energy_2014['latitude'],\n",
    "    text = energy_2014['text'],\n",
    "    name = 'GDP',\n",
    "    marker = go.scattergeo.Marker(\n",
    "        size = energy_2014['GDP2014'] / scale,\n",
    "        color = energy_2014['ratio'],\n",
    "        colorscale = 'Bluered',\n",
    "        cmax = 10,\n",
    "        cmin = 0,\n",
    "        colorbar = dict(title = 'Consumption /<br>Production Ratio',\n",
    "                       tickmode = 'array',\n",
    "                       tickvals = list(range(0, 11, 2)),\n",
    "                       ticktext = [0, 2, 4, 6, 8, '>10']),\n",
    "        showscale = True,\n",
    "        line = go.scattergeo.marker.Line(\n",
    "            width=0.5, color='rgb(40,40,40)'\n",
    "        ),\n",
    "        sizemode = 'area',\n",
    "    ))\n",
    "\n",
    "layout = go.Layout(\n",
    "        title = go.layout.Title(\n",
    "            text = '2014 US Energy Consumption / Production Ratio & GDP'\n",
    "        ),\n",
    "        showlegend = True,\n",
    "        legend = dict(x=0),\n",
    "        geo = go.layout.Geo(\n",
    "            scope = 'usa',\n",
    "            projection = go.layout.geo.Projection(\n",
    "                type='albers usa'\n",
    "            ),\n",
    "            showland = True,\n",
    "            landcolor = 'rgb(217, 217, 217)',\n",
    "            subunitwidth=1,\n",
    "            countrywidth=1,\n",
    "            subunitcolor=\"rgb(255, 255, 255)\",\n",
    "            countrycolor=\"rgb(255, 255, 255)\"\n",
    "        )\n",
    "    )\n",
    "\n",
    "fig = go.Figure(data=[states], layout=layout)\n",
    "iplot(fig, filename='d3-bubble-map-populations')"
   ]
  },
  {
   "cell_type": "code",
   "execution_count": 19,
   "metadata": {
    "ExecuteTime": {
     "end_time": "2019-05-16T22:39:48.651234Z",
     "start_time": "2019-05-16T22:39:48.457420Z"
    }
   },
   "outputs": [
    {
     "data": {
      "text/plain": [
       "'energy-consumption.html'"
      ]
     },
     "execution_count": 19,
     "metadata": {},
     "output_type": "execute_result"
    }
   ],
   "source": [
    "plot(fig, filename='energy-consumption.html')"
   ]
  },
  {
   "cell_type": "markdown",
   "metadata": {},
   "source": [
    "# Choropleth Map"
   ]
  },
  {
   "cell_type": "code",
   "execution_count": 20,
   "metadata": {
    "ExecuteTime": {
     "end_time": "2019-05-16T22:39:48.659024Z",
     "start_time": "2019-05-16T22:39:48.654305Z"
    }
   },
   "outputs": [],
   "source": [
    "scl = [\n",
    "    [0.0, 'rgb(242,240,247)'],\n",
    "    [0.2, 'rgb(218,218,235)'],\n",
    "    [0.4, 'rgb(188,189,220)'],\n",
    "    [0.6, 'rgb(158,154,200)'],\n",
    "    [0.8, 'rgb(117,107,177)'],\n",
    "    [1.0, 'rgb(84,39,143)']\n",
    "]"
   ]
  },
  {
   "cell_type": "code",
   "execution_count": 21,
   "metadata": {
    "ExecuteTime": {
     "end_time": "2019-05-16T22:39:48.896097Z",
     "start_time": "2019-05-16T22:39:48.661469Z"
    }
   },
   "outputs": [
    {
     "data": {
      "application/vnd.plotly.v1+json": {
       "config": {
        "linkText": "Export to plot.ly",
        "plotlyServerURL": "https://plot.ly",
        "responsive": true,
        "showLink": false
       },
       "data": [
        {
         "autocolorscale": true,
         "colorbar": {
          "title": {
           "text": "Birth / Death Ratio"
          }
         },
         "locationmode": "USA-states",
         "locations": [
          "AL",
          "AK",
          "AZ",
          "AR",
          "CA",
          "CO",
          "CT",
          "DE",
          "FL",
          "GA",
          "HI",
          "ID",
          "IL",
          "IN",
          "IA",
          "KS",
          "KY",
          "LA",
          "ME",
          "MD",
          "MA",
          "MI",
          "MN",
          "MS",
          "MO",
          "MT",
          "NE",
          "NV",
          "NH",
          "NJ",
          "NM",
          "NY",
          "NC",
          "ND",
          "OH",
          "OK",
          "OR",
          "PA",
          "RI",
          "SC",
          "SD",
          "TN",
          "TX",
          "UT",
          "VT",
          "VA",
          "WA",
          "WV",
          "WI",
          "WY",
          "DC"
         ],
         "marker": {
          "line": {
           "color": "rgb(255,255,255)",
           "width": 2
          }
         },
         "text": [
          "Alabama",
          "Alaska",
          "Arizona",
          "Arkansas",
          "California",
          "Colorado",
          "Connecticut",
          "Delaware",
          "Florida",
          "Georgia",
          "Hawaii",
          "Idaho",
          "Illinois",
          "Indiana",
          "Iowa",
          "Kansas",
          "Kentucky",
          "Louisiana",
          "Maine",
          "Maryland",
          "Massachusetts",
          "Michigan",
          "Minnesota",
          "Mississippi",
          "Missouri",
          "Montana",
          "Nebraska",
          "Nevada",
          "New Hampshire",
          "New Jersey",
          "New Mexico",
          "New York",
          "North Carolina",
          "North Dakota",
          "Ohio",
          "Oklahoma",
          "Oregon",
          "Pennsylvania",
          "Rhode Island",
          "South Carolina",
          "South Dakota",
          "Tennessee",
          "Texas",
          "Utah",
          "Vermont",
          "Virginia",
          "Washington",
          "West Virginia",
          "Wisconsin",
          "Wyoming",
          "District of Columbia"
         ],
         "type": "choropleth",
         "uid": "c3932bb2-a453-4f14-a889-7e13fb78e532",
         "z": [
          1.17,
          2.64,
          1.3,
          1.68,
          1.98,
          1.93,
          1.23,
          1.35,
          1.15,
          1.71,
          1.67,
          1.97,
          1.52,
          1.43,
          1.4,
          1.67,
          1.29,
          1.45,
          0.96,
          1.54,
          1.33,
          1.25,
          1.74,
          1.29,
          1.34,
          1.35,
          1.77,
          1.62,
          1.14,
          1.44,
          1.59,
          1.56,
          1.43,
          1.83,
          1.24,
          1.41,
          1.36,
          1.1,
          1.14,
          1.3,
          1.77,
          1.3,
          2.17,
          3.36,
          1.15,
          1.66,
          1.68,
          0.94,
          1.4,
          1.69,
          1.85
         ]
        }
       ],
       "layout": {
        "geo": {
         "lakecolor": "rgb(255, 255, 255)",
         "projection": {
          "type": "albers usa"
         },
         "scope": "usa",
         "showlakes": true
        },
        "title": {
         "text": "2014 US Birth / Death Ratio"
        }
       }
      },
      "text/html": [
       "<div>\n",
       "        \n",
       "        \n",
       "            <div id=\"57a19589-b7be-4fe1-95cb-41676181ff55\" class=\"plotly-graph-div\"></div>\n",
       "            <script type=\"text/javascript\">\n",
       "                require([\"plotly\"], function(Plotly) {\n",
       "                    window.PLOTLYENV=window.PLOTLYENV || {};\n",
       "                    window.PLOTLYENV.BASE_URL='https://plot.ly';\n",
       "                    \n",
       "                if (document.getElementById(\"57a19589-b7be-4fe1-95cb-41676181ff55\")) {\n",
       "                    Plotly.newPlot(\n",
       "                        '57a19589-b7be-4fe1-95cb-41676181ff55',\n",
       "                        [{\"autocolorscale\": true, \"colorbar\": {\"title\": {\"text\": \"Birth / Death Ratio\"}}, \"locationmode\": \"USA-states\", \"locations\": [\"AL\", \"AK\", \"AZ\", \"AR\", \"CA\", \"CO\", \"CT\", \"DE\", \"FL\", \"GA\", \"HI\", \"ID\", \"IL\", \"IN\", \"IA\", \"KS\", \"KY\", \"LA\", \"ME\", \"MD\", \"MA\", \"MI\", \"MN\", \"MS\", \"MO\", \"MT\", \"NE\", \"NV\", \"NH\", \"NJ\", \"NM\", \"NY\", \"NC\", \"ND\", \"OH\", \"OK\", \"OR\", \"PA\", \"RI\", \"SC\", \"SD\", \"TN\", \"TX\", \"UT\", \"VT\", \"VA\", \"WA\", \"WV\", \"WI\", \"WY\", \"DC\"], \"marker\": {\"line\": {\"color\": \"rgb(255,255,255)\", \"width\": 2}}, \"text\": [\"Alabama\", \"Alaska\", \"Arizona\", \"Arkansas\", \"California\", \"Colorado\", \"Connecticut\", \"Delaware\", \"Florida\", \"Georgia\", \"Hawaii\", \"Idaho\", \"Illinois\", \"Indiana\", \"Iowa\", \"Kansas\", \"Kentucky\", \"Louisiana\", \"Maine\", \"Maryland\", \"Massachusetts\", \"Michigan\", \"Minnesota\", \"Mississippi\", \"Missouri\", \"Montana\", \"Nebraska\", \"Nevada\", \"New Hampshire\", \"New Jersey\", \"New Mexico\", \"New York\", \"North Carolina\", \"North Dakota\", \"Ohio\", \"Oklahoma\", \"Oregon\", \"Pennsylvania\", \"Rhode Island\", \"South Carolina\", \"South Dakota\", \"Tennessee\", \"Texas\", \"Utah\", \"Vermont\", \"Virginia\", \"Washington\", \"West Virginia\", \"Wisconsin\", \"Wyoming\", \"District of Columbia\"], \"type\": \"choropleth\", \"uid\": \"42eb6ec5-f764-419e-93b5-48c105eb563d\", \"z\": [1.17, 2.64, 1.3, 1.68, 1.98, 1.93, 1.23, 1.35, 1.15, 1.71, 1.67, 1.97, 1.52, 1.43, 1.4, 1.67, 1.29, 1.45, 0.96, 1.54, 1.33, 1.25, 1.74, 1.29, 1.34, 1.35, 1.77, 1.62, 1.14, 1.44, 1.59, 1.56, 1.43, 1.83, 1.24, 1.41, 1.36, 1.1, 1.14, 1.3, 1.77, 1.3, 2.17, 3.36, 1.15, 1.66, 1.68, 0.94, 1.4, 1.69, 1.85]}],\n",
       "                        {\"geo\": {\"lakecolor\": \"rgb(255, 255, 255)\", \"projection\": {\"type\": \"albers usa\"}, \"scope\": \"usa\", \"showlakes\": true}, \"title\": {\"text\": \"2014 US Birth / Death Ratio\"}},\n",
       "                        {\"showLink\": false, \"linkText\": \"Export to plot.ly\", \"plotlyServerURL\": \"https://plot.ly\", \"responsive\": true}\n",
       "                    )\n",
       "                };\n",
       "                });\n",
       "            </script>\n",
       "        </div>"
      ]
     },
     "metadata": {},
     "output_type": "display_data"
    }
   ],
   "source": [
    "data = [go.Choropleth(\n",
    "    autocolorscale = True,\n",
    "    locations = energy['StateCodes'],\n",
    "    z = round(energy['RBIRTH2014'] / energy['RDEATH2014'], 2),\n",
    "    locationmode = 'USA-states',\n",
    "    text = energy['State'],\n",
    "    marker = go.choropleth.Marker(\n",
    "        line = go.choropleth.marker.Line(\n",
    "            color = 'rgb(255,255,255)',\n",
    "            width = 2\n",
    "        )),\n",
    "    colorbar = go.choropleth.ColorBar(\n",
    "        title = \"Birth / Death Ratio\")\n",
    ")]\n",
    "\n",
    "\n",
    "layout = go.Layout(\n",
    "    title = go.layout.Title(\n",
    "        text = '2014 US Birth / Death Ratio'\n",
    "    ),\n",
    "    geo = go.layout.Geo(\n",
    "        scope = 'usa',\n",
    "        projection = go.layout.geo.Projection(type = 'albers usa'),\n",
    "        showlakes = True,\n",
    "        lakecolor = 'rgb(255, 255, 255)'),\n",
    ")\n",
    "\n",
    "fig = go.Figure(data = data, layout = layout)\n",
    "iplot(fig, filename='birth_death_ratio')"
   ]
  },
  {
   "cell_type": "code",
   "execution_count": 22,
   "metadata": {
    "ExecuteTime": {
     "end_time": "2019-05-16T22:39:49.088449Z",
     "start_time": "2019-05-16T22:39:48.901933Z"
    }
   },
   "outputs": [
    {
     "data": {
      "text/plain": [
       "'birth-death-ratio.html'"
      ]
     },
     "execution_count": 22,
     "metadata": {},
     "output_type": "execute_result"
    }
   ],
   "source": [
    "plot(fig, filename='birth-death-ratio.html')"
   ]
  },
  {
   "cell_type": "markdown",
   "metadata": {},
   "source": [
    "# Connection Map"
   ]
  },
  {
   "cell_type": "code",
   "execution_count": 23,
   "metadata": {
    "ExecuteTime": {
     "end_time": "2019-05-16T22:39:49.104390Z",
     "start_time": "2019-05-16T22:39:49.092675Z"
    }
   },
   "outputs": [],
   "source": [
    "fossil_fuel = ['State', 'FossFuelC2013']\n",
    "energy_2013 = energy[fossil_fuel]\n",
    "\n",
    "energy_2013 = pd.concat([energy_2013, energy_2014[['latitude', 'longitude']]], axis=1)"
   ]
  },
  {
   "cell_type": "code",
   "execution_count": 24,
   "metadata": {
    "ExecuteTime": {
     "end_time": "2019-05-16T22:39:49.146029Z",
     "start_time": "2019-05-16T22:39:49.107236Z"
    },
    "scrolled": true
   },
   "outputs": [
    {
     "data": {
      "text/html": [
       "<div>\n",
       "<style scoped>\n",
       "    .dataframe tbody tr th:only-of-type {\n",
       "        vertical-align: middle;\n",
       "    }\n",
       "\n",
       "    .dataframe tbody tr th {\n",
       "        vertical-align: top;\n",
       "    }\n",
       "\n",
       "    .dataframe thead th {\n",
       "        text-align: right;\n",
       "    }\n",
       "</style>\n",
       "<table border=\"1\" class=\"dataframe\">\n",
       "  <thead>\n",
       "    <tr style=\"text-align: right;\">\n",
       "      <th></th>\n",
       "      <th>State</th>\n",
       "      <th>FossFuelC2013</th>\n",
       "      <th>latitude</th>\n",
       "      <th>longitude</th>\n",
       "      <th>text</th>\n",
       "    </tr>\n",
       "  </thead>\n",
       "  <tbody>\n",
       "    <tr>\n",
       "      <th>0</th>\n",
       "      <td>District of Columbia</td>\n",
       "      <td>53357</td>\n",
       "      <td>38.893661</td>\n",
       "      <td>-76.987883</td>\n",
       "      <td>District of Columbia&lt;br&gt;Rank: 1&lt;br&gt;Fossil Fuel...</td>\n",
       "    </tr>\n",
       "    <tr>\n",
       "      <th>1</th>\n",
       "      <td>Vermont</td>\n",
       "      <td>89119</td>\n",
       "      <td>44.599072</td>\n",
       "      <td>-72.500261</td>\n",
       "      <td>Vermont&lt;br&gt;Rank: 2&lt;br&gt;Fossil Fuel Consumption:...</td>\n",
       "    </tr>\n",
       "    <tr>\n",
       "      <th>2</th>\n",
       "      <td>Rhode Island</td>\n",
       "      <td>171472</td>\n",
       "      <td>41.796241</td>\n",
       "      <td>-71.599237</td>\n",
       "      <td>Rhode Island&lt;br&gt;Rank: 3&lt;br&gt;Fossil Fuel Consump...</td>\n",
       "    </tr>\n",
       "    <tr>\n",
       "      <th>3</th>\n",
       "      <td>Delaware</td>\n",
       "      <td>213411</td>\n",
       "      <td>38.692045</td>\n",
       "      <td>-75.401331</td>\n",
       "      <td>Delaware&lt;br&gt;Rank: 4&lt;br&gt;Fossil Fuel Consumption...</td>\n",
       "    </tr>\n",
       "    <tr>\n",
       "      <th>4</th>\n",
       "      <td>New Hampshire</td>\n",
       "      <td>214922</td>\n",
       "      <td>43.484913</td>\n",
       "      <td>-71.655399</td>\n",
       "      <td>New Hampshire&lt;br&gt;Rank: 5&lt;br&gt;Fossil Fuel Consum...</td>\n",
       "    </tr>\n",
       "  </tbody>\n",
       "</table>\n",
       "</div>"
      ],
      "text/plain": [
       "                  State  FossFuelC2013   latitude  longitude  \\\n",
       "0  District of Columbia          53357  38.893661 -76.987883   \n",
       "1               Vermont          89119  44.599072 -72.500261   \n",
       "2          Rhode Island         171472  41.796241 -71.599237   \n",
       "3              Delaware         213411  38.692045 -75.401331   \n",
       "4         New Hampshire         214922  43.484913 -71.655399   \n",
       "\n",
       "                                                text  \n",
       "0  District of Columbia<br>Rank: 1<br>Fossil Fuel...  \n",
       "1  Vermont<br>Rank: 2<br>Fossil Fuel Consumption:...  \n",
       "2  Rhode Island<br>Rank: 3<br>Fossil Fuel Consump...  \n",
       "3  Delaware<br>Rank: 4<br>Fossil Fuel Consumption...  \n",
       "4  New Hampshire<br>Rank: 5<br>Fossil Fuel Consum...  "
      ]
     },
     "execution_count": 24,
     "metadata": {},
     "output_type": "execute_result"
    }
   ],
   "source": [
    "energy_2013.sort_values('FossFuelC2013', inplace=True)\n",
    "energy_2013.reset_index(drop=True, inplace=True)\n",
    "\n",
    "energy_2013['text'] = energy_2013['State']\\\n",
    "                      + '<br>Rank: ' + (energy_2013.index + 1).astype(str)\\\n",
    "                      + '<br>Fossil Fuel Consumption: <br>' + round(energy_2013['FossFuelC2013'], 2).astype(str)\\\n",
    "                      + ' Billion BTU'\n",
    "\n",
    "energy_2013.head()"
   ]
  },
  {
   "cell_type": "code",
   "execution_count": 25,
   "metadata": {
    "ExecuteTime": {
     "end_time": "2019-05-16T22:39:50.235946Z",
     "start_time": "2019-05-16T22:39:49.149146Z"
    }
   },
   "outputs": [
    {
     "data": {
      "application/vnd.plotly.v1+json": {
       "config": {
        "linkText": "Export to plot.ly",
        "plotlyServerURL": "https://plot.ly",
        "responsive": true,
        "showLink": false
       },
       "data": [
        {
         "lat": [
          38.89366125,
          44.5990718
         ],
         "line": {
          "color": "#0C0786",
          "width": 2
         },
         "locationmode": "USA-states",
         "lon": [
          -76.987883253882,
          -72.5002608
         ],
         "mode": "lines",
         "type": "scattergeo",
         "uid": "6d0b7fc1-92e8-4d6c-ac16-fbbdc460e941"
        },
        {
         "lat": [
          44.5990718,
          41.7962409
         ],
         "line": {
          "color": "#1B068C",
          "width": 2
         },
         "locationmode": "USA-states",
         "lon": [
          -72.5002608,
          -71.5992372
         ],
         "mode": "lines",
         "type": "scattergeo",
         "uid": "949eb213-bac0-4ada-a6a7-79fe6b3a309b"
        },
        {
         "lat": [
          41.7962409,
          38.6920451
         ],
         "line": {
          "color": "#250591",
          "width": 2
         },
         "locationmode": "USA-states",
         "lon": [
          -71.5992372,
          -75.4013315
         ],
         "mode": "lines",
         "type": "scattergeo",
         "uid": "50e9ff5a-eaec-4767-a588-b3a149928a56"
        },
        {
         "lat": [
          38.6920451,
          43.4849133
         ],
         "line": {
          "color": "#2F0495",
          "width": 2
         },
         "locationmode": "USA-states",
         "lon": [
          -75.4013315,
          -71.6553992
         ],
         "mode": "lines",
         "type": "scattergeo",
         "uid": "3d50566c-ca8b-49f2-a470-56a21396b081"
        },
        {
         "lat": [
          43.4849133,
          44.6471761
         ],
         "line": {
          "color": "#380499",
          "width": 2
         },
         "locationmode": "USA-states",
         "lon": [
          -71.6553992,
          -100.348761
         ],
         "mode": "lines",
         "type": "scattergeo",
         "uid": "2691af60-7399-47b1-b7b7-9858cd7550a3"
        },
        {
         "lat": [
          44.6471761,
          21.2160437
         ],
         "line": {
          "color": "#40039C",
          "width": 2
         },
         "locationmode": "USA-states",
         "lon": [
          -100.348761,
          -157.975203
         ],
         "mode": "lines",
         "type": "scattergeo",
         "uid": "79c0d887-ae09-4a12-86ca-53609a8bed62"
        },
        {
         "lat": [
          21.2160437,
          45.709097
         ],
         "line": {
          "color": "#49029F",
          "width": 2
         },
         "locationmode": "USA-states",
         "lon": [
          -157.975203,
          -68.8590201
         ],
         "mode": "lines",
         "type": "scattergeo",
         "uid": "263b351b-9626-48b5-b86c-70e27174df86"
        },
        {
         "lat": [
          45.709097,
          43.6447642
         ],
         "line": {
          "color": "#5101A2",
          "width": 2
         },
         "locationmode": "USA-states",
         "lon": [
          -68.8590201,
          -114.0154071
         ],
         "mode": "lines",
         "type": "scattergeo",
         "uid": "8bdb3172-fa14-4e48-bbe4-21d397831e75"
        },
        {
         "lat": [
          43.6447642,
          47.3752671
         ],
         "line": {
          "color": "#5901A4",
          "width": 2
         },
         "locationmode": "USA-states",
         "lon": [
          -114.0154071,
          -109.6387579
         ],
         "mode": "lines",
         "type": "scattergeo",
         "uid": "7df5be7a-fe8b-4c29-af02-1d9e1136020f"
        },
        {
         "lat": [
          47.3752671,
          41.6500201
         ],
         "line": {
          "color": "#6100A6",
          "width": 2
         },
         "locationmode": "USA-states",
         "lon": [
          -109.6387579,
          -72.7342163
         ],
         "mode": "lines",
         "type": "scattergeo",
         "uid": "c759ce9e-9a12-469d-bcf4-3208ccdc2c65"
        },
        {
         "lat": [
          41.6500201,
          39.5158825
         ],
         "line": {
          "color": "#6800A7",
          "width": 2
         },
         "locationmode": "USA-states",
         "lon": [
          -72.7342163,
          -116.8537227
         ],
         "mode": "lines",
         "type": "scattergeo",
         "uid": "2069e796-d890-4b1f-b4bb-c73ce51aee93"
        },
        {
         "lat": [
          39.5158825,
          64.4459613
         ],
         "line": {
          "color": "#7000A8",
          "width": 2
         },
         "locationmode": "USA-states",
         "lon": [
          -116.8537227,
          -149.680909
         ],
         "mode": "lines",
         "type": "scattergeo",
         "uid": "ca685ffa-a278-490e-834f-b9b7a773155c"
        },
        {
         "lat": [
          64.4459613,
          43.9792797
         ],
         "line": {
          "color": "#7801A8",
          "width": 2
         },
         "locationmode": "USA-states",
         "lon": [
          -149.680909,
          -120.737257
         ],
         "mode": "lines",
         "type": "scattergeo",
         "uid": "8bb15eac-3e17-4569-8ca0-e34f850b7758"
        },
        {
         "lat": [
          43.9792797,
          47.6201461
         ],
         "line": {
          "color": "#7F03A7",
          "width": 2
         },
         "locationmode": "USA-states",
         "lon": [
          -120.737257,
          -100.540737
         ],
         "mode": "lines",
         "type": "scattergeo",
         "uid": "059a27d8-0a49-46e8-9a93-50ddd459b083"
        },
        {
         "lat": [
          47.6201461,
          41.7370229
         ],
         "line": {
          "color": "#8607A6",
          "width": 2
         },
         "locationmode": "USA-states",
         "lon": [
          -100.540737,
          -99.5873816
         ],
         "mode": "lines",
         "type": "scattergeo",
         "uid": "f018756c-c2ea-4a6c-884d-0e4a6d1dc8a8"
        },
        {
         "lat": [
          41.7370229,
          34.5708167
         ],
         "line": {
          "color": "#8E0CA4",
          "width": 2
         },
         "locationmode": "USA-states",
         "lon": [
          -99.5873816,
          -105.993007
         ],
         "mode": "lines",
         "type": "scattergeo",
         "uid": "4e68cf4b-9736-4e92-a205-8b7e54749c1a"
        },
        {
         "lat": [
          34.5708167,
          43.1700264
         ],
         "line": {
          "color": "#9511A1",
          "width": 2
         },
         "locationmode": "USA-states",
         "lon": [
          -105.993007,
          -107.5685348
         ],
         "mode": "lines",
         "type": "scattergeo",
         "uid": "6d0ef2d4-d1f8-45f7-ac25-67f4e139c4aa"
        },
        {
         "lat": [
          43.1700264,
          39.5162234
         ],
         "line": {
          "color": "#9B179E",
          "width": 2
         },
         "locationmode": "USA-states",
         "lon": [
          -107.5685348,
          -76.9382069
         ],
         "mode": "lines",
         "type": "scattergeo",
         "uid": "dee70591-e843-4f7c-8738-181237ab734f"
        },
        {
         "lat": [
          39.5162234,
          39.4225192
         ],
         "line": {
          "color": "#A21C9A",
          "width": 2
         },
         "locationmode": "USA-states",
         "lon": [
          -76.9382069,
          -111.7143584
         ],
         "mode": "lines",
         "type": "scattergeo",
         "uid": "71685c99-afaf-49e3-bdd0-e28e89e74db4"
        },
        {
         "lat": [
          39.4225192,
          35.2048883
         ],
         "line": {
          "color": "#A82296",
          "width": 2
         },
         "locationmode": "USA-states",
         "lon": [
          -111.7143584,
          -92.4479108
         ],
         "mode": "lines",
         "type": "scattergeo",
         "uid": "59637e64-3e92-4bfc-b903-01af783e3b39"
        },
        {
         "lat": [
          35.2048883,
          32.9715645
         ],
         "line": {
          "color": "#AE2791",
          "width": 2
         },
         "locationmode": "USA-states",
         "lon": [
          -92.4479108,
          -89.7348497
         ],
         "mode": "lines",
         "type": "scattergeo",
         "uid": "8b289aa1-8d55-45d2-8986-4325d33fe0b6"
        },
        {
         "lat": [
          32.9715645,
          38.27312
         ],
         "line": {
          "color": "#B42D8D",
          "width": 2
         },
         "locationmode": "USA-states",
         "lon": [
          -89.7348497,
          -98.5821872
         ],
         "mode": "lines",
         "type": "scattergeo",
         "uid": "fbfef6c2-5170-4390-90f3-977f36cf7fb5"
        },
        {
         "lat": [
          38.27312,
          33.6874388
         ],
         "line": {
          "color": "#B93388",
          "width": 2
         },
         "locationmode": "USA-states",
         "lon": [
          -98.5821872,
          -80.4363743
         ],
         "mode": "lines",
         "type": "scattergeo",
         "uid": "e845a3bf-e06b-44a8-b51f-d732c3f57a3c"
        },
        {
         "lat": [
          33.6874388,
          42.3788774
         ],
         "line": {
          "color": "#BE3883",
          "width": 2
         },
         "locationmode": "USA-states",
         "lon": [
          -80.4363743,
          -72.032366
         ],
         "mode": "lines",
         "type": "scattergeo",
         "uid": "19778f1e-2b27-40a2-8ccb-4629c8e5cb81"
        },
        {
         "lat": [
          42.3788774,
          47.2868352
         ],
         "line": {
          "color": "#C33E7F",
          "width": 2
         },
         "locationmode": "USA-states",
         "lon": [
          -72.032366,
          -120.2126139
         ],
         "mode": "lines",
         "type": "scattergeo",
         "uid": "1f841961-29f5-465e-98dc-c421d93c7e30"
        },
        {
         "lat": [
          47.2868352,
          38.4758406
         ],
         "line": {
          "color": "#C8447A",
          "width": 2
         },
         "locationmode": "USA-states",
         "lon": [
          -120.2126139,
          -80.8408415
         ],
         "mode": "lines",
         "type": "scattergeo",
         "uid": "3176c5c9-d4fa-4c61-ab43-3fa1fd6607e8"
        },
        {
         "lat": [
          38.4758406,
          41.9216734
         ],
         "line": {
          "color": "#CD4975",
          "width": 2
         },
         "locationmode": "USA-states",
         "lon": [
          -80.8408415,
          -93.3122705
         ],
         "mode": "lines",
         "type": "scattergeo",
         "uid": "c2207ea6-c878-4f3c-bcec-2f6d34570b5b"
        },
        {
         "lat": [
          41.9216734,
          34.395342
         ],
         "line": {
          "color": "#D14F71",
          "width": 2
         },
         "locationmode": "USA-states",
         "lon": [
          -93.3122705,
          -111.7632755
         ],
         "mode": "lines",
         "type": "scattergeo",
         "uid": "f6160bdc-f160-46b2-9b4e-c16b27459c6c"
        },
        {
         "lat": [
          34.395342,
          38.7251776
         ],
         "line": {
          "color": "#D6556D",
          "width": 2
         },
         "locationmode": "USA-states",
         "lon": [
          -111.7632755,
          -105.6077167
         ],
         "mode": "lines",
         "type": "scattergeo",
         "uid": "efd55a08-87f1-40bf-ba70-2bc4bdd0bedf"
        },
        {
         "lat": [
          38.7251776,
          45.9896587
         ],
         "line": {
          "color": "#DA5A68",
          "width": 2
         },
         "locationmode": "USA-states",
         "lon": [
          -105.6077167,
          -94.6113288
         ],
         "mode": "lines",
         "type": "scattergeo",
         "uid": "52976ffd-963a-41ec-837e-3e3fd9b4aaeb"
        },
        {
         "lat": [
          45.9896587,
          35.7730076
         ],
         "line": {
          "color": "#DE6064",
          "width": 2
         },
         "locationmode": "USA-states",
         "lon": [
          -94.6113288,
          -86.2820081
         ],
         "mode": "lines",
         "type": "scattergeo",
         "uid": "00563b58-2d7b-433e-ba14-469c6554153e"
        },
        {
         "lat": [
          35.7730076,
          44.4308975
         ],
         "line": {
          "color": "#E26660",
          "width": 2
         },
         "locationmode": "USA-states",
         "lon": [
          -86.2820081,
          -89.6884637
         ],
         "mode": "lines",
         "type": "scattergeo",
         "uid": "5f5519f7-7782-4a98-a09e-8564a98ff842"
        },
        {
         "lat": [
          44.4308975,
          37.1232245
         ],
         "line": {
          "color": "#E56C5B",
          "width": 2
         },
         "locationmode": "USA-states",
         "lon": [
          -89.6884637,
          -78.4927721
         ],
         "mode": "lines",
         "type": "scattergeo",
         "uid": "fb78a8b2-1c63-45e0-8adb-08a2c622e8c4"
        },
        {
         "lat": [
          37.1232245,
          34.9550817
         ],
         "line": {
          "color": "#E97257",
          "width": 2
         },
         "locationmode": "USA-states",
         "lon": [
          -78.4927721,
          -97.2684063
         ],
         "mode": "lines",
         "type": "scattergeo",
         "uid": "fc73464e-cfb4-4e45-8a9b-0ee81cc25026"
        },
        {
         "lat": [
          34.9550817,
          38.7604815
         ],
         "line": {
          "color": "#EC7853",
          "width": 2
         },
         "locationmode": "USA-states",
         "lon": [
          -97.2684063,
          -92.5617875
         ],
         "mode": "lines",
         "type": "scattergeo",
         "uid": "30a9daed-a4d9-43b6-b6d6-2c8f49a9ed1c"
        },
        {
         "lat": [
          38.7604815,
          33.2588817
         ],
         "line": {
          "color": "#EF7E4E",
          "width": 2
         },
         "locationmode": "USA-states",
         "lon": [
          -92.5617875,
          -86.8295337
         ],
         "mode": "lines",
         "type": "scattergeo",
         "uid": "2f328143-be32-4eea-a4fc-d9896fa02126"
        },
        {
         "lat": [
          33.2588817,
          40.0757384
         ],
         "line": {
          "color": "#F2854A",
          "width": 2
         },
         "locationmode": "USA-states",
         "lon": [
          -86.8295337,
          -74.4041622
         ],
         "mode": "lines",
         "type": "scattergeo",
         "uid": "1ea72016-c418-40bc-b0b7-5748035a5d19"
        },
        {
         "lat": [
          40.0757384,
          35.6729639
         ],
         "line": {
          "color": "#F58B46",
          "width": 2
         },
         "locationmode": "USA-states",
         "lon": [
          -74.4041622,
          -79.0392919
         ],
         "mode": "lines",
         "type": "scattergeo",
         "uid": "48660ce5-a973-4687-89c5-966c43e94029"
        },
        {
         "lat": [
          35.6729639,
          37.5726028
         ],
         "line": {
          "color": "#F79241",
          "width": 2
         },
         "locationmode": "USA-states",
         "lon": [
          -79.0392919,
          -85.1551411
         ],
         "mode": "lines",
         "type": "scattergeo",
         "uid": "dcb3222d-abf9-4e8a-ae27-40df1306514e"
        },
        {
         "lat": [
          37.5726028,
          32.3293809
         ],
         "line": {
          "color": "#F9993D",
          "width": 2
         },
         "locationmode": "USA-states",
         "lon": [
          -85.1551411,
          -83.1137366
         ],
         "mode": "lines",
         "type": "scattergeo",
         "uid": "b058d43e-2580-4b7f-8dda-cdd40437f6d8"
        },
        {
         "lat": [
          32.3293809,
          43.6211955
         ],
         "line": {
          "color": "#FAA039",
          "width": 2
         },
         "locationmode": "USA-states",
         "lon": [
          -83.1137366,
          -84.6824346
         ],
         "mode": "lines",
         "type": "scattergeo",
         "uid": "efc3ac33-bfaa-4cfc-ab22-e5de0e1994c8"
        },
        {
         "lat": [
          43.6211955,
          43.1561681
         ],
         "line": {
          "color": "#FCA735",
          "width": 2
         },
         "locationmode": "USA-states",
         "lon": [
          -84.6824346,
          -75.8449946
         ],
         "mode": "lines",
         "type": "scattergeo",
         "uid": "6b66aa03-5418-4a1b-a6d2-35a29088ac5f"
        },
        {
         "lat": [
          43.1561681,
          40.3270127
         ],
         "line": {
          "color": "#FDAF31",
          "width": 2
         },
         "locationmode": "USA-states",
         "lon": [
          -75.8449946,
          -86.1746933
         ],
         "mode": "lines",
         "type": "scattergeo",
         "uid": "de847b8d-9aad-46af-9289-d81d5dc45e2b"
        },
        {
         "lat": [
          40.3270127,
          40.2253569
         ],
         "line": {
          "color": "#FDB62D",
          "width": 2
         },
         "locationmode": "USA-states",
         "lon": [
          -86.1746933,
          -82.6881395
         ],
         "mode": "lines",
         "type": "scattergeo",
         "uid": "6862ea14-7eba-4d62-8180-7976846395e6"
        },
        {
         "lat": [
          40.2253569,
          40.0796606
         ],
         "line": {
          "color": "#FDBE29",
          "width": 2
         },
         "locationmode": "USA-states",
         "lon": [
          -82.6881395,
          -89.4337288
         ],
         "mode": "lines",
         "type": "scattergeo",
         "uid": "452f34bf-081e-46e1-af32-2a3a4cf417b9"
        },
        {
         "lat": [
          40.0796606,
          27.7567667
         ],
         "line": {
          "color": "#FDC626",
          "width": 2
         },
         "locationmode": "USA-states",
         "lon": [
          -89.4337288,
          -81.4639835
         ],
         "mode": "lines",
         "type": "scattergeo",
         "uid": "67ced20c-585b-4741-9d8e-8dd063d11e1b"
        },
        {
         "lat": [
          27.7567667,
          40.9699889
         ],
         "line": {
          "color": "#FCCE25",
          "width": 2
         },
         "locationmode": "USA-states",
         "lon": [
          -81.4639835,
          -77.7278831
         ],
         "mode": "lines",
         "type": "scattergeo",
         "uid": "c77a5d4c-7089-4e67-9a15-a332d44f3709"
        },
        {
         "lat": [
          40.9699889,
          30.8703881
         ],
         "line": {
          "color": "#FAD624",
          "width": 2
         },
         "locationmode": "USA-states",
         "lon": [
          -77.7278831,
          -92.007126
         ],
         "mode": "lines",
         "type": "scattergeo",
         "uid": "11e1b2b9-c429-4bb5-bcb0-aff1018724cc"
        },
        {
         "lat": [
          30.8703881,
          36.7014631
         ],
         "line": {
          "color": "#F8DF24",
          "width": 2
         },
         "locationmode": "USA-states",
         "lon": [
          -92.007126,
          -118.7559974
         ],
         "mode": "lines",
         "type": "scattergeo",
         "uid": "9be6453f-09de-4f58-9592-3e5253120e17"
        },
        {
         "lat": [
          36.7014631,
          31.8160381
         ],
         "line": {
          "color": "#F5E726",
          "width": 2
         },
         "locationmode": "USA-states",
         "lon": [
          -118.7559974,
          -99.5120986
         ],
         "mode": "lines",
         "type": "scattergeo",
         "uid": "d8c0ff67-0d5b-4e24-a72a-8968c035725a"
        },
        {
         "lat": [
          38.89366125,
          44.5990718,
          41.7962409,
          38.6920451,
          43.4849133,
          44.6471761,
          21.2160437,
          45.709097,
          43.6447642,
          47.3752671,
          41.6500201,
          39.5158825,
          64.4459613,
          43.9792797,
          47.6201461,
          41.7370229,
          34.5708167,
          43.1700264,
          39.5162234,
          39.4225192,
          35.2048883,
          32.9715645,
          38.27312,
          33.6874388,
          42.3788774,
          47.2868352,
          38.4758406,
          41.9216734,
          34.395342,
          38.7251776,
          45.9896587,
          35.7730076,
          44.4308975,
          37.1232245,
          34.9550817,
          38.7604815,
          33.2588817,
          40.0757384,
          35.6729639,
          37.5726028,
          32.3293809,
          43.6211955,
          43.1561681,
          40.3270127,
          40.2253569,
          40.0796606,
          27.7567667,
          40.9699889,
          30.8703881,
          36.7014631,
          31.8160381
         ],
         "locationmode": "USA-states",
         "lon": [
          -76.987883253882,
          -72.5002608,
          -71.5992372,
          -75.4013315,
          -71.6553992,
          -100.348761,
          -157.975203,
          -68.8590201,
          -114.0154071,
          -109.6387579,
          -72.7342163,
          -116.8537227,
          -149.680909,
          -120.737257,
          -100.540737,
          -99.5873816,
          -105.993007,
          -107.5685348,
          -76.9382069,
          -111.7143584,
          -92.4479108,
          -89.7348497,
          -98.5821872,
          -80.4363743,
          -72.032366,
          -120.2126139,
          -80.8408415,
          -93.3122705,
          -111.7632755,
          -105.6077167,
          -94.6113288,
          -86.2820081,
          -89.6884637,
          -78.4927721,
          -97.2684063,
          -92.5617875,
          -86.8295337,
          -74.4041622,
          -79.0392919,
          -85.1551411,
          -83.1137366,
          -84.6824346,
          -75.8449946,
          -86.1746933,
          -82.6881395,
          -89.4337288,
          -81.4639835,
          -77.7278831,
          -92.007126,
          -118.7559974,
          -99.5120986
         ],
         "marker": {
          "cmax": 3000000,
          "cmin": 53357,
          "color": [
           53357,
           89119,
           171472,
           213411,
           214922,
           231578,
           252836,
           253371,
           270907,
           422138,
           560141,
           569355,
           600660,
           608017,
           701050,
           705960,
           741402,
           839683,
           847590,
           897843,
           936796,
           942046,
           963626,
           975757,
           1030817,
           1113069,
           1113141,
           1125533,
           1289119,
           1303825,
           1328816,
           1344036,
           1418732,
           1512226,
           1537652,
           1689057,
           1689491,
           1704155,
           1734549,
           1737960,
           1928374,
           2304114,
           2629451,
           2632450,
           3170468,
           3266060,
           3273949,
           3472175,
           3785289,
           5755210,
           11616497
          ],
          "colorbar": {
           "tickmode": "array",
           "ticktext": [
            "50k",
            "640k",
            "1.2M",
            "1.8M",
            "2.4M",
            ">3M"
           ],
           "tickvals": [
            53357,
            642686,
            1232015,
            1821344,
            2410673,
            3000002
           ],
           "title": {
            "text": "Consumption in Billion BTU"
           }
          },
          "colorscale": "Bluered",
          "line": {
           "color": "rgb(40,40,40)",
           "width": 0.5
          },
          "showscale": true,
          "size": 8,
          "sizemode": "area"
         },
         "name": "FosFuelC",
         "text": [
          "District of Columbia<br>Rank: 1<br>Fossil Fuel Consumption: <br>53357 Billion BTU",
          "Vermont<br>Rank: 2<br>Fossil Fuel Consumption: <br>89119 Billion BTU",
          "Rhode Island<br>Rank: 3<br>Fossil Fuel Consumption: <br>171472 Billion BTU",
          "Delaware<br>Rank: 4<br>Fossil Fuel Consumption: <br>213411 Billion BTU",
          "New Hampshire<br>Rank: 5<br>Fossil Fuel Consumption: <br>214922 Billion BTU",
          "South Dakota<br>Rank: 6<br>Fossil Fuel Consumption: <br>231578 Billion BTU",
          "Hawaii<br>Rank: 7<br>Fossil Fuel Consumption: <br>252836 Billion BTU",
          "Maine<br>Rank: 8<br>Fossil Fuel Consumption: <br>253371 Billion BTU",
          "Idaho<br>Rank: 9<br>Fossil Fuel Consumption: <br>270907 Billion BTU",
          "Montana<br>Rank: 10<br>Fossil Fuel Consumption: <br>422138 Billion BTU",
          "Connecticut<br>Rank: 11<br>Fossil Fuel Consumption: <br>560141 Billion BTU",
          "Nevada<br>Rank: 12<br>Fossil Fuel Consumption: <br>569355 Billion BTU",
          "Alaska<br>Rank: 13<br>Fossil Fuel Consumption: <br>600660 Billion BTU",
          "Oregon<br>Rank: 14<br>Fossil Fuel Consumption: <br>608017 Billion BTU",
          "North Dakota<br>Rank: 15<br>Fossil Fuel Consumption: <br>701050 Billion BTU",
          "Nebraska<br>Rank: 16<br>Fossil Fuel Consumption: <br>705960 Billion BTU",
          "New Mexico<br>Rank: 17<br>Fossil Fuel Consumption: <br>741402 Billion BTU",
          "Wyoming<br>Rank: 18<br>Fossil Fuel Consumption: <br>839683 Billion BTU",
          "Maryland<br>Rank: 19<br>Fossil Fuel Consumption: <br>847590 Billion BTU",
          "Utah<br>Rank: 20<br>Fossil Fuel Consumption: <br>897843 Billion BTU",
          "Arkansas<br>Rank: 21<br>Fossil Fuel Consumption: <br>936796 Billion BTU",
          "Mississippi<br>Rank: 22<br>Fossil Fuel Consumption: <br>942046 Billion BTU",
          "Kansas<br>Rank: 23<br>Fossil Fuel Consumption: <br>963626 Billion BTU",
          "South Carolina<br>Rank: 24<br>Fossil Fuel Consumption: <br>975757 Billion BTU",
          "Massachusetts<br>Rank: 25<br>Fossil Fuel Consumption: <br>1030817 Billion BTU",
          "Washington<br>Rank: 26<br>Fossil Fuel Consumption: <br>1113069 Billion BTU",
          "West Virginia<br>Rank: 27<br>Fossil Fuel Consumption: <br>1113141 Billion BTU",
          "Iowa<br>Rank: 28<br>Fossil Fuel Consumption: <br>1125533 Billion BTU",
          "Arizona<br>Rank: 29<br>Fossil Fuel Consumption: <br>1289119 Billion BTU",
          "Colorado<br>Rank: 30<br>Fossil Fuel Consumption: <br>1303825 Billion BTU",
          "Minnesota<br>Rank: 31<br>Fossil Fuel Consumption: <br>1328816 Billion BTU",
          "Tennessee<br>Rank: 32<br>Fossil Fuel Consumption: <br>1344036 Billion BTU",
          "Wisconsin<br>Rank: 33<br>Fossil Fuel Consumption: <br>1418732 Billion BTU",
          "Virginia<br>Rank: 34<br>Fossil Fuel Consumption: <br>1512226 Billion BTU",
          "Oklahoma<br>Rank: 35<br>Fossil Fuel Consumption: <br>1537652 Billion BTU",
          "Missouri<br>Rank: 36<br>Fossil Fuel Consumption: <br>1689057 Billion BTU",
          "Alabama<br>Rank: 37<br>Fossil Fuel Consumption: <br>1689491 Billion BTU",
          "New Jersey<br>Rank: 38<br>Fossil Fuel Consumption: <br>1704155 Billion BTU",
          "North Carolina<br>Rank: 39<br>Fossil Fuel Consumption: <br>1734549 Billion BTU",
          "Kentucky<br>Rank: 40<br>Fossil Fuel Consumption: <br>1737960 Billion BTU",
          "Georgia<br>Rank: 41<br>Fossil Fuel Consumption: <br>1928374 Billion BTU",
          "Michigan<br>Rank: 42<br>Fossil Fuel Consumption: <br>2304114 Billion BTU",
          "New York<br>Rank: 43<br>Fossil Fuel Consumption: <br>2629451 Billion BTU",
          "Indiana<br>Rank: 44<br>Fossil Fuel Consumption: <br>2632450 Billion BTU",
          "Ohio<br>Rank: 45<br>Fossil Fuel Consumption: <br>3170468 Billion BTU",
          "Illinois<br>Rank: 46<br>Fossil Fuel Consumption: <br>3266060 Billion BTU",
          "Florida<br>Rank: 47<br>Fossil Fuel Consumption: <br>3273949 Billion BTU",
          "Pennsylvania<br>Rank: 48<br>Fossil Fuel Consumption: <br>3472175 Billion BTU",
          "Louisiana<br>Rank: 49<br>Fossil Fuel Consumption: <br>3785289 Billion BTU",
          "California<br>Rank: 50<br>Fossil Fuel Consumption: <br>5755210 Billion BTU",
          "Texas<br>Rank: 51<br>Fossil Fuel Consumption: <br>11616497 Billion BTU"
         ],
         "type": "scattergeo",
         "uid": "f7560633-8877-4c3c-81fb-dc153eaf7ae0"
        }
       ],
       "layout": {
        "geo": {
         "countrycolor": "rgb(204, 204, 204)",
         "landcolor": "rgb(243, 243, 243)",
         "projection": {
          "type": "azimuthal equal area"
         },
         "scope": "north america",
         "showland": true
        },
        "showlegend": false,
        "title": {
         "text": "2013 US Fossil Fuel Consumption Ranking (Lowest to Highest)"
        }
       }
      },
      "text/html": [
       "<div>\n",
       "        \n",
       "        \n",
       "            <div id=\"0341723e-2389-443c-af8e-32f2a2513427\" class=\"plotly-graph-div\"></div>\n",
       "            <script type=\"text/javascript\">\n",
       "                require([\"plotly\"], function(Plotly) {\n",
       "                    window.PLOTLYENV=window.PLOTLYENV || {};\n",
       "                    window.PLOTLYENV.BASE_URL='https://plot.ly';\n",
       "                    \n",
       "                if (document.getElementById(\"0341723e-2389-443c-af8e-32f2a2513427\")) {\n",
       "                    Plotly.newPlot(\n",
       "                        '0341723e-2389-443c-af8e-32f2a2513427',\n",
       "                        [{\"lat\": [38.89366125, 44.5990718], \"line\": {\"color\": \"#0C0786\", \"width\": 2}, \"locationmode\": \"USA-states\", \"lon\": [-76.987883253882, -72.5002608], \"mode\": \"lines\", \"type\": \"scattergeo\", \"uid\": \"7e7890e4-d9a5-4d5f-98cc-7fbcf78c8e18\"}, {\"lat\": [44.5990718, 41.7962409], \"line\": {\"color\": \"#1B068C\", \"width\": 2}, \"locationmode\": \"USA-states\", \"lon\": [-72.5002608, -71.5992372], \"mode\": \"lines\", \"type\": \"scattergeo\", \"uid\": \"e77b6df4-24d6-4ca3-9196-4602a774f677\"}, {\"lat\": [41.7962409, 38.6920451], \"line\": {\"color\": \"#250591\", \"width\": 2}, \"locationmode\": \"USA-states\", \"lon\": [-71.5992372, -75.4013315], \"mode\": \"lines\", \"type\": \"scattergeo\", \"uid\": \"e957c5fa-e541-41bb-9312-cc409ff92085\"}, {\"lat\": [38.6920451, 43.4849133], \"line\": {\"color\": \"#2F0495\", \"width\": 2}, \"locationmode\": \"USA-states\", \"lon\": [-75.4013315, -71.6553992], \"mode\": \"lines\", \"type\": \"scattergeo\", \"uid\": \"02addd60-a8a1-490c-8d18-6f8e138da13d\"}, {\"lat\": [43.4849133, 44.6471761], \"line\": {\"color\": \"#380499\", \"width\": 2}, \"locationmode\": \"USA-states\", \"lon\": [-71.6553992, -100.348761], \"mode\": \"lines\", \"type\": \"scattergeo\", \"uid\": \"7bd7cd02-3655-4790-b3e4-6ab5805e62eb\"}, {\"lat\": [44.6471761, 21.2160437], \"line\": {\"color\": \"#40039C\", \"width\": 2}, \"locationmode\": \"USA-states\", \"lon\": [-100.348761, -157.975203], \"mode\": \"lines\", \"type\": \"scattergeo\", \"uid\": \"d427f537-d6b2-405f-a7e1-01b36a9d8b8c\"}, {\"lat\": [21.2160437, 45.709097], \"line\": {\"color\": \"#49029F\", \"width\": 2}, \"locationmode\": \"USA-states\", \"lon\": [-157.975203, -68.8590201], \"mode\": \"lines\", \"type\": \"scattergeo\", \"uid\": \"5e0ea2eb-e35b-4d3a-86ab-10a9eeecaa89\"}, {\"lat\": [45.709097, 43.6447642], \"line\": {\"color\": \"#5101A2\", \"width\": 2}, \"locationmode\": \"USA-states\", \"lon\": [-68.8590201, -114.0154071], \"mode\": \"lines\", \"type\": \"scattergeo\", \"uid\": \"c66684b1-e697-4c57-8777-fd50b95d60a4\"}, {\"lat\": [43.6447642, 47.3752671], \"line\": {\"color\": \"#5901A4\", \"width\": 2}, \"locationmode\": \"USA-states\", \"lon\": [-114.0154071, -109.6387579], \"mode\": \"lines\", \"type\": \"scattergeo\", \"uid\": \"94a51891-3e95-414a-b686-da95c47c8a3a\"}, {\"lat\": [47.3752671, 41.6500201], \"line\": {\"color\": \"#6100A6\", \"width\": 2}, \"locationmode\": \"USA-states\", \"lon\": [-109.6387579, -72.7342163], \"mode\": \"lines\", \"type\": \"scattergeo\", \"uid\": \"46c564b6-952f-4935-a796-7fe3893791c3\"}, {\"lat\": [41.6500201, 39.5158825], \"line\": {\"color\": \"#6800A7\", \"width\": 2}, \"locationmode\": \"USA-states\", \"lon\": [-72.7342163, -116.8537227], \"mode\": \"lines\", \"type\": \"scattergeo\", \"uid\": \"849452a4-365c-49eb-88f1-fc146af8f0ec\"}, {\"lat\": [39.5158825, 64.4459613], \"line\": {\"color\": \"#7000A8\", \"width\": 2}, \"locationmode\": \"USA-states\", \"lon\": [-116.8537227, -149.680909], \"mode\": \"lines\", \"type\": \"scattergeo\", \"uid\": \"e6f37cfb-0586-47f8-9de2-e3519d7acf09\"}, {\"lat\": [64.4459613, 43.9792797], \"line\": {\"color\": \"#7801A8\", \"width\": 2}, \"locationmode\": \"USA-states\", \"lon\": [-149.680909, -120.737257], \"mode\": \"lines\", \"type\": \"scattergeo\", \"uid\": \"9b866dad-21ab-4036-9d96-f2a2f0db8508\"}, {\"lat\": [43.9792797, 47.6201461], \"line\": {\"color\": \"#7F03A7\", \"width\": 2}, \"locationmode\": \"USA-states\", \"lon\": [-120.737257, -100.540737], \"mode\": \"lines\", \"type\": \"scattergeo\", \"uid\": \"125e9cd0-c812-4f72-8b4d-1e323cbc268a\"}, {\"lat\": [47.6201461, 41.7370229], \"line\": {\"color\": \"#8607A6\", \"width\": 2}, \"locationmode\": \"USA-states\", \"lon\": [-100.540737, -99.5873816], \"mode\": \"lines\", \"type\": \"scattergeo\", \"uid\": \"e8bf3b43-8058-4af6-9695-55c59e38d8ad\"}, {\"lat\": [41.7370229, 34.5708167], \"line\": {\"color\": \"#8E0CA4\", \"width\": 2}, \"locationmode\": \"USA-states\", \"lon\": [-99.5873816, -105.993007], \"mode\": \"lines\", \"type\": \"scattergeo\", \"uid\": \"04123d40-c46c-44c3-b253-ac6956d33280\"}, {\"lat\": [34.5708167, 43.1700264], \"line\": {\"color\": \"#9511A1\", \"width\": 2}, \"locationmode\": \"USA-states\", \"lon\": [-105.993007, -107.5685348], \"mode\": \"lines\", \"type\": \"scattergeo\", \"uid\": \"772f85e0-c09a-4b82-a30c-c391df8c46fd\"}, {\"lat\": [43.1700264, 39.5162234], \"line\": {\"color\": \"#9B179E\", \"width\": 2}, \"locationmode\": \"USA-states\", \"lon\": [-107.5685348, -76.9382069], \"mode\": \"lines\", \"type\": \"scattergeo\", \"uid\": \"cb666bc3-dc8d-424d-9913-73d0f8c26daf\"}, {\"lat\": [39.5162234, 39.4225192], \"line\": {\"color\": \"#A21C9A\", \"width\": 2}, \"locationmode\": \"USA-states\", \"lon\": [-76.9382069, -111.7143584], \"mode\": \"lines\", \"type\": \"scattergeo\", \"uid\": \"999124de-e4c2-4ef4-86ad-2fa8d87526f9\"}, {\"lat\": [39.4225192, 35.2048883], \"line\": {\"color\": \"#A82296\", \"width\": 2}, \"locationmode\": \"USA-states\", \"lon\": [-111.7143584, -92.4479108], \"mode\": \"lines\", \"type\": \"scattergeo\", \"uid\": \"736d71fa-0330-416a-9e9d-1584dc812b96\"}, {\"lat\": [35.2048883, 32.9715645], \"line\": {\"color\": \"#AE2791\", \"width\": 2}, \"locationmode\": \"USA-states\", \"lon\": [-92.4479108, -89.7348497], \"mode\": \"lines\", \"type\": \"scattergeo\", \"uid\": \"fccd2ab1-5d1f-4228-8e55-c26b1047e30f\"}, {\"lat\": [32.9715645, 38.27312], \"line\": {\"color\": \"#B42D8D\", \"width\": 2}, \"locationmode\": \"USA-states\", \"lon\": [-89.7348497, -98.5821872], \"mode\": \"lines\", \"type\": \"scattergeo\", \"uid\": \"78a9713a-03f2-49cf-b7e3-256fb2729e43\"}, {\"lat\": [38.27312, 33.6874388], \"line\": {\"color\": \"#B93388\", \"width\": 2}, \"locationmode\": \"USA-states\", \"lon\": [-98.5821872, -80.4363743], \"mode\": \"lines\", \"type\": \"scattergeo\", \"uid\": \"342edba4-db6e-4d06-91c4-82d5ecd4af16\"}, {\"lat\": [33.6874388, 42.3788774], \"line\": {\"color\": \"#BE3883\", \"width\": 2}, \"locationmode\": \"USA-states\", \"lon\": [-80.4363743, -72.032366], \"mode\": \"lines\", \"type\": \"scattergeo\", \"uid\": \"088d15f6-06dd-4a8c-8ee0-bc60b45993f7\"}, {\"lat\": [42.3788774, 47.2868352], \"line\": {\"color\": \"#C33E7F\", \"width\": 2}, \"locationmode\": \"USA-states\", \"lon\": [-72.032366, -120.2126139], \"mode\": \"lines\", \"type\": \"scattergeo\", \"uid\": \"935e8293-e908-4cb1-b49b-b389c15eb513\"}, {\"lat\": [47.2868352, 38.4758406], \"line\": {\"color\": \"#C8447A\", \"width\": 2}, \"locationmode\": \"USA-states\", \"lon\": [-120.2126139, -80.8408415], \"mode\": \"lines\", \"type\": \"scattergeo\", \"uid\": \"36d3caf2-d5c8-4d6c-badd-7620aa762e60\"}, {\"lat\": [38.4758406, 41.9216734], \"line\": {\"color\": \"#CD4975\", \"width\": 2}, \"locationmode\": \"USA-states\", \"lon\": [-80.8408415, -93.3122705], \"mode\": \"lines\", \"type\": \"scattergeo\", \"uid\": \"1f207edc-6628-4f4f-b035-eb59ca1d7b21\"}, {\"lat\": [41.9216734, 34.395342], \"line\": {\"color\": \"#D14F71\", \"width\": 2}, \"locationmode\": \"USA-states\", \"lon\": [-93.3122705, -111.7632755], \"mode\": \"lines\", \"type\": \"scattergeo\", \"uid\": \"23072b26-7091-4c6c-a496-d4f9f3183c22\"}, {\"lat\": [34.395342, 38.7251776], \"line\": {\"color\": \"#D6556D\", \"width\": 2}, \"locationmode\": \"USA-states\", \"lon\": [-111.7632755, -105.6077167], \"mode\": \"lines\", \"type\": \"scattergeo\", \"uid\": \"89a6dda6-6ecd-43e1-98af-987746c4cd8c\"}, {\"lat\": [38.7251776, 45.9896587], \"line\": {\"color\": \"#DA5A68\", \"width\": 2}, \"locationmode\": \"USA-states\", \"lon\": [-105.6077167, -94.6113288], \"mode\": \"lines\", \"type\": \"scattergeo\", \"uid\": \"74b2a44a-b7f8-4fc6-9356-0982c7a9f37c\"}, {\"lat\": [45.9896587, 35.7730076], \"line\": {\"color\": \"#DE6064\", \"width\": 2}, \"locationmode\": \"USA-states\", \"lon\": [-94.6113288, -86.2820081], \"mode\": \"lines\", \"type\": \"scattergeo\", \"uid\": \"05c3a7ac-61aa-4fcf-9157-3271e9a82b2e\"}, {\"lat\": [35.7730076, 44.4308975], \"line\": {\"color\": \"#E26660\", \"width\": 2}, \"locationmode\": \"USA-states\", \"lon\": [-86.2820081, -89.6884637], \"mode\": \"lines\", \"type\": \"scattergeo\", \"uid\": \"45480e26-5bcd-4365-bbd2-101b1102dd4d\"}, {\"lat\": [44.4308975, 37.1232245], \"line\": {\"color\": \"#E56C5B\", \"width\": 2}, \"locationmode\": \"USA-states\", \"lon\": [-89.6884637, -78.4927721], \"mode\": \"lines\", \"type\": \"scattergeo\", \"uid\": \"2f354cd9-d950-4680-aaa9-d0644cfdd8b5\"}, {\"lat\": [37.1232245, 34.9550817], \"line\": {\"color\": \"#E97257\", \"width\": 2}, \"locationmode\": \"USA-states\", \"lon\": [-78.4927721, -97.2684063], \"mode\": \"lines\", \"type\": \"scattergeo\", \"uid\": \"52e600dd-1646-4a04-a67b-52f1fc476914\"}, {\"lat\": [34.9550817, 38.7604815], \"line\": {\"color\": \"#EC7853\", \"width\": 2}, \"locationmode\": \"USA-states\", \"lon\": [-97.2684063, -92.5617875], \"mode\": \"lines\", \"type\": \"scattergeo\", \"uid\": \"fa5bb471-c66e-48c4-be0d-d1d403bf8b31\"}, {\"lat\": [38.7604815, 33.2588817], \"line\": {\"color\": \"#EF7E4E\", \"width\": 2}, \"locationmode\": \"USA-states\", \"lon\": [-92.5617875, -86.8295337], \"mode\": \"lines\", \"type\": \"scattergeo\", \"uid\": \"86476aaa-df88-42ef-909b-4a9b28a199cd\"}, {\"lat\": [33.2588817, 40.0757384], \"line\": {\"color\": \"#F2854A\", \"width\": 2}, \"locationmode\": \"USA-states\", \"lon\": [-86.8295337, -74.4041622], \"mode\": \"lines\", \"type\": \"scattergeo\", \"uid\": \"3bba968b-8fa4-410c-9218-af0c25094132\"}, {\"lat\": [40.0757384, 35.6729639], \"line\": {\"color\": \"#F58B46\", \"width\": 2}, \"locationmode\": \"USA-states\", \"lon\": [-74.4041622, -79.0392919], \"mode\": \"lines\", \"type\": \"scattergeo\", \"uid\": \"7fb37a15-fa99-4c82-81c7-0295310a15c6\"}, {\"lat\": [35.6729639, 37.5726028], \"line\": {\"color\": \"#F79241\", \"width\": 2}, \"locationmode\": \"USA-states\", \"lon\": [-79.0392919, -85.1551411], \"mode\": \"lines\", \"type\": \"scattergeo\", \"uid\": \"83e4f15f-5831-481a-b853-58025df9d9f2\"}, {\"lat\": [37.5726028, 32.3293809], \"line\": {\"color\": \"#F9993D\", \"width\": 2}, \"locationmode\": \"USA-states\", \"lon\": [-85.1551411, -83.1137366], \"mode\": \"lines\", \"type\": \"scattergeo\", \"uid\": \"95cb5c74-2930-4d76-878e-244ff9dcf83e\"}, {\"lat\": [32.3293809, 43.6211955], \"line\": {\"color\": \"#FAA039\", \"width\": 2}, \"locationmode\": \"USA-states\", \"lon\": [-83.1137366, -84.6824346], \"mode\": \"lines\", \"type\": \"scattergeo\", \"uid\": \"13a50ef7-9738-4fcc-adbe-0f1b2c4c874a\"}, {\"lat\": [43.6211955, 43.1561681], \"line\": {\"color\": \"#FCA735\", \"width\": 2}, \"locationmode\": \"USA-states\", \"lon\": [-84.6824346, -75.8449946], \"mode\": \"lines\", \"type\": \"scattergeo\", \"uid\": \"95dda9bc-7903-4ca8-9fbd-43ebdbe4a657\"}, {\"lat\": [43.1561681, 40.3270127], \"line\": {\"color\": \"#FDAF31\", \"width\": 2}, \"locationmode\": \"USA-states\", \"lon\": [-75.8449946, -86.1746933], \"mode\": \"lines\", \"type\": \"scattergeo\", \"uid\": \"c176c6f0-ae6d-4d08-9773-6664cf541b7a\"}, {\"lat\": [40.3270127, 40.2253569], \"line\": {\"color\": \"#FDB62D\", \"width\": 2}, \"locationmode\": \"USA-states\", \"lon\": [-86.1746933, -82.6881395], \"mode\": \"lines\", \"type\": \"scattergeo\", \"uid\": \"b1878957-6a72-42b5-928f-ba7c9451c8fd\"}, {\"lat\": [40.2253569, 40.0796606], \"line\": {\"color\": \"#FDBE29\", \"width\": 2}, \"locationmode\": \"USA-states\", \"lon\": [-82.6881395, -89.4337288], \"mode\": \"lines\", \"type\": \"scattergeo\", \"uid\": \"628152ae-9c05-440e-b0c7-abba78152fed\"}, {\"lat\": [40.0796606, 27.7567667], \"line\": {\"color\": \"#FDC626\", \"width\": 2}, \"locationmode\": \"USA-states\", \"lon\": [-89.4337288, -81.4639835], \"mode\": \"lines\", \"type\": \"scattergeo\", \"uid\": \"b34d7663-c62b-46d7-bcd0-59252e09275c\"}, {\"lat\": [27.7567667, 40.9699889], \"line\": {\"color\": \"#FCCE25\", \"width\": 2}, \"locationmode\": \"USA-states\", \"lon\": [-81.4639835, -77.7278831], \"mode\": \"lines\", \"type\": \"scattergeo\", \"uid\": \"67a54624-0427-4a13-9807-8e3f276648e4\"}, {\"lat\": [40.9699889, 30.8703881], \"line\": {\"color\": \"#FAD624\", \"width\": 2}, \"locationmode\": \"USA-states\", \"lon\": [-77.7278831, -92.007126], \"mode\": \"lines\", \"type\": \"scattergeo\", \"uid\": \"630c54f5-d009-4ba4-a4f9-c873806b5360\"}, {\"lat\": [30.8703881, 36.7014631], \"line\": {\"color\": \"#F8DF24\", \"width\": 2}, \"locationmode\": \"USA-states\", \"lon\": [-92.007126, -118.7559974], \"mode\": \"lines\", \"type\": \"scattergeo\", \"uid\": \"c9be8962-a524-4c98-abf7-6ee0dfef08c8\"}, {\"lat\": [36.7014631, 31.8160381], \"line\": {\"color\": \"#F5E726\", \"width\": 2}, \"locationmode\": \"USA-states\", \"lon\": [-118.7559974, -99.5120986], \"mode\": \"lines\", \"type\": \"scattergeo\", \"uid\": \"d7315de8-acff-467e-a7fc-f91c4ea100ca\"}, {\"lat\": [38.89366125, 44.5990718, 41.7962409, 38.6920451, 43.4849133, 44.6471761, 21.2160437, 45.709097, 43.6447642, 47.3752671, 41.6500201, 39.5158825, 64.4459613, 43.9792797, 47.6201461, 41.7370229, 34.5708167, 43.1700264, 39.5162234, 39.4225192, 35.2048883, 32.9715645, 38.27312, 33.6874388, 42.3788774, 47.2868352, 38.4758406, 41.9216734, 34.395342, 38.7251776, 45.9896587, 35.7730076, 44.4308975, 37.1232245, 34.9550817, 38.7604815, 33.2588817, 40.0757384, 35.6729639, 37.5726028, 32.3293809, 43.6211955, 43.1561681, 40.3270127, 40.2253569, 40.0796606, 27.7567667, 40.9699889, 30.8703881, 36.7014631, 31.8160381], \"locationmode\": \"USA-states\", \"lon\": [-76.987883253882, -72.5002608, -71.5992372, -75.4013315, -71.6553992, -100.348761, -157.975203, -68.8590201, -114.0154071, -109.6387579, -72.7342163, -116.8537227, -149.680909, -120.737257, -100.540737, -99.5873816, -105.993007, -107.5685348, -76.9382069, -111.7143584, -92.4479108, -89.7348497, -98.5821872, -80.4363743, -72.032366, -120.2126139, -80.8408415, -93.3122705, -111.7632755, -105.6077167, -94.6113288, -86.2820081, -89.6884637, -78.4927721, -97.2684063, -92.5617875, -86.8295337, -74.4041622, -79.0392919, -85.1551411, -83.1137366, -84.6824346, -75.8449946, -86.1746933, -82.6881395, -89.4337288, -81.4639835, -77.7278831, -92.007126, -118.7559974, -99.5120986], \"marker\": {\"cmax\": 3000000, \"cmin\": 53357, \"color\": [53357, 89119, 171472, 213411, 214922, 231578, 252836, 253371, 270907, 422138, 560141, 569355, 600660, 608017, 701050, 705960, 741402, 839683, 847590, 897843, 936796, 942046, 963626, 975757, 1030817, 1113069, 1113141, 1125533, 1289119, 1303825, 1328816, 1344036, 1418732, 1512226, 1537652, 1689057, 1689491, 1704155, 1734549, 1737960, 1928374, 2304114, 2629451, 2632450, 3170468, 3266060, 3273949, 3472175, 3785289, 5755210, 11616497], \"colorbar\": {\"tickmode\": \"array\", \"ticktext\": [\"50k\", \"640k\", \"1.2M\", \"1.8M\", \"2.4M\", \">3M\"], \"tickvals\": [53357, 642686, 1232015, 1821344, 2410673, 3000002], \"title\": {\"text\": \"Consumption in Billion BTU\"}}, \"colorscale\": \"Bluered\", \"line\": {\"color\": \"rgb(40,40,40)\", \"width\": 0.5}, \"showscale\": true, \"size\": 8, \"sizemode\": \"area\"}, \"name\": \"FosFuelC\", \"text\": [\"District of Columbia<br>Rank: 1<br>Fossil Fuel Consumption: <br>53357 Billion BTU\", \"Vermont<br>Rank: 2<br>Fossil Fuel Consumption: <br>89119 Billion BTU\", \"Rhode Island<br>Rank: 3<br>Fossil Fuel Consumption: <br>171472 Billion BTU\", \"Delaware<br>Rank: 4<br>Fossil Fuel Consumption: <br>213411 Billion BTU\", \"New Hampshire<br>Rank: 5<br>Fossil Fuel Consumption: <br>214922 Billion BTU\", \"South Dakota<br>Rank: 6<br>Fossil Fuel Consumption: <br>231578 Billion BTU\", \"Hawaii<br>Rank: 7<br>Fossil Fuel Consumption: <br>252836 Billion BTU\", \"Maine<br>Rank: 8<br>Fossil Fuel Consumption: <br>253371 Billion BTU\", \"Idaho<br>Rank: 9<br>Fossil Fuel Consumption: <br>270907 Billion BTU\", \"Montana<br>Rank: 10<br>Fossil Fuel Consumption: <br>422138 Billion BTU\", \"Connecticut<br>Rank: 11<br>Fossil Fuel Consumption: <br>560141 Billion BTU\", \"Nevada<br>Rank: 12<br>Fossil Fuel Consumption: <br>569355 Billion BTU\", \"Alaska<br>Rank: 13<br>Fossil Fuel Consumption: <br>600660 Billion BTU\", \"Oregon<br>Rank: 14<br>Fossil Fuel Consumption: <br>608017 Billion BTU\", \"North Dakota<br>Rank: 15<br>Fossil Fuel Consumption: <br>701050 Billion BTU\", \"Nebraska<br>Rank: 16<br>Fossil Fuel Consumption: <br>705960 Billion BTU\", \"New Mexico<br>Rank: 17<br>Fossil Fuel Consumption: <br>741402 Billion BTU\", \"Wyoming<br>Rank: 18<br>Fossil Fuel Consumption: <br>839683 Billion BTU\", \"Maryland<br>Rank: 19<br>Fossil Fuel Consumption: <br>847590 Billion BTU\", \"Utah<br>Rank: 20<br>Fossil Fuel Consumption: <br>897843 Billion BTU\", \"Arkansas<br>Rank: 21<br>Fossil Fuel Consumption: <br>936796 Billion BTU\", \"Mississippi<br>Rank: 22<br>Fossil Fuel Consumption: <br>942046 Billion BTU\", \"Kansas<br>Rank: 23<br>Fossil Fuel Consumption: <br>963626 Billion BTU\", \"South Carolina<br>Rank: 24<br>Fossil Fuel Consumption: <br>975757 Billion BTU\", \"Massachusetts<br>Rank: 25<br>Fossil Fuel Consumption: <br>1030817 Billion BTU\", \"Washington<br>Rank: 26<br>Fossil Fuel Consumption: <br>1113069 Billion BTU\", \"West Virginia<br>Rank: 27<br>Fossil Fuel Consumption: <br>1113141 Billion BTU\", \"Iowa<br>Rank: 28<br>Fossil Fuel Consumption: <br>1125533 Billion BTU\", \"Arizona<br>Rank: 29<br>Fossil Fuel Consumption: <br>1289119 Billion BTU\", \"Colorado<br>Rank: 30<br>Fossil Fuel Consumption: <br>1303825 Billion BTU\", \"Minnesota<br>Rank: 31<br>Fossil Fuel Consumption: <br>1328816 Billion BTU\", \"Tennessee<br>Rank: 32<br>Fossil Fuel Consumption: <br>1344036 Billion BTU\", \"Wisconsin<br>Rank: 33<br>Fossil Fuel Consumption: <br>1418732 Billion BTU\", \"Virginia<br>Rank: 34<br>Fossil Fuel Consumption: <br>1512226 Billion BTU\", \"Oklahoma<br>Rank: 35<br>Fossil Fuel Consumption: <br>1537652 Billion BTU\", \"Missouri<br>Rank: 36<br>Fossil Fuel Consumption: <br>1689057 Billion BTU\", \"Alabama<br>Rank: 37<br>Fossil Fuel Consumption: <br>1689491 Billion BTU\", \"New Jersey<br>Rank: 38<br>Fossil Fuel Consumption: <br>1704155 Billion BTU\", \"North Carolina<br>Rank: 39<br>Fossil Fuel Consumption: <br>1734549 Billion BTU\", \"Kentucky<br>Rank: 40<br>Fossil Fuel Consumption: <br>1737960 Billion BTU\", \"Georgia<br>Rank: 41<br>Fossil Fuel Consumption: <br>1928374 Billion BTU\", \"Michigan<br>Rank: 42<br>Fossil Fuel Consumption: <br>2304114 Billion BTU\", \"New York<br>Rank: 43<br>Fossil Fuel Consumption: <br>2629451 Billion BTU\", \"Indiana<br>Rank: 44<br>Fossil Fuel Consumption: <br>2632450 Billion BTU\", \"Ohio<br>Rank: 45<br>Fossil Fuel Consumption: <br>3170468 Billion BTU\", \"Illinois<br>Rank: 46<br>Fossil Fuel Consumption: <br>3266060 Billion BTU\", \"Florida<br>Rank: 47<br>Fossil Fuel Consumption: <br>3273949 Billion BTU\", \"Pennsylvania<br>Rank: 48<br>Fossil Fuel Consumption: <br>3472175 Billion BTU\", \"Louisiana<br>Rank: 49<br>Fossil Fuel Consumption: <br>3785289 Billion BTU\", \"California<br>Rank: 50<br>Fossil Fuel Consumption: <br>5755210 Billion BTU\", \"Texas<br>Rank: 51<br>Fossil Fuel Consumption: <br>11616497 Billion BTU\"], \"type\": \"scattergeo\", \"uid\": \"b1b7e8a3-22a2-4102-a48e-2d3dfce3036e\"}],\n",
       "                        {\"geo\": {\"countrycolor\": \"rgb(204, 204, 204)\", \"landcolor\": \"rgb(243, 243, 243)\", \"projection\": {\"type\": \"azimuthal equal area\"}, \"scope\": \"north america\", \"showland\": true}, \"showlegend\": false, \"title\": {\"text\": \"2013 US Fossil Fuel Consumption Ranking (Lowest to Highest)\"}},\n",
       "                        {\"showLink\": false, \"linkText\": \"Export to plot.ly\", \"plotlyServerURL\": \"https://plot.ly\", \"responsive\": true}\n",
       "                    )\n",
       "                };\n",
       "                });\n",
       "            </script>\n",
       "        </div>"
      ]
     },
     "metadata": {},
     "output_type": "display_data"
    }
   ],
   "source": [
    "colors = iter(Plasma256)\n",
    "\n",
    "states = [go.Scattergeo(\n",
    "    locationmode = 'USA-states',\n",
    "    lon = energy_2013['longitude'],\n",
    "    lat = energy_2013['latitude'],\n",
    "    text = energy_2013['text'],\n",
    "    name = 'FosFuelC',\n",
    "    marker = go.scattergeo.Marker(\n",
    "        size = 8,\n",
    "        color = energy_2013['FossFuelC2013'],\n",
    "        colorscale = 'Bluered',\n",
    "        cmax = 3_000_000,\n",
    "        cmin = min(energy_2013['FossFuelC2013']),\n",
    "        colorbar = dict(title = 'Consumption in Billion BTU',\n",
    "                       tickmode = 'array',\n",
    "                       tickvals = list(range(min(energy_2013['FossFuelC2013']), 3_000_010, 589329)),\n",
    "                       ticktext = ['50k', '640k', '1.2M', '1.8M', '2.4M', '>3M']),\n",
    "        showscale = True,\n",
    "        line = go.scattergeo.marker.Line(\n",
    "            width=0.5, color='rgb(40,40,40)'\n",
    "        ),\n",
    "        sizemode = 'area',\n",
    "    ))]\n",
    "\n",
    "rank_paths = []\n",
    "for i in range(len(energy_2013)-1):\n",
    "    rank_paths.append(\n",
    "        go.Scattergeo(\n",
    "            locationmode = 'USA-states',\n",
    "            lon = [energy_2013['longitude'][i], energy_2013['longitude'][i+1]],\n",
    "            lat = [energy_2013['latitude'][i], energy_2013['latitude'][i+1]],\n",
    "            mode = 'lines',\n",
    "            line = go.scattergeo.Line(\n",
    "                width = 2,\n",
    "                color = next(colors)\n",
    "            ),\n",
    "        )\n",
    "    )\n",
    "    for _ in range(4):\n",
    "        next(colors)\n",
    "\n",
    "layout = go.Layout(\n",
    "    title = go.layout.Title(\n",
    "        text = '2013 US Fossil Fuel Consumption Ranking (Lowest to Highest)'\n",
    "    ),\n",
    "    showlegend = False,\n",
    "    geo = go.layout.Geo(\n",
    "        scope = 'north america',\n",
    "        projection = go.layout.geo.Projection(type = 'azimuthal equal area'),\n",
    "        showland = True,\n",
    "        landcolor = 'rgb(243, 243, 243)',\n",
    "        countrycolor = 'rgb(204, 204, 204)',\n",
    "    ),\n",
    ")\n",
    "\n",
    "fig = go.Figure(data = rank_paths + states, layout = layout)\n",
    "iplot(fig)"
   ]
  },
  {
   "cell_type": "code",
   "execution_count": 26,
   "metadata": {
    "ExecuteTime": {
     "end_time": "2019-05-16T22:39:50.568648Z",
     "start_time": "2019-05-16T22:39:50.237967Z"
    }
   },
   "outputs": [
    {
     "data": {
      "text/plain": [
       "'consumption-ranking.html'"
      ]
     },
     "execution_count": 26,
     "metadata": {},
     "output_type": "execute_result"
    }
   ],
   "source": [
    "plot(fig, filename='consumption-ranking.html')"
   ]
  },
  {
   "cell_type": "markdown",
   "metadata": {},
   "source": [
    "# Heatmap"
   ]
  },
  {
   "cell_type": "code",
   "execution_count": 27,
   "metadata": {
    "ExecuteTime": {
     "end_time": "2019-05-16T22:39:50.615458Z",
     "start_time": "2019-05-16T22:39:50.571801Z"
    }
   },
   "outputs": [],
   "source": [
    "migration = pd.melt(energy, id_vars='State', value_vars=['RDOMESTICMIG2011', 'RDOMESTICMIG2012', 'RDOMESTICMIG2013', 'RDOMESTICMIG2014'], var_name='date', value_name='migration_rate')\n",
    "\n",
    "migration.loc[migration['date']  == 'RDOMESTICMIG2011', 'date'] = datetime.date(2011, 1, 1)\n",
    "migration.loc[migration['date']  == 'RDOMESTICMIG2012', 'date'] = datetime.date(2012, 1, 1)\n",
    "migration.loc[migration['date']  == 'RDOMESTICMIG2013', 'date'] = datetime.date(2013, 1, 1)\n",
    "migration.loc[migration['date']  == 'RDOMESTICMIG2014', 'date'] = datetime.date(2014, 1, 1)\n",
    "\n",
    "migration['year'] = migration.date.apply(lambda row: row.year)\n",
    "\n",
    "migration['text'] = migration['State']\\\n",
    "    + '<br>July ' + (migration['year'] - 1).astype(str) + ' - June ' + migration['year'].astype(str)\\\n",
    "    + '<br>Migration Rate: ' + round(migration['migration_rate'], 2).astype(str)"
   ]
  },
  {
   "cell_type": "code",
   "execution_count": 28,
   "metadata": {
    "ExecuteTime": {
     "end_time": "2019-05-16T22:39:50.960652Z",
     "start_time": "2019-05-16T22:39:50.618082Z"
    }
   },
   "outputs": [
    {
     "data": {
      "application/vnd.plotly.v1+json": {
       "config": {
        "linkText": "Export to plot.ly",
        "plotlyServerURL": "https://plot.ly",
        "responsive": true,
        "showLink": false
       },
       "data": [
        {
         "colorbar": {
          "title": {
           "text": "Migration Rate"
          }
         },
         "colorscale": "Viridis",
         "hoverinfo": "text",
         "text": [
          "Alabama<br>July 2010 - June 2011<br>Migration Rate: -0.02",
          "Alaska<br>July 2010 - June 2011<br>Migration Rate: -1.18",
          "Arizona<br>July 2010 - June 2011<br>Migration Rate: 1.34",
          "Arkansas<br>July 2010 - June 2011<br>Migration Rate: 1.37",
          "California<br>July 2010 - June 2011<br>Migration Rate: -1.16",
          "Colorado<br>July 2010 - June 2011<br>Migration Rate: 5.18",
          "Connecticut<br>July 2010 - June 2011<br>Migration Rate: -3.38",
          "Delaware<br>July 2010 - June 2011<br>Migration Rate: 2.87",
          "Florida<br>July 2010 - June 2011<br>Migration Rate: 5.54",
          "Georgia<br>July 2010 - June 2011<br>Migration Rate: 1.11",
          "Hawaii<br>July 2010 - June 2011<br>Migration Rate: -0.73",
          "Idaho<br>July 2010 - June 2011<br>Migration Rate: 0.06",
          "Illinois<br>July 2010 - June 2011<br>Migration Rate: -5.42",
          "Indiana<br>July 2010 - June 2011<br>Migration Rate: -1.3",
          "Iowa<br>July 2010 - June 2011<br>Migration Rate: 0.09",
          "Kansas<br>July 2010 - June 2011<br>Migration Rate: -3.16",
          "Kentucky<br>July 2010 - June 2011<br>Migration Rate: 0.6",
          "Louisiana<br>July 2010 - June 2011<br>Migration Rate: 0.45",
          "Maine<br>July 2010 - June 2011<br>Migration Rate: 0.06",
          "Maryland<br>July 2010 - June 2011<br>Migration Rate: 0.06",
          "Massachusetts<br>July 2010 - June 2011<br>Migration Rate: -0.52",
          "Michigan<br>July 2010 - June 2011<br>Migration Rate: -4.37",
          "Minnesota<br>July 2010 - June 2011<br>Migration Rate: -0.63",
          "Mississippi<br>July 2010 - June 2011<br>Migration Rate: -1.96",
          "Missouri<br>July 2010 - June 2011<br>Migration Rate: -2.25",
          "Montana<br>July 2010 - June 2011<br>Migration Rate: 3.43",
          "Nebraska<br>July 2010 - June 2011<br>Migration Rate: -0.64",
          "Nevada<br>July 2010 - June 2011<br>Migration Rate: -2.83",
          "New Hampshire<br>July 2010 - June 2011<br>Migration Rate: -1.64",
          "New Jersey<br>July 2010 - June 2011<br>Migration Rate: -5.11",
          "New Mexico<br>July 2010 - June 2011<br>Migration Rate: 0.03",
          "New York<br>July 2010 - June 2011<br>Migration Rate: -4.33",
          "North Carolina<br>July 2010 - June 2011<br>Migration Rate: 3.17",
          "North Dakota<br>July 2010 - June 2011<br>Migration Rate: 9.15",
          "Ohio<br>July 2010 - June 2011<br>Migration Rate: -3.19",
          "Oklahoma<br>July 2010 - June 2011<br>Migration Rate: 1.67",
          "Oregon<br>July 2010 - June 2011<br>Migration Rate: 2.96",
          "Pennsylvania<br>July 2010 - June 2011<br>Migration Rate: -0.55",
          "Rhode Island<br>July 2010 - June 2011<br>Migration Rate: -5.84",
          "South Carolina<br>July 2010 - June 2011<br>Migration Rate: 3.19",
          "South Dakota<br>July 2010 - June 2011<br>Migration Rate: 2.45",
          "Tennessee<br>July 2010 - June 2011<br>Migration Rate: 2.45",
          "Texas<br>July 2010 - June 2011<br>Migration Rate: 4.58",
          "Utah<br>July 2010 - June 2011<br>Migration Rate: -0.33",
          "Vermont<br>July 2010 - June 2011<br>Migration Rate: -0.75",
          "Virginia<br>July 2010 - June 2011<br>Migration Rate: 1.33",
          "Washington<br>July 2010 - June 2011<br>Migration Rate: 3.45",
          "West Virginia<br>July 2010 - June 2011<br>Migration Rate: 0.59",
          "Wisconsin<br>July 2010 - June 2011<br>Migration Rate: -1.09",
          "Wyoming<br>July 2010 - June 2011<br>Migration Rate: -0.36",
          "District of Columbia<br>July 2010 - June 2011<br>Migration Rate: 11.33",
          "Alabama<br>July 2011 - June 2012<br>Migration Rate: -0.17",
          "Alaska<br>July 2011 - June 2012<br>Migration Rate: -1.95",
          "Arizona<br>July 2011 - June 2012<br>Migration Rate: -0.42",
          "Arkansas<br>July 2011 - June 2012<br>Migration Rate: 5.13",
          "California<br>July 2011 - June 2012<br>Migration Rate: -1.17",
          "Colorado<br>July 2011 - June 2012<br>Migration Rate: 5.55",
          "Connecticut<br>July 2011 - June 2012<br>Migration Rate: -5.61",
          "Delaware<br>July 2011 - June 2012<br>Migration Rate: 3.6",
          "Florida<br>July 2011 - June 2012<br>Migration Rate: 5.13",
          "Georgia<br>July 2011 - June 2012<br>Migration Rate: 1.85",
          "Hawaii<br>July 2011 - June 2012<br>Migration Rate: -2.57",
          "Idaho<br>July 2011 - June 2012<br>Migration Rate: -0.16",
          "Illinois<br>July 2011 - June 2012<br>Migration Rate: -5.69",
          "Indiana<br>July 2011 - June 2012<br>Migration Rate: -1.95",
          "Iowa<br>July 2011 - June 2012<br>Migration Rate: -1.4",
          "Kansas<br>July 2011 - June 2012<br>Migration Rate: -1.79",
          "Kentucky<br>July 2011 - June 2012<br>Migration Rate: -1.27",
          "Louisiana<br>July 2011 - June 2012<br>Migration Rate: -0.17",
          "Maine<br>July 2011 - June 2012<br>Migration Rate: -0.47",
          "Maryland<br>July 2011 - June 2012<br>Migration Rate: -1.43",
          "Massachusetts<br>July 2011 - June 2012<br>Migration Rate: -1.63",
          "Michigan<br>July 2011 - June 2012<br>Migration Rate: -3.39",
          "Minnesota<br>July 2011 - June 2012<br>Migration Rate: -1.66",
          "Mississippi<br>July 2011 - June 2012<br>Migration Rate: -1.89",
          "Missouri<br>July 2011 - June 2012<br>Migration Rate: -2.24",
          "Montana<br>July 2011 - June 2012<br>Migration Rate: 3.55",
          "Nebraska<br>July 2011 - June 2012<br>Migration Rate: -0.49",
          "Nevada<br>July 2011 - June 2012<br>Migration Rate: 5.28",
          "New Hampshire<br>July 2011 - June 2012<br>Migration Rate: -0.4",
          "New Jersey<br>July 2011 - June 2012<br>Migration Rate: -5.59",
          "New Mexico<br>July 2011 - June 2012<br>Migration Rate: -3.42",
          "New York<br>July 2011 - June 2012<br>Migration Rate: -5.95",
          "North Carolina<br>July 2011 - June 2012<br>Migration Rate: 3.3",
          "North Dakota<br>July 2011 - June 2012<br>Migration Rate: 15.59",
          "Ohio<br>July 2011 - June 2012<br>Migration Rate: -3.2",
          "Oklahoma<br>July 2011 - June 2012<br>Migration Rate: 2.35",
          "Oregon<br>July 2011 - June 2012<br>Migration Rate: 3.38",
          "Pennsylvania<br>July 2011 - June 2012<br>Migration Rate: -1.36",
          "Rhode Island<br>July 2011 - June 2012<br>Migration Rate: -5.03",
          "South Carolina<br>July 2011 - June 2012<br>Migration Rate: 5.61",
          "South Dakota<br>July 2011 - June 2012<br>Migration Rate: 5.24",
          "Tennessee<br>July 2011 - June 2012<br>Migration Rate: 4.29",
          "Texas<br>July 2011 - June 2012<br>Migration Rate: 5.63",
          "Utah<br>July 2011 - June 2012<br>Migration Rate: -0.03",
          "Vermont<br>July 2011 - June 2012<br>Migration Rate: -2.6",
          "Virginia<br>July 2011 - June 2012<br>Migration Rate: 0.6",
          "Washington<br>July 2011 - June 2012<br>Migration Rate: 1.96",
          "West Virginia<br>July 2011 - June 2012<br>Migration Rate: 0.56",
          "Wisconsin<br>July 2011 - June 2012<br>Migration Rate: -1.65",
          "Wyoming<br>July 2011 - June 2012<br>Migration Rate: 9.65",
          "District of Columbia<br>July 2011 - June 2012<br>Migration Rate: 10.01",
          "Alabama<br>July 2012 - June 2013<br>Migration Rate: 0.4",
          "Alaska<br>July 2012 - June 2013<br>Migration Rate: -3.79",
          "Arizona<br>July 2012 - June 2013<br>Migration Rate: -0.58",
          "Arkansas<br>July 2012 - June 2013<br>Migration Rate: 3.91",
          "California<br>July 2012 - June 2013<br>Migration Rate: -1.34",
          "Colorado<br>July 2012 - June 2013<br>Migration Rate: 6.98",
          "Connecticut<br>July 2012 - June 2013<br>Migration Rate: -4.73",
          "Delaware<br>July 2012 - June 2013<br>Migration Rate: 3.4",
          "Florida<br>July 2012 - June 2013<br>Migration Rate: 4.92",
          "Georgia<br>July 2012 - June 2013<br>Migration Rate: -0.58",
          "Hawaii<br>July 2012 - June 2013<br>Migration Rate: -0.66",
          "Idaho<br>July 2012 - June 2013<br>Migration Rate: 2.99",
          "Illinois<br>July 2012 - June 2013<br>Migration Rate: -5.24",
          "Indiana<br>July 2012 - June 2013<br>Migration Rate: -0.23",
          "Iowa<br>July 2012 - June 2013<br>Migration Rate: 0.15",
          "Kansas<br>July 2012 - June 2013<br>Migration Rate: -4.37",
          "Kentucky<br>July 2012 - June 2013<br>Migration Rate: -0.54",
          "Louisiana<br>July 2012 - June 2013<br>Migration Rate: -0.5",
          "Maine<br>July 2012 - June 2013<br>Migration Rate: -1.1",
          "Maryland<br>July 2012 - June 2013<br>Migration Rate: -1.51",
          "Massachusetts<br>July 2012 - June 2013<br>Migration Rate: -0.33",
          "Michigan<br>July 2012 - June 2013<br>Migration Rate: -2.99",
          "Minnesota<br>July 2012 - June 2013<br>Migration Rate: -0.41",
          "Mississippi<br>July 2012 - June 2013<br>Migration Rate: -1.61",
          "Missouri<br>July 2012 - June 2013<br>Migration Rate: -1.35",
          "Montana<br>July 2012 - June 2013<br>Migration Rate: 5.3",
          "Nebraska<br>July 2012 - June 2013<br>Migration Rate: -0.48",
          "Nevada<br>July 2012 - June 2013<br>Migration Rate: 4.76",
          "New Hampshire<br>July 2012 - June 2013<br>Migration Rate: -1.99",
          "New Jersey<br>July 2012 - June 2013<br>Migration Rate: -5.12",
          "New Mexico<br>July 2012 - June 2013<br>Migration Rate: -5.06",
          "New York<br>July 2012 - June 2013<br>Migration Rate: -5.48",
          "North Carolina<br>July 2012 - June 2013<br>Migration Rate: 3.89",
          "North Dakota<br>July 2012 - June 2013<br>Migration Rate: 23.19",
          "Ohio<br>July 2012 - June 2013<br>Migration Rate: -1.91",
          "Oklahoma<br>July 2012 - June 2013<br>Migration Rate: 3.6",
          "Oregon<br>July 2012 - June 2013<br>Migration Rate: 2.49",
          "Pennsylvania<br>July 2012 - June 2013<br>Migration Rate: -2.48",
          "Rhode Island<br>July 2012 - June 2013<br>Migration Rate: -4.87",
          "South Carolina<br>July 2012 - June 2013<br>Migration Rate: 5.95",
          "South Dakota<br>July 2012 - June 2013<br>Migration Rate: 5.2",
          "Tennessee<br>July 2012 - June 2013<br>Migration Rate: 2.09",
          "Texas<br>July 2012 - June 2013<br>Migration Rate: 4.43",
          "Utah<br>July 2012 - June 2013<br>Migration Rate: 1.92",
          "Vermont<br>July 2012 - June 2013<br>Migration Rate: -1.1",
          "Virginia<br>July 2012 - June 2013<br>Migration Rate: 0.3",
          "Washington<br>July 2012 - June 2013<br>Migration Rate: 2.25",
          "West Virginia<br>July 2012 - June 2013<br>Migration Rate: -1.25",
          "Wisconsin<br>July 2012 - June 2013<br>Migration Rate: -1.37",
          "Wyoming<br>July 2012 - June 2013<br>Migration Rate: 4.55",
          "District of Columbia<br>July 2012 - June 2013<br>Migration Rate: 9.78",
          "Alabama<br>July 2013 - June 2014<br>Migration Rate: 0.42",
          "Alaska<br>July 2013 - June 2014<br>Migration Rate: -13.75",
          "Arizona<br>July 2013 - June 2014<br>Migration Rate: -1.31",
          "Arkansas<br>July 2013 - June 2014<br>Migration Rate: 6.28",
          "California<br>July 2013 - June 2014<br>Migration Rate: -0.83",
          "Colorado<br>July 2013 - June 2014<br>Migration Rate: 7.59",
          "Connecticut<br>July 2013 - June 2014<br>Migration Rate: -7.29",
          "Delaware<br>July 2013 - June 2014<br>Migration Rate: 5.15",
          "Florida<br>July 2013 - June 2014<br>Migration Rate: 7.02",
          "Georgia<br>July 2013 - June 2014<br>Migration Rate: 2.2",
          "Hawaii<br>July 2013 - June 2014<br>Migration Rate: -3.64",
          "Idaho<br>July 2013 - June 2014<br>Migration Rate: 4.74",
          "Illinois<br>July 2013 - June 2014<br>Migration Rate: -7.37",
          "Indiana<br>July 2013 - June 2014<br>Migration Rate: -1.19",
          "Iowa<br>July 2013 - June 2014<br>Migration Rate: -0.26",
          "Kansas<br>July 2013 - June 2014<br>Migration Rate: -4.76",
          "Kentucky<br>July 2013 - June 2014<br>Migration Rate: -0.86",
          "Louisiana<br>July 2013 - June 2014<br>Migration Rate: -1.31",
          "Maine<br>July 2013 - June 2014<br>Migration Rate: 0.4",
          "Maryland<br>July 2013 - June 2014<br>Migration Rate: -2.57",
          "Massachusetts<br>July 2013 - June 2014<br>Migration Rate: -2.43",
          "Michigan<br>July 2013 - June 2014<br>Migration Rate: -2.9",
          "Minnesota<br>July 2013 - June 2014<br>Migration Rate: -1.23",
          "Mississippi<br>July 2013 - June 2014<br>Migration Rate: -3.13",
          "Missouri<br>July 2013 - June 2014<br>Migration Rate: -1.33",
          "Montana<br>July 2013 - June 2014<br>Migration Rate: 4.46",
          "Nebraska<br>July 2013 - June 2014<br>Migration Rate: -1.36",
          "Nevada<br>July 2013 - June 2014<br>Migration Rate: 8.39",
          "New Hampshire<br>July 2013 - June 2014<br>Migration Rate: 0.84",
          "New Jersey<br>July 2013 - June 2014<br>Migration Rate: -6.22",
          "New Mexico<br>July 2013 - June 2014<br>Migration Rate: -6.78",
          "New York<br>July 2013 - June 2014<br>Migration Rate: -7.8",
          "North Carolina<br>July 2013 - June 2014<br>Migration Rate: 3.66",
          "North Dakota<br>July 2013 - June 2014<br>Migration Rate: 12.27",
          "Ohio<br>July 2013 - June 2014<br>Migration Rate: -1.57",
          "Oklahoma<br>July 2013 - June 2014<br>Migration Rate: 1.13",
          "Oregon<br>July 2013 - June 2014<br>Migration Rate: 5.74",
          "Pennsylvania<br>July 2013 - June 2014<br>Migration Rate: -2.46",
          "Rhode Island<br>July 2013 - June 2014<br>Migration Rate: -3.21",
          "South Carolina<br>July 2013 - June 2014<br>Migration Rate: 8.04",
          "South Dakota<br>July 2013 - June 2014<br>Migration Rate: 0.66",
          "Tennessee<br>July 2013 - June 2014<br>Migration Rate: 3.76",
          "Texas<br>July 2013 - June 2014<br>Migration Rate: 5.78",
          "Utah<br>July 2013 - June 2014<br>Migration Rate: -0.42",
          "Vermont<br>July 2013 - June 2014<br>Migration Rate: -2.47",
          "Virginia<br>July 2013 - June 2014<br>Migration Rate: -2.46",
          "Washington<br>July 2013 - June 2014<br>Migration Rate: 4.0",
          "West Virginia<br>July 2013 - June 2014<br>Migration Rate: -1.48",
          "Wisconsin<br>July 2013 - June 2014<br>Migration Rate: -1.73",
          "Wyoming<br>July 2013 - June 2014<br>Migration Rate: -4.58",
          "District of Columbia<br>July 2013 - June 2014<br>Migration Rate: 1.79"
         ],
         "type": "heatmap",
         "uid": "b80c207c-690b-4e35-b2b4-1ffa7df86bc4",
         "x": [
          "2011-01-01",
          "2011-01-01",
          "2011-01-01",
          "2011-01-01",
          "2011-01-01",
          "2011-01-01",
          "2011-01-01",
          "2011-01-01",
          "2011-01-01",
          "2011-01-01",
          "2011-01-01",
          "2011-01-01",
          "2011-01-01",
          "2011-01-01",
          "2011-01-01",
          "2011-01-01",
          "2011-01-01",
          "2011-01-01",
          "2011-01-01",
          "2011-01-01",
          "2011-01-01",
          "2011-01-01",
          "2011-01-01",
          "2011-01-01",
          "2011-01-01",
          "2011-01-01",
          "2011-01-01",
          "2011-01-01",
          "2011-01-01",
          "2011-01-01",
          "2011-01-01",
          "2011-01-01",
          "2011-01-01",
          "2011-01-01",
          "2011-01-01",
          "2011-01-01",
          "2011-01-01",
          "2011-01-01",
          "2011-01-01",
          "2011-01-01",
          "2011-01-01",
          "2011-01-01",
          "2011-01-01",
          "2011-01-01",
          "2011-01-01",
          "2011-01-01",
          "2011-01-01",
          "2011-01-01",
          "2011-01-01",
          "2011-01-01",
          "2011-01-01",
          "2012-01-01",
          "2012-01-01",
          "2012-01-01",
          "2012-01-01",
          "2012-01-01",
          "2012-01-01",
          "2012-01-01",
          "2012-01-01",
          "2012-01-01",
          "2012-01-01",
          "2012-01-01",
          "2012-01-01",
          "2012-01-01",
          "2012-01-01",
          "2012-01-01",
          "2012-01-01",
          "2012-01-01",
          "2012-01-01",
          "2012-01-01",
          "2012-01-01",
          "2012-01-01",
          "2012-01-01",
          "2012-01-01",
          "2012-01-01",
          "2012-01-01",
          "2012-01-01",
          "2012-01-01",
          "2012-01-01",
          "2012-01-01",
          "2012-01-01",
          "2012-01-01",
          "2012-01-01",
          "2012-01-01",
          "2012-01-01",
          "2012-01-01",
          "2012-01-01",
          "2012-01-01",
          "2012-01-01",
          "2012-01-01",
          "2012-01-01",
          "2012-01-01",
          "2012-01-01",
          "2012-01-01",
          "2012-01-01",
          "2012-01-01",
          "2012-01-01",
          "2012-01-01",
          "2012-01-01",
          "2012-01-01",
          "2012-01-01",
          "2012-01-01",
          "2013-01-01",
          "2013-01-01",
          "2013-01-01",
          "2013-01-01",
          "2013-01-01",
          "2013-01-01",
          "2013-01-01",
          "2013-01-01",
          "2013-01-01",
          "2013-01-01",
          "2013-01-01",
          "2013-01-01",
          "2013-01-01",
          "2013-01-01",
          "2013-01-01",
          "2013-01-01",
          "2013-01-01",
          "2013-01-01",
          "2013-01-01",
          "2013-01-01",
          "2013-01-01",
          "2013-01-01",
          "2013-01-01",
          "2013-01-01",
          "2013-01-01",
          "2013-01-01",
          "2013-01-01",
          "2013-01-01",
          "2013-01-01",
          "2013-01-01",
          "2013-01-01",
          "2013-01-01",
          "2013-01-01",
          "2013-01-01",
          "2013-01-01",
          "2013-01-01",
          "2013-01-01",
          "2013-01-01",
          "2013-01-01",
          "2013-01-01",
          "2013-01-01",
          "2013-01-01",
          "2013-01-01",
          "2013-01-01",
          "2013-01-01",
          "2013-01-01",
          "2013-01-01",
          "2013-01-01",
          "2013-01-01",
          "2013-01-01",
          "2013-01-01",
          "2014-01-01",
          "2014-01-01",
          "2014-01-01",
          "2014-01-01",
          "2014-01-01",
          "2014-01-01",
          "2014-01-01",
          "2014-01-01",
          "2014-01-01",
          "2014-01-01",
          "2014-01-01",
          "2014-01-01",
          "2014-01-01",
          "2014-01-01",
          "2014-01-01",
          "2014-01-01",
          "2014-01-01",
          "2014-01-01",
          "2014-01-01",
          "2014-01-01",
          "2014-01-01",
          "2014-01-01",
          "2014-01-01",
          "2014-01-01",
          "2014-01-01",
          "2014-01-01",
          "2014-01-01",
          "2014-01-01",
          "2014-01-01",
          "2014-01-01",
          "2014-01-01",
          "2014-01-01",
          "2014-01-01",
          "2014-01-01",
          "2014-01-01",
          "2014-01-01",
          "2014-01-01",
          "2014-01-01",
          "2014-01-01",
          "2014-01-01",
          "2014-01-01",
          "2014-01-01",
          "2014-01-01",
          "2014-01-01",
          "2014-01-01",
          "2014-01-01",
          "2014-01-01",
          "2014-01-01",
          "2014-01-01",
          "2014-01-01",
          "2014-01-01"
         ],
         "y": [
          "Alabama",
          "Alaska",
          "Arizona",
          "Arkansas",
          "California",
          "Colorado",
          "Connecticut",
          "Delaware",
          "Florida",
          "Georgia",
          "Hawaii",
          "Idaho",
          "Illinois",
          "Indiana",
          "Iowa",
          "Kansas",
          "Kentucky",
          "Louisiana",
          "Maine",
          "Maryland",
          "Massachusetts",
          "Michigan",
          "Minnesota",
          "Mississippi",
          "Missouri",
          "Montana",
          "Nebraska",
          "Nevada",
          "New Hampshire",
          "New Jersey",
          "New Mexico",
          "New York",
          "North Carolina",
          "North Dakota",
          "Ohio",
          "Oklahoma",
          "Oregon",
          "Pennsylvania",
          "Rhode Island",
          "South Carolina",
          "South Dakota",
          "Tennessee",
          "Texas",
          "Utah",
          "Vermont",
          "Virginia",
          "Washington",
          "West Virginia",
          "Wisconsin",
          "Wyoming",
          "District of Columbia",
          "Alabama",
          "Alaska",
          "Arizona",
          "Arkansas",
          "California",
          "Colorado",
          "Connecticut",
          "Delaware",
          "Florida",
          "Georgia",
          "Hawaii",
          "Idaho",
          "Illinois",
          "Indiana",
          "Iowa",
          "Kansas",
          "Kentucky",
          "Louisiana",
          "Maine",
          "Maryland",
          "Massachusetts",
          "Michigan",
          "Minnesota",
          "Mississippi",
          "Missouri",
          "Montana",
          "Nebraska",
          "Nevada",
          "New Hampshire",
          "New Jersey",
          "New Mexico",
          "New York",
          "North Carolina",
          "North Dakota",
          "Ohio",
          "Oklahoma",
          "Oregon",
          "Pennsylvania",
          "Rhode Island",
          "South Carolina",
          "South Dakota",
          "Tennessee",
          "Texas",
          "Utah",
          "Vermont",
          "Virginia",
          "Washington",
          "West Virginia",
          "Wisconsin",
          "Wyoming",
          "District of Columbia",
          "Alabama",
          "Alaska",
          "Arizona",
          "Arkansas",
          "California",
          "Colorado",
          "Connecticut",
          "Delaware",
          "Florida",
          "Georgia",
          "Hawaii",
          "Idaho",
          "Illinois",
          "Indiana",
          "Iowa",
          "Kansas",
          "Kentucky",
          "Louisiana",
          "Maine",
          "Maryland",
          "Massachusetts",
          "Michigan",
          "Minnesota",
          "Mississippi",
          "Missouri",
          "Montana",
          "Nebraska",
          "Nevada",
          "New Hampshire",
          "New Jersey",
          "New Mexico",
          "New York",
          "North Carolina",
          "North Dakota",
          "Ohio",
          "Oklahoma",
          "Oregon",
          "Pennsylvania",
          "Rhode Island",
          "South Carolina",
          "South Dakota",
          "Tennessee",
          "Texas",
          "Utah",
          "Vermont",
          "Virginia",
          "Washington",
          "West Virginia",
          "Wisconsin",
          "Wyoming",
          "District of Columbia",
          "Alabama",
          "Alaska",
          "Arizona",
          "Arkansas",
          "California",
          "Colorado",
          "Connecticut",
          "Delaware",
          "Florida",
          "Georgia",
          "Hawaii",
          "Idaho",
          "Illinois",
          "Indiana",
          "Iowa",
          "Kansas",
          "Kentucky",
          "Louisiana",
          "Maine",
          "Maryland",
          "Massachusetts",
          "Michigan",
          "Minnesota",
          "Mississippi",
          "Missouri",
          "Montana",
          "Nebraska",
          "Nevada",
          "New Hampshire",
          "New Jersey",
          "New Mexico",
          "New York",
          "North Carolina",
          "North Dakota",
          "Ohio",
          "Oklahoma",
          "Oregon",
          "Pennsylvania",
          "Rhode Island",
          "South Carolina",
          "South Dakota",
          "Tennessee",
          "Texas",
          "Utah",
          "Vermont",
          "Virginia",
          "Washington",
          "West Virginia",
          "Wisconsin",
          "Wyoming",
          "District of Columbia"
         ],
         "z": [
          -0.020443249,
          -1.175137215,
          1.3414718,
          1.36951366,
          -1.162079243,
          5.183396609,
          -3.384435058,
          2.866848127,
          5.540393445,
          1.105815775,
          -0.728611798,
          0.058330869,
          -5.4247622710000005,
          -1.302542626,
          0.09157510699999999,
          -3.1569683189999997,
          0.597026839,
          0.454747125,
          0.061763475,
          0.062930206,
          -0.523665785,
          -4.371657403,
          -0.628046056,
          -1.9609112030000002,
          -2.245426256,
          3.434199964,
          -0.64486314,
          -2.8273287789999997,
          -1.636664938,
          -5.110337107,
          0.030892824,
          -4.325454828,
          3.172142612,
          9.145424309,
          -3.188587898,
          1.674262736,
          2.9576648210000003,
          -0.5467672610000001,
          -5.839158082000001,
          3.1912023019999998,
          2.4494578330000003,
          2.4525251519999998,
          4.577944559,
          -0.32882084300000003,
          -0.7522507629999999,
          1.331716697,
          3.446470122,
          0.5861168489999999,
          -1.094923844,
          -0.362194332,
          11.33288241,
          -0.16841354100000003,
          -1.949571184,
          -0.42087527799999996,
          5.13128187,
          -1.173950696,
          5.553675215,
          -5.611491546,
          3.5983800169999998,
          5.125320316,
          1.8522008769999998,
          -2.567288472,
          -0.163554415,
          -5.690471905,
          -1.954161544,
          -1.3988316580000002,
          -1.789806028,
          -1.271262488,
          -0.16796075600000002,
          -0.467528596,
          -1.432046554,
          -1.63158264,
          -3.394243177,
          -1.657431116,
          -1.8894809559999999,
          -2.240644077,
          3.550986008,
          -0.49165445,
          5.284415978999999,
          -0.398574528,
          -5.589037608,
          -3.4201288930000002,
          -5.94680886,
          3.299538451,
          15.58963681,
          -3.204065457,
          2.350732931,
          3.376112881,
          -1.3587030009999999,
          -5.02599711,
          5.613008112999999,
          5.243944715,
          4.286281332,
          5.630981772999999,
          -0.030685027,
          -2.604208247,
          0.603915329,
          1.9621768869999998,
          0.562067957,
          -1.6538867259999999,
          9.651173763,
          10.00583847,
          0.396415887,
          -3.789313102,
          -0.5805623329999999,
          3.910475996,
          -1.341226344,
          6.977583181,
          -4.731638212,
          3.3971709789999998,
          4.918783369,
          -0.576887568,
          -0.663156245,
          2.986504627,
          -5.238097733,
          -0.231150462,
          0.15012298400000001,
          -4.369598429,
          -0.542180801,
          -0.496857926,
          -1.102625453,
          -1.51387644,
          -0.325484225,
          -2.98681078,
          -0.414341818,
          -1.60546158,
          -1.348776549,
          5.297948988,
          -0.478459136,
          4.755226448999999,
          -1.98644963,
          -5.120561617,
          -5.062940355,
          -5.48204938,
          3.88690203,
          23.1894509,
          -1.912302891,
          3.599656175,
          2.489666212,
          -2.483940274,
          -4.874664707,
          5.954363292999999,
          5.197575735,
          2.089798328,
          4.428284006,
          1.9208121740000001,
          -1.09817054,
          0.304183119,
          2.250746157,
          -1.252861257,
          -1.3697434419999999,
          4.54782108,
          9.777666334,
          0.42010154899999996,
          -13.75449375,
          -1.3130504729999999,
          6.280635867999999,
          -0.830982325,
          7.587162607000001,
          -7.286251924,
          5.148173903,
          7.01612271,
          2.200466631,
          -3.6350806139999996,
          4.738695787,
          -7.3691757120000005,
          -1.192171554,
          -0.261312787,
          -4.760146087,
          -0.8589544579999999,
          -1.3115694,
          0.399429666,
          -2.56732105,
          -2.431047603,
          -2.895688474,
          -1.230969132,
          -3.134498274,
          -1.333607961,
          4.464191542,
          -1.360362109,
          8.390945678,
          0.843200554,
          -6.21512647,
          -6.784475467,
          -7.804947159,
          3.663640478,
          12.26510057,
          -1.574969153,
          1.132299656,
          5.740470711,
          -2.459901351,
          -3.212669318,
          8.040888713,
          0.6616883060000001,
          3.757448001,
          5.778507385,
          -0.42253359700000004,
          -2.471643515,
          -2.458329804,
          3.998924994,
          -1.484372912,
          -1.7270527919999998,
          -4.577788133,
          1.793572497
         ]
        }
       ],
       "layout": {
        "title": {
         "text": "US Domestic Migration from 2010-2014"
        },
        "xaxis": {
         "range": [
          "2010-07-01",
          "2014-07-01"
         ]
        },
        "yaxis": {
         "automargin": true,
         "autorange": "reversed"
        }
       }
      },
      "text/html": [
       "<div>\n",
       "        \n",
       "        \n",
       "            <div id=\"dcb7550b-2a68-4501-8637-c4c6b748effb\" class=\"plotly-graph-div\"></div>\n",
       "            <script type=\"text/javascript\">\n",
       "                require([\"plotly\"], function(Plotly) {\n",
       "                    window.PLOTLYENV=window.PLOTLYENV || {};\n",
       "                    window.PLOTLYENV.BASE_URL='https://plot.ly';\n",
       "                    \n",
       "                if (document.getElementById(\"dcb7550b-2a68-4501-8637-c4c6b748effb\")) {\n",
       "                    Plotly.newPlot(\n",
       "                        'dcb7550b-2a68-4501-8637-c4c6b748effb',\n",
       "                        [{\"colorbar\": {\"title\": {\"text\": \"Migration Rate\"}}, \"colorscale\": \"Viridis\", \"hoverinfo\": \"text\", \"text\": [\"Alabama<br>July 2010 - June 2011<br>Migration Rate: -0.02\", \"Alaska<br>July 2010 - June 2011<br>Migration Rate: -1.18\", \"Arizona<br>July 2010 - June 2011<br>Migration Rate: 1.34\", \"Arkansas<br>July 2010 - June 2011<br>Migration Rate: 1.37\", \"California<br>July 2010 - June 2011<br>Migration Rate: -1.16\", \"Colorado<br>July 2010 - June 2011<br>Migration Rate: 5.18\", \"Connecticut<br>July 2010 - June 2011<br>Migration Rate: -3.38\", \"Delaware<br>July 2010 - June 2011<br>Migration Rate: 2.87\", \"Florida<br>July 2010 - June 2011<br>Migration Rate: 5.54\", \"Georgia<br>July 2010 - June 2011<br>Migration Rate: 1.11\", \"Hawaii<br>July 2010 - June 2011<br>Migration Rate: -0.73\", \"Idaho<br>July 2010 - June 2011<br>Migration Rate: 0.06\", \"Illinois<br>July 2010 - June 2011<br>Migration Rate: -5.42\", \"Indiana<br>July 2010 - June 2011<br>Migration Rate: -1.3\", \"Iowa<br>July 2010 - June 2011<br>Migration Rate: 0.09\", \"Kansas<br>July 2010 - June 2011<br>Migration Rate: -3.16\", \"Kentucky<br>July 2010 - June 2011<br>Migration Rate: 0.6\", \"Louisiana<br>July 2010 - June 2011<br>Migration Rate: 0.45\", \"Maine<br>July 2010 - June 2011<br>Migration Rate: 0.06\", \"Maryland<br>July 2010 - June 2011<br>Migration Rate: 0.06\", \"Massachusetts<br>July 2010 - June 2011<br>Migration Rate: -0.52\", \"Michigan<br>July 2010 - June 2011<br>Migration Rate: -4.37\", \"Minnesota<br>July 2010 - June 2011<br>Migration Rate: -0.63\", \"Mississippi<br>July 2010 - June 2011<br>Migration Rate: -1.96\", \"Missouri<br>July 2010 - June 2011<br>Migration Rate: -2.25\", \"Montana<br>July 2010 - June 2011<br>Migration Rate: 3.43\", \"Nebraska<br>July 2010 - June 2011<br>Migration Rate: -0.64\", \"Nevada<br>July 2010 - June 2011<br>Migration Rate: -2.83\", \"New Hampshire<br>July 2010 - June 2011<br>Migration Rate: -1.64\", \"New Jersey<br>July 2010 - June 2011<br>Migration Rate: -5.11\", \"New Mexico<br>July 2010 - June 2011<br>Migration Rate: 0.03\", \"New York<br>July 2010 - June 2011<br>Migration Rate: -4.33\", \"North Carolina<br>July 2010 - June 2011<br>Migration Rate: 3.17\", \"North Dakota<br>July 2010 - June 2011<br>Migration Rate: 9.15\", \"Ohio<br>July 2010 - June 2011<br>Migration Rate: -3.19\", \"Oklahoma<br>July 2010 - June 2011<br>Migration Rate: 1.67\", \"Oregon<br>July 2010 - June 2011<br>Migration Rate: 2.96\", \"Pennsylvania<br>July 2010 - June 2011<br>Migration Rate: -0.55\", \"Rhode Island<br>July 2010 - June 2011<br>Migration Rate: -5.84\", \"South Carolina<br>July 2010 - June 2011<br>Migration Rate: 3.19\", \"South Dakota<br>July 2010 - June 2011<br>Migration Rate: 2.45\", \"Tennessee<br>July 2010 - June 2011<br>Migration Rate: 2.45\", \"Texas<br>July 2010 - June 2011<br>Migration Rate: 4.58\", \"Utah<br>July 2010 - June 2011<br>Migration Rate: -0.33\", \"Vermont<br>July 2010 - June 2011<br>Migration Rate: -0.75\", \"Virginia<br>July 2010 - June 2011<br>Migration Rate: 1.33\", \"Washington<br>July 2010 - June 2011<br>Migration Rate: 3.45\", \"West Virginia<br>July 2010 - June 2011<br>Migration Rate: 0.59\", \"Wisconsin<br>July 2010 - June 2011<br>Migration Rate: -1.09\", \"Wyoming<br>July 2010 - June 2011<br>Migration Rate: -0.36\", \"District of Columbia<br>July 2010 - June 2011<br>Migration Rate: 11.33\", \"Alabama<br>July 2011 - June 2012<br>Migration Rate: -0.17\", \"Alaska<br>July 2011 - June 2012<br>Migration Rate: -1.95\", \"Arizona<br>July 2011 - June 2012<br>Migration Rate: -0.42\", \"Arkansas<br>July 2011 - June 2012<br>Migration Rate: 5.13\", \"California<br>July 2011 - June 2012<br>Migration Rate: -1.17\", \"Colorado<br>July 2011 - June 2012<br>Migration Rate: 5.55\", \"Connecticut<br>July 2011 - June 2012<br>Migration Rate: -5.61\", \"Delaware<br>July 2011 - June 2012<br>Migration Rate: 3.6\", \"Florida<br>July 2011 - June 2012<br>Migration Rate: 5.13\", \"Georgia<br>July 2011 - June 2012<br>Migration Rate: 1.85\", \"Hawaii<br>July 2011 - June 2012<br>Migration Rate: -2.57\", \"Idaho<br>July 2011 - June 2012<br>Migration Rate: -0.16\", \"Illinois<br>July 2011 - June 2012<br>Migration Rate: -5.69\", \"Indiana<br>July 2011 - June 2012<br>Migration Rate: -1.95\", \"Iowa<br>July 2011 - June 2012<br>Migration Rate: -1.4\", \"Kansas<br>July 2011 - June 2012<br>Migration Rate: -1.79\", \"Kentucky<br>July 2011 - June 2012<br>Migration Rate: -1.27\", \"Louisiana<br>July 2011 - June 2012<br>Migration Rate: -0.17\", \"Maine<br>July 2011 - June 2012<br>Migration Rate: -0.47\", \"Maryland<br>July 2011 - June 2012<br>Migration Rate: -1.43\", \"Massachusetts<br>July 2011 - June 2012<br>Migration Rate: -1.63\", \"Michigan<br>July 2011 - June 2012<br>Migration Rate: -3.39\", \"Minnesota<br>July 2011 - June 2012<br>Migration Rate: -1.66\", \"Mississippi<br>July 2011 - June 2012<br>Migration Rate: -1.89\", \"Missouri<br>July 2011 - June 2012<br>Migration Rate: -2.24\", \"Montana<br>July 2011 - June 2012<br>Migration Rate: 3.55\", \"Nebraska<br>July 2011 - June 2012<br>Migration Rate: -0.49\", \"Nevada<br>July 2011 - June 2012<br>Migration Rate: 5.28\", \"New Hampshire<br>July 2011 - June 2012<br>Migration Rate: -0.4\", \"New Jersey<br>July 2011 - June 2012<br>Migration Rate: -5.59\", \"New Mexico<br>July 2011 - June 2012<br>Migration Rate: -3.42\", \"New York<br>July 2011 - June 2012<br>Migration Rate: -5.95\", \"North Carolina<br>July 2011 - June 2012<br>Migration Rate: 3.3\", \"North Dakota<br>July 2011 - June 2012<br>Migration Rate: 15.59\", \"Ohio<br>July 2011 - June 2012<br>Migration Rate: -3.2\", \"Oklahoma<br>July 2011 - June 2012<br>Migration Rate: 2.35\", \"Oregon<br>July 2011 - June 2012<br>Migration Rate: 3.38\", \"Pennsylvania<br>July 2011 - June 2012<br>Migration Rate: -1.36\", \"Rhode Island<br>July 2011 - June 2012<br>Migration Rate: -5.03\", \"South Carolina<br>July 2011 - June 2012<br>Migration Rate: 5.61\", \"South Dakota<br>July 2011 - June 2012<br>Migration Rate: 5.24\", \"Tennessee<br>July 2011 - June 2012<br>Migration Rate: 4.29\", \"Texas<br>July 2011 - June 2012<br>Migration Rate: 5.63\", \"Utah<br>July 2011 - June 2012<br>Migration Rate: -0.03\", \"Vermont<br>July 2011 - June 2012<br>Migration Rate: -2.6\", \"Virginia<br>July 2011 - June 2012<br>Migration Rate: 0.6\", \"Washington<br>July 2011 - June 2012<br>Migration Rate: 1.96\", \"West Virginia<br>July 2011 - June 2012<br>Migration Rate: 0.56\", \"Wisconsin<br>July 2011 - June 2012<br>Migration Rate: -1.65\", \"Wyoming<br>July 2011 - June 2012<br>Migration Rate: 9.65\", \"District of Columbia<br>July 2011 - June 2012<br>Migration Rate: 10.01\", \"Alabama<br>July 2012 - June 2013<br>Migration Rate: 0.4\", \"Alaska<br>July 2012 - June 2013<br>Migration Rate: -3.79\", \"Arizona<br>July 2012 - June 2013<br>Migration Rate: -0.58\", \"Arkansas<br>July 2012 - June 2013<br>Migration Rate: 3.91\", \"California<br>July 2012 - June 2013<br>Migration Rate: -1.34\", \"Colorado<br>July 2012 - June 2013<br>Migration Rate: 6.98\", \"Connecticut<br>July 2012 - June 2013<br>Migration Rate: -4.73\", \"Delaware<br>July 2012 - June 2013<br>Migration Rate: 3.4\", \"Florida<br>July 2012 - June 2013<br>Migration Rate: 4.92\", \"Georgia<br>July 2012 - June 2013<br>Migration Rate: -0.58\", \"Hawaii<br>July 2012 - June 2013<br>Migration Rate: -0.66\", \"Idaho<br>July 2012 - June 2013<br>Migration Rate: 2.99\", \"Illinois<br>July 2012 - June 2013<br>Migration Rate: -5.24\", \"Indiana<br>July 2012 - June 2013<br>Migration Rate: -0.23\", \"Iowa<br>July 2012 - June 2013<br>Migration Rate: 0.15\", \"Kansas<br>July 2012 - June 2013<br>Migration Rate: -4.37\", \"Kentucky<br>July 2012 - June 2013<br>Migration Rate: -0.54\", \"Louisiana<br>July 2012 - June 2013<br>Migration Rate: -0.5\", \"Maine<br>July 2012 - June 2013<br>Migration Rate: -1.1\", \"Maryland<br>July 2012 - June 2013<br>Migration Rate: -1.51\", \"Massachusetts<br>July 2012 - June 2013<br>Migration Rate: -0.33\", \"Michigan<br>July 2012 - June 2013<br>Migration Rate: -2.99\", \"Minnesota<br>July 2012 - June 2013<br>Migration Rate: -0.41\", \"Mississippi<br>July 2012 - June 2013<br>Migration Rate: -1.61\", \"Missouri<br>July 2012 - June 2013<br>Migration Rate: -1.35\", \"Montana<br>July 2012 - June 2013<br>Migration Rate: 5.3\", \"Nebraska<br>July 2012 - June 2013<br>Migration Rate: -0.48\", \"Nevada<br>July 2012 - June 2013<br>Migration Rate: 4.76\", \"New Hampshire<br>July 2012 - June 2013<br>Migration Rate: -1.99\", \"New Jersey<br>July 2012 - June 2013<br>Migration Rate: -5.12\", \"New Mexico<br>July 2012 - June 2013<br>Migration Rate: -5.06\", \"New York<br>July 2012 - June 2013<br>Migration Rate: -5.48\", \"North Carolina<br>July 2012 - June 2013<br>Migration Rate: 3.89\", \"North Dakota<br>July 2012 - June 2013<br>Migration Rate: 23.19\", \"Ohio<br>July 2012 - June 2013<br>Migration Rate: -1.91\", \"Oklahoma<br>July 2012 - June 2013<br>Migration Rate: 3.6\", \"Oregon<br>July 2012 - June 2013<br>Migration Rate: 2.49\", \"Pennsylvania<br>July 2012 - June 2013<br>Migration Rate: -2.48\", \"Rhode Island<br>July 2012 - June 2013<br>Migration Rate: -4.87\", \"South Carolina<br>July 2012 - June 2013<br>Migration Rate: 5.95\", \"South Dakota<br>July 2012 - June 2013<br>Migration Rate: 5.2\", \"Tennessee<br>July 2012 - June 2013<br>Migration Rate: 2.09\", \"Texas<br>July 2012 - June 2013<br>Migration Rate: 4.43\", \"Utah<br>July 2012 - June 2013<br>Migration Rate: 1.92\", \"Vermont<br>July 2012 - June 2013<br>Migration Rate: -1.1\", \"Virginia<br>July 2012 - June 2013<br>Migration Rate: 0.3\", \"Washington<br>July 2012 - June 2013<br>Migration Rate: 2.25\", \"West Virginia<br>July 2012 - June 2013<br>Migration Rate: -1.25\", \"Wisconsin<br>July 2012 - June 2013<br>Migration Rate: -1.37\", \"Wyoming<br>July 2012 - June 2013<br>Migration Rate: 4.55\", \"District of Columbia<br>July 2012 - June 2013<br>Migration Rate: 9.78\", \"Alabama<br>July 2013 - June 2014<br>Migration Rate: 0.42\", \"Alaska<br>July 2013 - June 2014<br>Migration Rate: -13.75\", \"Arizona<br>July 2013 - June 2014<br>Migration Rate: -1.31\", \"Arkansas<br>July 2013 - June 2014<br>Migration Rate: 6.28\", \"California<br>July 2013 - June 2014<br>Migration Rate: -0.83\", \"Colorado<br>July 2013 - June 2014<br>Migration Rate: 7.59\", \"Connecticut<br>July 2013 - June 2014<br>Migration Rate: -7.29\", \"Delaware<br>July 2013 - June 2014<br>Migration Rate: 5.15\", \"Florida<br>July 2013 - June 2014<br>Migration Rate: 7.02\", \"Georgia<br>July 2013 - June 2014<br>Migration Rate: 2.2\", \"Hawaii<br>July 2013 - June 2014<br>Migration Rate: -3.64\", \"Idaho<br>July 2013 - June 2014<br>Migration Rate: 4.74\", \"Illinois<br>July 2013 - June 2014<br>Migration Rate: -7.37\", \"Indiana<br>July 2013 - June 2014<br>Migration Rate: -1.19\", \"Iowa<br>July 2013 - June 2014<br>Migration Rate: -0.26\", \"Kansas<br>July 2013 - June 2014<br>Migration Rate: -4.76\", \"Kentucky<br>July 2013 - June 2014<br>Migration Rate: -0.86\", \"Louisiana<br>July 2013 - June 2014<br>Migration Rate: -1.31\", \"Maine<br>July 2013 - June 2014<br>Migration Rate: 0.4\", \"Maryland<br>July 2013 - June 2014<br>Migration Rate: -2.57\", \"Massachusetts<br>July 2013 - June 2014<br>Migration Rate: -2.43\", \"Michigan<br>July 2013 - June 2014<br>Migration Rate: -2.9\", \"Minnesota<br>July 2013 - June 2014<br>Migration Rate: -1.23\", \"Mississippi<br>July 2013 - June 2014<br>Migration Rate: -3.13\", \"Missouri<br>July 2013 - June 2014<br>Migration Rate: -1.33\", \"Montana<br>July 2013 - June 2014<br>Migration Rate: 4.46\", \"Nebraska<br>July 2013 - June 2014<br>Migration Rate: -1.36\", \"Nevada<br>July 2013 - June 2014<br>Migration Rate: 8.39\", \"New Hampshire<br>July 2013 - June 2014<br>Migration Rate: 0.84\", \"New Jersey<br>July 2013 - June 2014<br>Migration Rate: -6.22\", \"New Mexico<br>July 2013 - June 2014<br>Migration Rate: -6.78\", \"New York<br>July 2013 - June 2014<br>Migration Rate: -7.8\", \"North Carolina<br>July 2013 - June 2014<br>Migration Rate: 3.66\", \"North Dakota<br>July 2013 - June 2014<br>Migration Rate: 12.27\", \"Ohio<br>July 2013 - June 2014<br>Migration Rate: -1.57\", \"Oklahoma<br>July 2013 - June 2014<br>Migration Rate: 1.13\", \"Oregon<br>July 2013 - June 2014<br>Migration Rate: 5.74\", \"Pennsylvania<br>July 2013 - June 2014<br>Migration Rate: -2.46\", \"Rhode Island<br>July 2013 - June 2014<br>Migration Rate: -3.21\", \"South Carolina<br>July 2013 - June 2014<br>Migration Rate: 8.04\", \"South Dakota<br>July 2013 - June 2014<br>Migration Rate: 0.66\", \"Tennessee<br>July 2013 - June 2014<br>Migration Rate: 3.76\", \"Texas<br>July 2013 - June 2014<br>Migration Rate: 5.78\", \"Utah<br>July 2013 - June 2014<br>Migration Rate: -0.42\", \"Vermont<br>July 2013 - June 2014<br>Migration Rate: -2.47\", \"Virginia<br>July 2013 - June 2014<br>Migration Rate: -2.46\", \"Washington<br>July 2013 - June 2014<br>Migration Rate: 4.0\", \"West Virginia<br>July 2013 - June 2014<br>Migration Rate: -1.48\", \"Wisconsin<br>July 2013 - June 2014<br>Migration Rate: -1.73\", \"Wyoming<br>July 2013 - June 2014<br>Migration Rate: -4.58\", \"District of Columbia<br>July 2013 - June 2014<br>Migration Rate: 1.79\"], \"type\": \"heatmap\", \"uid\": \"e12eb19d-2b46-4797-9ccc-30db19900ed9\", \"x\": [\"2011-01-01\", \"2011-01-01\", \"2011-01-01\", \"2011-01-01\", \"2011-01-01\", \"2011-01-01\", \"2011-01-01\", \"2011-01-01\", \"2011-01-01\", \"2011-01-01\", \"2011-01-01\", \"2011-01-01\", \"2011-01-01\", \"2011-01-01\", \"2011-01-01\", \"2011-01-01\", \"2011-01-01\", \"2011-01-01\", \"2011-01-01\", \"2011-01-01\", \"2011-01-01\", \"2011-01-01\", \"2011-01-01\", \"2011-01-01\", \"2011-01-01\", \"2011-01-01\", \"2011-01-01\", \"2011-01-01\", \"2011-01-01\", \"2011-01-01\", \"2011-01-01\", \"2011-01-01\", \"2011-01-01\", \"2011-01-01\", \"2011-01-01\", \"2011-01-01\", \"2011-01-01\", \"2011-01-01\", \"2011-01-01\", \"2011-01-01\", \"2011-01-01\", \"2011-01-01\", \"2011-01-01\", \"2011-01-01\", \"2011-01-01\", \"2011-01-01\", \"2011-01-01\", \"2011-01-01\", \"2011-01-01\", \"2011-01-01\", \"2011-01-01\", \"2012-01-01\", \"2012-01-01\", \"2012-01-01\", \"2012-01-01\", \"2012-01-01\", \"2012-01-01\", \"2012-01-01\", \"2012-01-01\", \"2012-01-01\", \"2012-01-01\", \"2012-01-01\", \"2012-01-01\", \"2012-01-01\", \"2012-01-01\", \"2012-01-01\", \"2012-01-01\", \"2012-01-01\", \"2012-01-01\", \"2012-01-01\", \"2012-01-01\", \"2012-01-01\", \"2012-01-01\", \"2012-01-01\", \"2012-01-01\", \"2012-01-01\", \"2012-01-01\", \"2012-01-01\", \"2012-01-01\", \"2012-01-01\", \"2012-01-01\", \"2012-01-01\", \"2012-01-01\", \"2012-01-01\", \"2012-01-01\", \"2012-01-01\", \"2012-01-01\", \"2012-01-01\", \"2012-01-01\", \"2012-01-01\", \"2012-01-01\", \"2012-01-01\", \"2012-01-01\", \"2012-01-01\", \"2012-01-01\", \"2012-01-01\", \"2012-01-01\", \"2012-01-01\", \"2012-01-01\", \"2012-01-01\", \"2012-01-01\", \"2012-01-01\", \"2013-01-01\", \"2013-01-01\", \"2013-01-01\", \"2013-01-01\", \"2013-01-01\", \"2013-01-01\", \"2013-01-01\", \"2013-01-01\", \"2013-01-01\", \"2013-01-01\", \"2013-01-01\", \"2013-01-01\", \"2013-01-01\", \"2013-01-01\", \"2013-01-01\", \"2013-01-01\", \"2013-01-01\", \"2013-01-01\", \"2013-01-01\", \"2013-01-01\", \"2013-01-01\", \"2013-01-01\", \"2013-01-01\", \"2013-01-01\", \"2013-01-01\", \"2013-01-01\", \"2013-01-01\", \"2013-01-01\", \"2013-01-01\", \"2013-01-01\", \"2013-01-01\", \"2013-01-01\", \"2013-01-01\", \"2013-01-01\", \"2013-01-01\", \"2013-01-01\", \"2013-01-01\", \"2013-01-01\", \"2013-01-01\", \"2013-01-01\", \"2013-01-01\", \"2013-01-01\", \"2013-01-01\", \"2013-01-01\", \"2013-01-01\", \"2013-01-01\", \"2013-01-01\", \"2013-01-01\", \"2013-01-01\", \"2013-01-01\", \"2013-01-01\", \"2014-01-01\", \"2014-01-01\", \"2014-01-01\", \"2014-01-01\", \"2014-01-01\", \"2014-01-01\", \"2014-01-01\", \"2014-01-01\", \"2014-01-01\", \"2014-01-01\", \"2014-01-01\", \"2014-01-01\", \"2014-01-01\", \"2014-01-01\", \"2014-01-01\", \"2014-01-01\", \"2014-01-01\", \"2014-01-01\", \"2014-01-01\", \"2014-01-01\", \"2014-01-01\", \"2014-01-01\", \"2014-01-01\", \"2014-01-01\", \"2014-01-01\", \"2014-01-01\", \"2014-01-01\", \"2014-01-01\", \"2014-01-01\", \"2014-01-01\", \"2014-01-01\", \"2014-01-01\", \"2014-01-01\", \"2014-01-01\", \"2014-01-01\", \"2014-01-01\", \"2014-01-01\", \"2014-01-01\", \"2014-01-01\", \"2014-01-01\", \"2014-01-01\", \"2014-01-01\", \"2014-01-01\", \"2014-01-01\", \"2014-01-01\", \"2014-01-01\", \"2014-01-01\", \"2014-01-01\", \"2014-01-01\", \"2014-01-01\", \"2014-01-01\"], \"y\": [\"Alabama\", \"Alaska\", \"Arizona\", \"Arkansas\", \"California\", \"Colorado\", \"Connecticut\", \"Delaware\", \"Florida\", \"Georgia\", \"Hawaii\", \"Idaho\", \"Illinois\", \"Indiana\", \"Iowa\", \"Kansas\", \"Kentucky\", \"Louisiana\", \"Maine\", \"Maryland\", \"Massachusetts\", \"Michigan\", \"Minnesota\", \"Mississippi\", \"Missouri\", \"Montana\", \"Nebraska\", \"Nevada\", \"New Hampshire\", \"New Jersey\", \"New Mexico\", \"New York\", \"North Carolina\", \"North Dakota\", \"Ohio\", \"Oklahoma\", \"Oregon\", \"Pennsylvania\", \"Rhode Island\", \"South Carolina\", \"South Dakota\", \"Tennessee\", \"Texas\", \"Utah\", \"Vermont\", \"Virginia\", \"Washington\", \"West Virginia\", \"Wisconsin\", \"Wyoming\", \"District of Columbia\", \"Alabama\", \"Alaska\", \"Arizona\", \"Arkansas\", \"California\", \"Colorado\", \"Connecticut\", \"Delaware\", \"Florida\", \"Georgia\", \"Hawaii\", \"Idaho\", \"Illinois\", \"Indiana\", \"Iowa\", \"Kansas\", \"Kentucky\", \"Louisiana\", \"Maine\", \"Maryland\", \"Massachusetts\", \"Michigan\", \"Minnesota\", \"Mississippi\", \"Missouri\", \"Montana\", \"Nebraska\", \"Nevada\", \"New Hampshire\", \"New Jersey\", \"New Mexico\", \"New York\", \"North Carolina\", \"North Dakota\", \"Ohio\", \"Oklahoma\", \"Oregon\", \"Pennsylvania\", \"Rhode Island\", \"South Carolina\", \"South Dakota\", \"Tennessee\", \"Texas\", \"Utah\", \"Vermont\", \"Virginia\", \"Washington\", \"West Virginia\", \"Wisconsin\", \"Wyoming\", \"District of Columbia\", \"Alabama\", \"Alaska\", \"Arizona\", \"Arkansas\", \"California\", \"Colorado\", \"Connecticut\", \"Delaware\", \"Florida\", \"Georgia\", \"Hawaii\", \"Idaho\", \"Illinois\", \"Indiana\", \"Iowa\", \"Kansas\", \"Kentucky\", \"Louisiana\", \"Maine\", \"Maryland\", \"Massachusetts\", \"Michigan\", \"Minnesota\", \"Mississippi\", \"Missouri\", \"Montana\", \"Nebraska\", \"Nevada\", \"New Hampshire\", \"New Jersey\", \"New Mexico\", \"New York\", \"North Carolina\", \"North Dakota\", \"Ohio\", \"Oklahoma\", \"Oregon\", \"Pennsylvania\", \"Rhode Island\", \"South Carolina\", \"South Dakota\", \"Tennessee\", \"Texas\", \"Utah\", \"Vermont\", \"Virginia\", \"Washington\", \"West Virginia\", \"Wisconsin\", \"Wyoming\", \"District of Columbia\", \"Alabama\", \"Alaska\", \"Arizona\", \"Arkansas\", \"California\", \"Colorado\", \"Connecticut\", \"Delaware\", \"Florida\", \"Georgia\", \"Hawaii\", \"Idaho\", \"Illinois\", \"Indiana\", \"Iowa\", \"Kansas\", \"Kentucky\", \"Louisiana\", \"Maine\", \"Maryland\", \"Massachusetts\", \"Michigan\", \"Minnesota\", \"Mississippi\", \"Missouri\", \"Montana\", \"Nebraska\", \"Nevada\", \"New Hampshire\", \"New Jersey\", \"New Mexico\", \"New York\", \"North Carolina\", \"North Dakota\", \"Ohio\", \"Oklahoma\", \"Oregon\", \"Pennsylvania\", \"Rhode Island\", \"South Carolina\", \"South Dakota\", \"Tennessee\", \"Texas\", \"Utah\", \"Vermont\", \"Virginia\", \"Washington\", \"West Virginia\", \"Wisconsin\", \"Wyoming\", \"District of Columbia\"], \"z\": [-0.020443249, -1.175137215, 1.3414718, 1.36951366, -1.162079243, 5.183396609, -3.384435058, 2.866848127, 5.540393445, 1.105815775, -0.728611798, 0.058330869, -5.4247622710000005, -1.302542626, 0.09157510699999999, -3.1569683189999997, 0.597026839, 0.454747125, 0.061763475, 0.062930206, -0.523665785, -4.371657403, -0.628046056, -1.9609112030000002, -2.245426256, 3.434199964, -0.64486314, -2.8273287789999997, -1.636664938, -5.110337107, 0.030892824, -4.325454828, 3.172142612, 9.145424309, -3.188587898, 1.674262736, 2.9576648210000003, -0.5467672610000001, -5.839158082000001, 3.1912023019999998, 2.4494578330000003, 2.4525251519999998, 4.577944559, -0.32882084300000003, -0.7522507629999999, 1.331716697, 3.446470122, 0.5861168489999999, -1.094923844, -0.362194332, 11.33288241, -0.16841354100000003, -1.949571184, -0.42087527799999996, 5.13128187, -1.173950696, 5.553675215, -5.611491546, 3.5983800169999998, 5.125320316, 1.8522008769999998, -2.567288472, -0.163554415, -5.690471905, -1.954161544, -1.3988316580000002, -1.789806028, -1.271262488, -0.16796075600000002, -0.467528596, -1.432046554, -1.63158264, -3.394243177, -1.657431116, -1.8894809559999999, -2.240644077, 3.550986008, -0.49165445, 5.284415978999999, -0.398574528, -5.589037608, -3.4201288930000002, -5.94680886, 3.299538451, 15.58963681, -3.204065457, 2.350732931, 3.376112881, -1.3587030009999999, -5.02599711, 5.613008112999999, 5.243944715, 4.286281332, 5.630981772999999, -0.030685027, -2.604208247, 0.603915329, 1.9621768869999998, 0.562067957, -1.6538867259999999, 9.651173763, 10.00583847, 0.396415887, -3.789313102, -0.5805623329999999, 3.910475996, -1.341226344, 6.977583181, -4.731638212, 3.3971709789999998, 4.918783369, -0.576887568, -0.663156245, 2.986504627, -5.238097733, -0.231150462, 0.15012298400000001, -4.369598429, -0.542180801, -0.496857926, -1.102625453, -1.51387644, -0.325484225, -2.98681078, -0.414341818, -1.60546158, -1.348776549, 5.297948988, -0.478459136, 4.755226448999999, -1.98644963, -5.120561617, -5.062940355, -5.48204938, 3.88690203, 23.1894509, -1.912302891, 3.599656175, 2.489666212, -2.483940274, -4.874664707, 5.954363292999999, 5.197575735, 2.089798328, 4.428284006, 1.9208121740000001, -1.09817054, 0.304183119, 2.250746157, -1.252861257, -1.3697434419999999, 4.54782108, 9.777666334, 0.42010154899999996, -13.75449375, -1.3130504729999999, 6.280635867999999, -0.830982325, 7.587162607000001, -7.286251924, 5.148173903, 7.01612271, 2.200466631, -3.6350806139999996, 4.738695787, -7.3691757120000005, -1.192171554, -0.261312787, -4.760146087, -0.8589544579999999, -1.3115694, 0.399429666, -2.56732105, -2.431047603, -2.895688474, -1.230969132, -3.134498274, -1.333607961, 4.464191542, -1.360362109, 8.390945678, 0.843200554, -6.21512647, -6.784475467, -7.804947159, 3.663640478, 12.26510057, -1.574969153, 1.132299656, 5.740470711, -2.459901351, -3.212669318, 8.040888713, 0.6616883060000001, 3.757448001, 5.778507385, -0.42253359700000004, -2.471643515, -2.458329804, 3.998924994, -1.484372912, -1.7270527919999998, -4.577788133, 1.793572497]}],\n",
       "                        {\"title\": {\"text\": \"US Domestic Migration from 2010-2014\"}, \"xaxis\": {\"range\": [\"2010-07-01\", \"2014-07-01\"]}, \"yaxis\": {\"automargin\": true, \"autorange\": \"reversed\"}},\n",
       "                        {\"showLink\": false, \"linkText\": \"Export to plot.ly\", \"plotlyServerURL\": \"https://plot.ly\", \"responsive\": true}\n",
       "                    )\n",
       "                };\n",
       "                });\n",
       "            </script>\n",
       "        </div>"
      ]
     },
     "metadata": {},
     "output_type": "display_data"
    }
   ],
   "source": [
    "data = [\n",
    "    go.Heatmap(\n",
    "        z=migration['migration_rate'],\n",
    "        x=migration['date'],\n",
    "        y=migration['State'],\n",
    "        colorscale='Viridis',\n",
    "        colorbar = dict(title = 'Migration Rate'),\n",
    "        text=migration['text'],\n",
    "        hoverinfo='text'\n",
    "    )\n",
    "]\n",
    "\n",
    "layout = go.Layout(\n",
    "    title = 'US Domestic Migration from 2010-2014',\n",
    "    xaxis = dict(range=(datetime.date(2010, 7, 1), datetime.date(2014, 7, 1))),\n",
    "    yaxis = dict(autorange='reversed', automargin=True)\n",
    ")\n",
    "\n",
    "fig = go.Figure(data=data, layout=layout)\n",
    "iplot(fig)"
   ]
  },
  {
   "cell_type": "code",
   "execution_count": 29,
   "metadata": {
    "ExecuteTime": {
     "end_time": "2019-05-16T22:39:51.158541Z",
     "start_time": "2019-05-16T22:39:50.962689Z"
    }
   },
   "outputs": [
    {
     "data": {
      "text/plain": [
       "'domestic-migration.html'"
      ]
     },
     "execution_count": 29,
     "metadata": {},
     "output_type": "execute_result"
    }
   ],
   "source": [
    "plot(fig, filename='domestic-migration.html')"
   ]
  },
  {
   "cell_type": "markdown",
   "metadata": {},
   "source": [
    "# Stacked Area Plot"
   ]
  },
  {
   "cell_type": "code",
   "execution_count": 30,
   "metadata": {
    "ExecuteTime": {
     "end_time": "2019-05-16T22:39:51.171006Z",
     "start_time": "2019-05-16T22:39:51.163673Z"
    }
   },
   "outputs": [],
   "source": [
    "cali = energy.loc[energy.StateCodes == 'CA']"
   ]
  },
  {
   "cell_type": "code",
   "execution_count": 31,
   "metadata": {
    "ExecuteTime": {
     "end_time": "2019-05-16T22:39:51.254974Z",
     "start_time": "2019-05-16T22:39:51.175002Z"
    }
   },
   "outputs": [
    {
     "data": {
      "text/html": [
       "<div>\n",
       "<style scoped>\n",
       "    .dataframe tbody tr th:only-of-type {\n",
       "        vertical-align: middle;\n",
       "    }\n",
       "\n",
       "    .dataframe tbody tr th {\n",
       "        vertical-align: top;\n",
       "    }\n",
       "\n",
       "    .dataframe thead th {\n",
       "        text-align: right;\n",
       "    }\n",
       "</style>\n",
       "<table border=\"1\" class=\"dataframe\">\n",
       "  <thead>\n",
       "    <tr style=\"text-align: right;\">\n",
       "      <th></th>\n",
       "      <th>type</th>\n",
       "      <th>expenditures</th>\n",
       "      <th>year</th>\n",
       "    </tr>\n",
       "  </thead>\n",
       "  <tbody>\n",
       "    <tr>\n",
       "      <th>0</th>\n",
       "      <td>Coal</td>\n",
       "      <td>161.4</td>\n",
       "      <td>2010</td>\n",
       "    </tr>\n",
       "    <tr>\n",
       "      <th>1</th>\n",
       "      <td>Elec</td>\n",
       "      <td>33381.8</td>\n",
       "      <td>2010</td>\n",
       "    </tr>\n",
       "    <tr>\n",
       "      <th>2</th>\n",
       "      <td>NatGas</td>\n",
       "      <td>14914.1</td>\n",
       "      <td>2010</td>\n",
       "    </tr>\n",
       "    <tr>\n",
       "      <th>3</th>\n",
       "      <td>LPG</td>\n",
       "      <td>1669.8</td>\n",
       "      <td>2010</td>\n",
       "    </tr>\n",
       "    <tr>\n",
       "      <th>4</th>\n",
       "      <td>Coal</td>\n",
       "      <td>173.1</td>\n",
       "      <td>2011</td>\n",
       "    </tr>\n",
       "    <tr>\n",
       "      <th>5</th>\n",
       "      <td>Elec</td>\n",
       "      <td>33919.1</td>\n",
       "      <td>2011</td>\n",
       "    </tr>\n",
       "    <tr>\n",
       "      <th>6</th>\n",
       "      <td>NatGas</td>\n",
       "      <td>14353.7</td>\n",
       "      <td>2011</td>\n",
       "    </tr>\n",
       "    <tr>\n",
       "      <th>7</th>\n",
       "      <td>LPG</td>\n",
       "      <td>1921.0</td>\n",
       "      <td>2011</td>\n",
       "    </tr>\n",
       "    <tr>\n",
       "      <th>8</th>\n",
       "      <td>Coal</td>\n",
       "      <td>133.6</td>\n",
       "      <td>2012</td>\n",
       "    </tr>\n",
       "    <tr>\n",
       "      <th>9</th>\n",
       "      <td>Elec</td>\n",
       "      <td>34852.5</td>\n",
       "      <td>2012</td>\n",
       "    </tr>\n",
       "    <tr>\n",
       "      <th>10</th>\n",
       "      <td>NatGas</td>\n",
       "      <td>13009.6</td>\n",
       "      <td>2012</td>\n",
       "    </tr>\n",
       "    <tr>\n",
       "      <th>11</th>\n",
       "      <td>LPG</td>\n",
       "      <td>1492.5</td>\n",
       "      <td>2012</td>\n",
       "    </tr>\n",
       "    <tr>\n",
       "      <th>12</th>\n",
       "      <td>Coal</td>\n",
       "      <td>129.5</td>\n",
       "      <td>2013</td>\n",
       "    </tr>\n",
       "    <tr>\n",
       "      <th>13</th>\n",
       "      <td>Elec</td>\n",
       "      <td>37028.1</td>\n",
       "      <td>2013</td>\n",
       "    </tr>\n",
       "    <tr>\n",
       "      <th>14</th>\n",
       "      <td>NatGas</td>\n",
       "      <td>14808.6</td>\n",
       "      <td>2013</td>\n",
       "    </tr>\n",
       "    <tr>\n",
       "      <th>15</th>\n",
       "      <td>LPG</td>\n",
       "      <td>1493.1</td>\n",
       "      <td>2013</td>\n",
       "    </tr>\n",
       "    <tr>\n",
       "      <th>16</th>\n",
       "      <td>Coal</td>\n",
       "      <td>135.3</td>\n",
       "      <td>2014</td>\n",
       "    </tr>\n",
       "    <tr>\n",
       "      <th>17</th>\n",
       "      <td>Elec</td>\n",
       "      <td>39424.1</td>\n",
       "      <td>2014</td>\n",
       "    </tr>\n",
       "    <tr>\n",
       "      <th>18</th>\n",
       "      <td>NatGas</td>\n",
       "      <td>16127.9</td>\n",
       "      <td>2014</td>\n",
       "    </tr>\n",
       "    <tr>\n",
       "      <th>19</th>\n",
       "      <td>LPG</td>\n",
       "      <td>1424.7</td>\n",
       "      <td>2014</td>\n",
       "    </tr>\n",
       "  </tbody>\n",
       "</table>\n",
       "</div>"
      ],
      "text/plain": [
       "      type  expenditures  year\n",
       "0     Coal         161.4  2010\n",
       "1     Elec       33381.8  2010\n",
       "2   NatGas       14914.1  2010\n",
       "3      LPG        1669.8  2010\n",
       "4     Coal         173.1  2011\n",
       "5     Elec       33919.1  2011\n",
       "6   NatGas       14353.7  2011\n",
       "7      LPG        1921.0  2011\n",
       "8     Coal         133.6  2012\n",
       "9     Elec       34852.5  2012\n",
       "10  NatGas       13009.6  2012\n",
       "11     LPG        1492.5  2012\n",
       "12    Coal         129.5  2013\n",
       "13    Elec       37028.1  2013\n",
       "14  NatGas       14808.6  2013\n",
       "15     LPG        1493.1  2013\n",
       "16    Coal         135.3  2014\n",
       "17    Elec       39424.1  2014\n",
       "18  NatGas       16127.9  2014\n",
       "19     LPG        1424.7  2014"
      ]
     },
     "execution_count": 31,
     "metadata": {},
     "output_type": "execute_result"
    }
   ],
   "source": [
    "cali_melt = pd.melt(cali, id_vars='State', value_vars=['CoalE2010', 'ElecE2010', 'NatGasE2010', 'LPGE2010',\n",
    "                                                       'CoalE2011', 'ElecE2011', 'NatGasE2011', 'LPGE2011',\n",
    "                                                       'CoalE2012', 'ElecE2012', 'NatGasE2012', 'LPGE2012',\n",
    "                                                       'CoalE2013', 'ElecE2013', 'NatGasE2013', 'LPGE2013',\n",
    "                                                       'CoalE2014', 'ElecE2014', 'NatGasE2014', 'LPGE2014'],\n",
    "                    var_name='type', value_name='expenditures').drop('State', axis=1)\n",
    "\n",
    "# new data frame with split type column\n",
    "split = cali_melt['type'].str.split(\"E2\", n = 1, expand = True)\n",
    "  \n",
    "# seperate type\n",
    "cali_melt['type']= split[0] \n",
    "  \n",
    "# and year\n",
    "cali_melt['year']= '2' + split[1] \n",
    "\n",
    "cali_melt"
   ]
  },
  {
   "cell_type": "code",
   "execution_count": 32,
   "metadata": {
    "ExecuteTime": {
     "end_time": "2019-05-16T22:39:51.301682Z",
     "start_time": "2019-05-16T22:39:51.257814Z"
    }
   },
   "outputs": [
    {
     "data": {
      "text/html": [
       "<div>\n",
       "<style scoped>\n",
       "    .dataframe tbody tr th:only-of-type {\n",
       "        vertical-align: middle;\n",
       "    }\n",
       "\n",
       "    .dataframe tbody tr th {\n",
       "        vertical-align: top;\n",
       "    }\n",
       "\n",
       "    .dataframe thead th {\n",
       "        text-align: right;\n",
       "    }\n",
       "</style>\n",
       "<table border=\"1\" class=\"dataframe\">\n",
       "  <thead>\n",
       "    <tr style=\"text-align: right;\">\n",
       "      <th>type</th>\n",
       "      <th>Coal</th>\n",
       "      <th>Elec</th>\n",
       "      <th>LPG</th>\n",
       "      <th>NatGas</th>\n",
       "    </tr>\n",
       "    <tr>\n",
       "      <th>year</th>\n",
       "      <th></th>\n",
       "      <th></th>\n",
       "      <th></th>\n",
       "      <th></th>\n",
       "    </tr>\n",
       "  </thead>\n",
       "  <tbody>\n",
       "    <tr>\n",
       "      <th>2010</th>\n",
       "      <td>0.003220</td>\n",
       "      <td>0.665943</td>\n",
       "      <td>0.033311</td>\n",
       "      <td>0.297526</td>\n",
       "    </tr>\n",
       "    <tr>\n",
       "      <th>2011</th>\n",
       "      <td>0.003437</td>\n",
       "      <td>0.673440</td>\n",
       "      <td>0.038140</td>\n",
       "      <td>0.284983</td>\n",
       "    </tr>\n",
       "    <tr>\n",
       "      <th>2012</th>\n",
       "      <td>0.002700</td>\n",
       "      <td>0.704259</td>\n",
       "      <td>0.030159</td>\n",
       "      <td>0.262883</td>\n",
       "    </tr>\n",
       "    <tr>\n",
       "      <th>2013</th>\n",
       "      <td>0.002422</td>\n",
       "      <td>0.692641</td>\n",
       "      <td>0.027930</td>\n",
       "      <td>0.277007</td>\n",
       "    </tr>\n",
       "    <tr>\n",
       "      <th>2014</th>\n",
       "      <td>0.002369</td>\n",
       "      <td>0.690295</td>\n",
       "      <td>0.024946</td>\n",
       "      <td>0.282391</td>\n",
       "    </tr>\n",
       "  </tbody>\n",
       "</table>\n",
       "</div>"
      ],
      "text/plain": [
       "type      Coal      Elec       LPG    NatGas\n",
       "year                                        \n",
       "2010  0.003220  0.665943  0.033311  0.297526\n",
       "2011  0.003437  0.673440  0.038140  0.284983\n",
       "2012  0.002700  0.704259  0.030159  0.262883\n",
       "2013  0.002422  0.692641  0.027930  0.277007\n",
       "2014  0.002369  0.690295  0.024946  0.282391"
      ]
     },
     "execution_count": 32,
     "metadata": {},
     "output_type": "execute_result"
    }
   ],
   "source": [
    "# Calculate percentages by type and year\n",
    "expenditures_prct = cali_melt.groupby(['year', 'type'])\\\n",
    "    .agg({'expenditures': 'sum'})\\\n",
    "    .groupby(level=0)\\\n",
    "    .apply(lambda x: x / float(x.sum()))\n",
    "\n",
    "expenditures_prct.reset_index(inplace=True)\n",
    "\n",
    "expenditures_prct = expenditures_prct.pivot(index='year', columns='type', values='expenditures')\n",
    "expenditures_prct"
   ]
  },
  {
   "cell_type": "code",
   "execution_count": 33,
   "metadata": {
    "ExecuteTime": {
     "end_time": "2019-05-16T22:39:51.475809Z",
     "start_time": "2019-05-16T22:39:51.303188Z"
    }
   },
   "outputs": [
    {
     "data": {
      "image/png": "[encoded data removed]",
      "text/plain": [
       "<Figure size 432x288 with 1 Axes>"
      ]
     },
     "metadata": {
      "needs_background": "light"
     },
     "output_type": "display_data"
    }
   ],
   "source": [
    "# Make the plot\n",
    "plt.stackplot(expenditures_prct.index,\n",
    "              expenditures_prct['Coal'],\n",
    "              expenditures_prct['Elec'],\n",
    "              expenditures_prct['LPG'],\n",
    "              expenditures_prct['NatGas'],\n",
    "              labels=['Coal', 'Electricity', 'Liquid Petroleum', 'Natural Gas'])\n",
    "plt.legend(bbox_to_anchor=(1, 1), loc='upper left', ncol=1)\n",
    "plt.margins(0,0)\n",
    "plt.title(\"US Energy Expenditures from 2010-2014\")\n",
    "plt.xlabel('Year')\n",
    "plt.ylabel('% of Total')\n",
    "plt.show()"
   ]
  },
  {
   "cell_type": "markdown",
   "metadata": {},
   "source": [
    "# Treemapping (on Tableau)"
   ]
  },
  {
   "cell_type": "code",
   "execution_count": 34,
   "metadata": {
    "ExecuteTime": {
     "end_time": "2019-05-16T22:39:51.514172Z",
     "start_time": "2019-05-16T22:39:51.478004Z"
    },
    "scrolled": true
   },
   "outputs": [
    {
     "data": {
      "text/html": [
       "<div>\n",
       "<style scoped>\n",
       "    .dataframe tbody tr th:only-of-type {\n",
       "        vertical-align: middle;\n",
       "    }\n",
       "\n",
       "    .dataframe tbody tr th {\n",
       "        vertical-align: top;\n",
       "    }\n",
       "\n",
       "    .dataframe thead th {\n",
       "        text-align: right;\n",
       "    }\n",
       "</style>\n",
       "<table border=\"1\" class=\"dataframe\">\n",
       "  <thead>\n",
       "    <tr style=\"text-align: right;\">\n",
       "      <th></th>\n",
       "      <th>State</th>\n",
       "      <th>rate</th>\n",
       "      <th>year</th>\n",
       "    </tr>\n",
       "  </thead>\n",
       "  <tbody>\n",
       "    <tr>\n",
       "      <th>0</th>\n",
       "      <td>Alabama</td>\n",
       "      <td>1.011941</td>\n",
       "      <td>2011</td>\n",
       "    </tr>\n",
       "    <tr>\n",
       "      <th>1</th>\n",
       "      <td>Alaska</td>\n",
       "      <td>0.948185</td>\n",
       "      <td>2011</td>\n",
       "    </tr>\n",
       "    <tr>\n",
       "      <th>2</th>\n",
       "      <td>Arizona</td>\n",
       "      <td>2.317801</td>\n",
       "      <td>2011</td>\n",
       "    </tr>\n",
       "    <tr>\n",
       "      <th>3</th>\n",
       "      <td>Arkansas</td>\n",
       "      <td>3.336628</td>\n",
       "      <td>2011</td>\n",
       "    </tr>\n",
       "    <tr>\n",
       "      <th>4</th>\n",
       "      <td>California</td>\n",
       "      <td>2.761377</td>\n",
       "      <td>2011</td>\n",
       "    </tr>\n",
       "    <tr>\n",
       "      <th>5</th>\n",
       "      <td>Colorado</td>\n",
       "      <td>6.933159</td>\n",
       "      <td>2011</td>\n",
       "    </tr>\n",
       "    <tr>\n",
       "      <th>6</th>\n",
       "      <td>Connecticut</td>\n",
       "      <td>1.116894</td>\n",
       "      <td>2011</td>\n",
       "    </tr>\n",
       "    <tr>\n",
       "      <th>7</th>\n",
       "      <td>Delaware</td>\n",
       "      <td>5.303282</td>\n",
       "      <td>2011</td>\n",
       "    </tr>\n",
       "    <tr>\n",
       "      <th>8</th>\n",
       "      <td>Florida</td>\n",
       "      <td>11.359606</td>\n",
       "      <td>2011</td>\n",
       "    </tr>\n",
       "    <tr>\n",
       "      <th>9</th>\n",
       "      <td>Georgia</td>\n",
       "      <td>3.375007</td>\n",
       "      <td>2011</td>\n",
       "    </tr>\n",
       "    <tr>\n",
       "      <th>10</th>\n",
       "      <td>Hawaii</td>\n",
       "      <td>4.254976</td>\n",
       "      <td>2011</td>\n",
       "    </tr>\n",
       "    <tr>\n",
       "      <th>11</th>\n",
       "      <td>Idaho</td>\n",
       "      <td>0.952949</td>\n",
       "      <td>2011</td>\n",
       "    </tr>\n",
       "    <tr>\n",
       "      <th>12</th>\n",
       "      <td>Illinois</td>\n",
       "      <td>-3.182714</td>\n",
       "      <td>2011</td>\n",
       "    </tr>\n",
       "    <tr>\n",
       "      <th>13</th>\n",
       "      <td>Indiana</td>\n",
       "      <td>0.155918</td>\n",
       "      <td>2011</td>\n",
       "    </tr>\n",
       "    <tr>\n",
       "      <th>14</th>\n",
       "      <td>Iowa</td>\n",
       "      <td>1.684655</td>\n",
       "      <td>2011</td>\n",
       "    </tr>\n",
       "    <tr>\n",
       "      <th>15</th>\n",
       "      <td>Kansas</td>\n",
       "      <td>-1.406549</td>\n",
       "      <td>2011</td>\n",
       "    </tr>\n",
       "    <tr>\n",
       "      <th>16</th>\n",
       "      <td>Kentucky</td>\n",
       "      <td>1.778007</td>\n",
       "      <td>2011</td>\n",
       "    </tr>\n",
       "    <tr>\n",
       "      <th>17</th>\n",
       "      <td>Louisiana</td>\n",
       "      <td>1.940240</td>\n",
       "      <td>2011</td>\n",
       "    </tr>\n",
       "    <tr>\n",
       "      <th>18</th>\n",
       "      <td>Maine</td>\n",
       "      <td>0.951308</td>\n",
       "      <td>2011</td>\n",
       "    </tr>\n",
       "    <tr>\n",
       "      <th>19</th>\n",
       "      <td>Maryland</td>\n",
       "      <td>4.604050</td>\n",
       "      <td>2011</td>\n",
       "    </tr>\n",
       "    <tr>\n",
       "      <th>20</th>\n",
       "      <td>Massachusetts</td>\n",
       "      <td>4.789037</td>\n",
       "      <td>2011</td>\n",
       "    </tr>\n",
       "    <tr>\n",
       "      <th>21</th>\n",
       "      <td>Michigan</td>\n",
       "      <td>-2.546041</td>\n",
       "      <td>2011</td>\n",
       "    </tr>\n",
       "    <tr>\n",
       "      <th>22</th>\n",
       "      <td>Minnesota</td>\n",
       "      <td>1.733460</td>\n",
       "      <td>2011</td>\n",
       "    </tr>\n",
       "    <tr>\n",
       "      <th>23</th>\n",
       "      <td>Mississippi</td>\n",
       "      <td>-1.337642</td>\n",
       "      <td>2011</td>\n",
       "    </tr>\n",
       "    <tr>\n",
       "      <th>24</th>\n",
       "      <td>Missouri</td>\n",
       "      <td>-0.987954</td>\n",
       "      <td>2011</td>\n",
       "    </tr>\n",
       "    <tr>\n",
       "      <th>25</th>\n",
       "      <td>Montana</td>\n",
       "      <td>4.040768</td>\n",
       "      <td>2011</td>\n",
       "    </tr>\n",
       "    <tr>\n",
       "      <th>26</th>\n",
       "      <td>Nebraska</td>\n",
       "      <td>1.169359</td>\n",
       "      <td>2011</td>\n",
       "    </tr>\n",
       "    <tr>\n",
       "      <th>27</th>\n",
       "      <td>Nevada</td>\n",
       "      <td>-0.080781</td>\n",
       "      <td>2011</td>\n",
       "    </tr>\n",
       "    <tr>\n",
       "      <th>28</th>\n",
       "      <td>New Hampshire</td>\n",
       "      <td>-0.302889</td>\n",
       "      <td>2011</td>\n",
       "    </tr>\n",
       "    <tr>\n",
       "      <th>29</th>\n",
       "      <td>New Jersey</td>\n",
       "      <td>0.454262</td>\n",
       "      <td>2011</td>\n",
       "    </tr>\n",
       "    <tr>\n",
       "      <th>...</th>\n",
       "      <td>...</td>\n",
       "      <td>...</td>\n",
       "      <td>...</td>\n",
       "    </tr>\n",
       "    <tr>\n",
       "      <th>174</th>\n",
       "      <td>Michigan</td>\n",
       "      <td>-0.866818</td>\n",
       "      <td>2014</td>\n",
       "    </tr>\n",
       "    <tr>\n",
       "      <th>175</th>\n",
       "      <td>Minnesota</td>\n",
       "      <td>1.343109</td>\n",
       "      <td>2014</td>\n",
       "    </tr>\n",
       "    <tr>\n",
       "      <th>176</th>\n",
       "      <td>Mississippi</td>\n",
       "      <td>-2.382780</td>\n",
       "      <td>2014</td>\n",
       "    </tr>\n",
       "    <tr>\n",
       "      <th>177</th>\n",
       "      <td>Missouri</td>\n",
       "      <td>0.093653</td>\n",
       "      <td>2014</td>\n",
       "    </tr>\n",
       "    <tr>\n",
       "      <th>178</th>\n",
       "      <td>Montana</td>\n",
       "      <td>5.215746</td>\n",
       "      <td>2014</td>\n",
       "    </tr>\n",
       "    <tr>\n",
       "      <th>179</th>\n",
       "      <td>Nebraska</td>\n",
       "      <td>0.668716</td>\n",
       "      <td>2014</td>\n",
       "    </tr>\n",
       "    <tr>\n",
       "      <th>180</th>\n",
       "      <td>Nevada</td>\n",
       "      <td>11.394537</td>\n",
       "      <td>2014</td>\n",
       "    </tr>\n",
       "    <tr>\n",
       "      <th>181</th>\n",
       "      <td>New Hampshire</td>\n",
       "      <td>2.372587</td>\n",
       "      <td>2014</td>\n",
       "    </tr>\n",
       "    <tr>\n",
       "      <th>182</th>\n",
       "      <td>New Jersey</td>\n",
       "      <td>-0.430596</td>\n",
       "      <td>2014</td>\n",
       "    </tr>\n",
       "    <tr>\n",
       "      <th>183</th>\n",
       "      <td>New Mexico</td>\n",
       "      <td>-5.503698</td>\n",
       "      <td>2014</td>\n",
       "    </tr>\n",
       "    <tr>\n",
       "      <th>184</th>\n",
       "      <td>New York</td>\n",
       "      <td>-1.780948</td>\n",
       "      <td>2014</td>\n",
       "    </tr>\n",
       "    <tr>\n",
       "      <th>185</th>\n",
       "      <td>North Carolina</td>\n",
       "      <td>5.804612</td>\n",
       "      <td>2014</td>\n",
       "    </tr>\n",
       "    <tr>\n",
       "      <th>186</th>\n",
       "      <td>North Dakota</td>\n",
       "      <td>14.028192</td>\n",
       "      <td>2014</td>\n",
       "    </tr>\n",
       "    <tr>\n",
       "      <th>187</th>\n",
       "      <td>Ohio</td>\n",
       "      <td>-0.061037</td>\n",
       "      <td>2014</td>\n",
       "    </tr>\n",
       "    <tr>\n",
       "      <th>188</th>\n",
       "      <td>Oklahoma</td>\n",
       "      <td>2.604522</td>\n",
       "      <td>2014</td>\n",
       "    </tr>\n",
       "    <tr>\n",
       "      <th>189</th>\n",
       "      <td>Oregon</td>\n",
       "      <td>7.478058</td>\n",
       "      <td>2014</td>\n",
       "    </tr>\n",
       "    <tr>\n",
       "      <th>190</th>\n",
       "      <td>Pennsylvania</td>\n",
       "      <td>-0.186792</td>\n",
       "      <td>2014</td>\n",
       "    </tr>\n",
       "    <tr>\n",
       "      <th>191</th>\n",
       "      <td>Rhode Island</td>\n",
       "      <td>0.856522</td>\n",
       "      <td>2014</td>\n",
       "    </tr>\n",
       "    <tr>\n",
       "      <th>192</th>\n",
       "      <td>South Carolina</td>\n",
       "      <td>9.351536</td>\n",
       "      <td>2014</td>\n",
       "    </tr>\n",
       "    <tr>\n",
       "      <th>193</th>\n",
       "      <td>South Dakota</td>\n",
       "      <td>2.367714</td>\n",
       "      <td>2014</td>\n",
       "    </tr>\n",
       "    <tr>\n",
       "      <th>194</th>\n",
       "      <td>Tennessee</td>\n",
       "      <td>5.161643</td>\n",
       "      <td>2014</td>\n",
       "    </tr>\n",
       "    <tr>\n",
       "      <th>195</th>\n",
       "      <td>Texas</td>\n",
       "      <td>8.944721</td>\n",
       "      <td>2014</td>\n",
       "    </tr>\n",
       "    <tr>\n",
       "      <th>196</th>\n",
       "      <td>Utah</td>\n",
       "      <td>1.447220</td>\n",
       "      <td>2014</td>\n",
       "    </tr>\n",
       "    <tr>\n",
       "      <th>197</th>\n",
       "      <td>Vermont</td>\n",
       "      <td>-1.324380</td>\n",
       "      <td>2014</td>\n",
       "    </tr>\n",
       "    <tr>\n",
       "      <th>198</th>\n",
       "      <td>Virginia</td>\n",
       "      <td>1.640092</td>\n",
       "      <td>2014</td>\n",
       "    </tr>\n",
       "    <tr>\n",
       "      <th>199</th>\n",
       "      <td>Washington</td>\n",
       "      <td>7.395083</td>\n",
       "      <td>2014</td>\n",
       "    </tr>\n",
       "    <tr>\n",
       "      <th>200</th>\n",
       "      <td>West Virginia</td>\n",
       "      <td>-0.855850</td>\n",
       "      <td>2014</td>\n",
       "    </tr>\n",
       "    <tr>\n",
       "      <th>201</th>\n",
       "      <td>Wisconsin</td>\n",
       "      <td>-0.587974</td>\n",
       "      <td>2014</td>\n",
       "    </tr>\n",
       "    <tr>\n",
       "      <th>202</th>\n",
       "      <td>Wyoming</td>\n",
       "      <td>-3.746865</td>\n",
       "      <td>2014</td>\n",
       "    </tr>\n",
       "    <tr>\n",
       "      <th>203</th>\n",
       "      <td>District of Columbia</td>\n",
       "      <td>7.542790</td>\n",
       "      <td>2014</td>\n",
       "    </tr>\n",
       "  </tbody>\n",
       "</table>\n",
       "<p>204 rows × 3 columns</p>\n",
       "</div>"
      ],
      "text/plain": [
       "                    State       rate  year\n",
       "0                 Alabama   1.011941  2011\n",
       "1                  Alaska   0.948185  2011\n",
       "2                 Arizona   2.317801  2011\n",
       "3                Arkansas   3.336628  2011\n",
       "4              California   2.761377  2011\n",
       "5                Colorado   6.933159  2011\n",
       "6             Connecticut   1.116894  2011\n",
       "7                Delaware   5.303282  2011\n",
       "8                 Florida  11.359606  2011\n",
       "9                 Georgia   3.375007  2011\n",
       "10                 Hawaii   4.254976  2011\n",
       "11                  Idaho   0.952949  2011\n",
       "12               Illinois  -3.182714  2011\n",
       "13                Indiana   0.155918  2011\n",
       "14                   Iowa   1.684655  2011\n",
       "15                 Kansas  -1.406549  2011\n",
       "16               Kentucky   1.778007  2011\n",
       "17              Louisiana   1.940240  2011\n",
       "18                  Maine   0.951308  2011\n",
       "19               Maryland   4.604050  2011\n",
       "20          Massachusetts   4.789037  2011\n",
       "21               Michigan  -2.546041  2011\n",
       "22              Minnesota   1.733460  2011\n",
       "23            Mississippi  -1.337642  2011\n",
       "24               Missouri  -0.987954  2011\n",
       "25                Montana   4.040768  2011\n",
       "26               Nebraska   1.169359  2011\n",
       "27                 Nevada  -0.080781  2011\n",
       "28          New Hampshire  -0.302889  2011\n",
       "29             New Jersey   0.454262  2011\n",
       "..                    ...        ...   ...\n",
       "174              Michigan  -0.866818  2014\n",
       "175             Minnesota   1.343109  2014\n",
       "176           Mississippi  -2.382780  2014\n",
       "177              Missouri   0.093653  2014\n",
       "178               Montana   5.215746  2014\n",
       "179              Nebraska   0.668716  2014\n",
       "180                Nevada  11.394537  2014\n",
       "181         New Hampshire   2.372587  2014\n",
       "182            New Jersey  -0.430596  2014\n",
       "183            New Mexico  -5.503698  2014\n",
       "184              New York  -1.780948  2014\n",
       "185        North Carolina   5.804612  2014\n",
       "186          North Dakota  14.028192  2014\n",
       "187                  Ohio  -0.061037  2014\n",
       "188              Oklahoma   2.604522  2014\n",
       "189                Oregon   7.478058  2014\n",
       "190          Pennsylvania  -0.186792  2014\n",
       "191          Rhode Island   0.856522  2014\n",
       "192        South Carolina   9.351536  2014\n",
       "193          South Dakota   2.367714  2014\n",
       "194             Tennessee   5.161643  2014\n",
       "195                 Texas   8.944721  2014\n",
       "196                  Utah   1.447220  2014\n",
       "197               Vermont  -1.324380  2014\n",
       "198              Virginia   1.640092  2014\n",
       "199            Washington   7.395083  2014\n",
       "200         West Virginia  -0.855850  2014\n",
       "201             Wisconsin  -0.587974  2014\n",
       "202               Wyoming  -3.746865  2014\n",
       "203  District of Columbia   7.542790  2014\n",
       "\n",
       "[204 rows x 3 columns]"
      ]
     },
     "execution_count": 34,
     "metadata": {},
     "output_type": "execute_result"
    }
   ],
   "source": [
    "net_migration = pd.melt(energy, id_vars='State',\n",
    "                        value_vars=['RNETMIG2011', 'RNETMIG2012', 'RNETMIG2013', 'RNETMIG2014'],\n",
    "                        var_name='migration', value_name='rate')\n",
    "\n",
    "split = net_migration['migration'].str.split(\"G2\", n = 1, expand = True)\n",
    "\n",
    "net_migration['year']= '2' + split[1] \n",
    "net_migration.drop('migration', axis=1, inplace=True)\n",
    "net_migration"
   ]
  },
  {
   "cell_type": "code",
   "execution_count": 35,
   "metadata": {
    "ExecuteTime": {
     "end_time": "2019-05-16T22:39:51.528195Z",
     "start_time": "2019-05-16T22:39:51.516984Z"
    }
   },
   "outputs": [],
   "source": [
    "net_migration.to_csv('net_migration.csv', index=False)"
   ]
  },
  {
   "cell_type": "markdown",
   "metadata": {},
   "source": [
    "Tidy Transformation"
   ]
  },
  {
   "cell_type": "code",
   "execution_count": 36,
   "metadata": {
    "ExecuteTime": {
     "end_time": "2019-05-16T22:39:51.550936Z",
     "start_time": "2019-05-16T22:39:51.530824Z"
    }
   },
   "outputs": [],
   "source": [
    "energy_long = pd.melt(energy, id_vars='State',\n",
    "                        value_vars=['TotalC2010', 'TotalC2011', 'TotalC2012', 'TotalC2013', 'TotalC2014',\n",
    "                                    'TotalP2010', 'TotalP2011', 'TotalP2012', 'TotalP2013', 'TotalP2014',\n",
    "                                    'TotalE2010', 'TotalE2011', 'TotalE2012', 'TotalE2013', 'TotalE2014',\n",
    "                                    'TotalPrice2010', 'TotalPrice2011', 'TotalPrice2012', 'TotalPrice2013', 'TotalPrice2014',\n",
    "                                    'TotalC10-11', 'TotalC11-12', 'TotalC12-13', 'TotalC13-14',\n",
    "                                    'TotalP10-11', 'TotalP11-12', 'TotalP12-13', 'TotalP13-14',\n",
    "                                    'TotalE10-11', 'TotalE11-12', 'TotalE12-13', 'TotalE13-14',\n",
    "                                    'TotalPrice10-11', 'TotalPrice11-12', 'TotalPrice12-13', 'TotalPrice13-14',\n",
    "                                    'BiomassC2010', 'BiomassC2011', 'BiomassC2012', 'BiomassC2013', 'BiomassC2014',\n",
    "                                    'CoalC2010', 'CoalC2011', 'CoalC2012', 'CoalC2013', 'CoalC2014',\n",
    "                                    'CoalP2010', 'CoalP2011', 'CoalP2012', 'CoalP2013', 'CoalP2014',\n",
    "                                    'CoalE2010', 'CoalE2011', 'CoalE2012', 'CoalE2013', 'CoalE2014',\n",
    "                                    'CoalPrice2010', 'CoalPrice2011', 'CoalPrice2012', 'CoalPrice2013', 'CoalPrice2014',\n",
    "                                    'ElecC2010', 'ElecC2011', 'ElecC2012', 'ElecC2013', 'ElecC2014',\n",
    "                                    'ElecE2010', 'ElecE2011', 'ElecE2012', 'ElecE2013', 'ElecE2014',\n",
    "                                    'ElecPrice2010', 'ElecPrice2011', 'ElecPrice2012', 'ElecPrice2013', 'ElecPrice2014',\n",
    "                                    'FossFuelC2010', 'FossFuelC2011', 'FossFuelC2012', 'FossFuelC2013', 'FossFuelC2014',\n",
    "                                    'GeoC2010', 'GeoC2011', 'GeoC2012', 'GeoC2013', 'GeoC2014',\n",
    "                                    'GeoP2010', 'GeoP2011', 'GeoP2012', 'GeoP2013', 'GeoP2014',\n",
    "                                    'HydroC2010', 'HydroC2011', 'HydroC2012', 'HydroC2013', 'HydroC2014',\n",
    "                                    'HydroP2010', 'HydroP2011', 'HydroP2012', 'HydroP2013', 'HydroP2014',\n",
    "                                    'NatGasC2010', 'NatGasC2011', 'NatGasC2012', 'NatGasC2013', 'NatGasC2014',\n",
    "                                    'NatGasE2010', 'NatGasE2011', 'NatGasE2012', 'NatGasE2013', 'NatGasE2014',\n",
    "                                    'NatGasPrice2010', 'NatGasPrice2011', 'NatGasPrice2012', 'NatGasPrice2013', 'NatGasPrice2014',\n",
    "                                    'LPGC2010', 'LPGC2011', 'LPGC2012', 'LPGC2013', 'LPGC2014',\n",
    "                                    'LPGE2010', 'LPGE2011', 'LPGE2012', 'LPGE2013', 'LPGE2014',\n",
    "                                    'LPGPrice2010', 'LPGPrice2011', 'LPGPrice2012', 'LPGPrice2013', 'LPGPrice2014',\n",
    "                                    'GDP2010Q1', 'GDP2010Q2', 'GDP2010Q3', 'GDP2010Q4', 'GDP2010',\n",
    "                                    'GDP2011Q1', 'GDP2011Q2', 'GDP2011Q3', 'GDP2011Q4', 'GDP2011',\n",
    "                                    'GDP2012Q1', 'GDP2012Q2', 'GDP2012Q3', 'GDP2012Q4', 'GDP2012',\n",
    "                                    'GDP2013Q1', 'GDP2013Q2', 'GDP2013Q3', 'GDP2013Q4', 'GDP2013',\n",
    "                                    'GDP2014Q1', 'GDP2014Q2', 'GDP2014Q3', 'GDP2014Q4', 'GDP2014',\n",
    "                                    'CENSUS2010POP', 'POPESTIMATE2010', 'POPESTIMATE2011', 'POPESTIMATE2012', 'POPESTIMATE2013', 'POPESTIMATE2014',\n",
    "                                    'RBIRTH2011', 'RBIRTH2012', 'RBIRTH2013', 'RBIRTH2014',\n",
    "                                    'RDEATH2011', 'RDEATH2012', 'RDEATH2013', 'RDEATH2014',\n",
    "                                    'RNATURALINC2011', 'RNATURALINC2012', 'RNATURALINC2013', 'RNATURALINC2014',\n",
    "                                    'RINTERNATIONALMIG2011', 'RINTERNATIONALMIG2012', 'RINTERNATIONALMIG2013', 'RINTERNATIONALMIG2014',\n",
    "                                    'RDOMESTICMIG2011', 'RDOMESTICMIG2012', 'RDOMESTICMIG2013', 'RDOMESTICMIG2014',\n",
    "                                    'RNETMIG2011', 'RNETMIG2012', 'RNETMIG2013', 'RNETMIG2014'],\n",
    "                        var_name='category', value_name='value')"
   ]
  },
  {
   "cell_type": "code",
   "execution_count": 37,
   "metadata": {
    "ExecuteTime": {
     "end_time": "2019-05-16T22:39:51.561676Z",
     "start_time": "2019-05-16T22:39:51.552459Z"
    }
   },
   "outputs": [
    {
     "data": {
      "text/html": [
       "<div>\n",
       "<style scoped>\n",
       "    .dataframe tbody tr th:only-of-type {\n",
       "        vertical-align: middle;\n",
       "    }\n",
       "\n",
       "    .dataframe tbody tr th {\n",
       "        vertical-align: top;\n",
       "    }\n",
       "\n",
       "    .dataframe thead th {\n",
       "        text-align: right;\n",
       "    }\n",
       "</style>\n",
       "<table border=\"1\" class=\"dataframe\">\n",
       "  <thead>\n",
       "    <tr style=\"text-align: right;\">\n",
       "      <th></th>\n",
       "      <th>State</th>\n",
       "      <th>category</th>\n",
       "      <th>value</th>\n",
       "    </tr>\n",
       "  </thead>\n",
       "  <tbody>\n",
       "    <tr>\n",
       "      <th>0</th>\n",
       "      <td>Alabama</td>\n",
       "      <td>TotalC2010</td>\n",
       "      <td>1931522.0</td>\n",
       "    </tr>\n",
       "    <tr>\n",
       "      <th>1</th>\n",
       "      <td>Alaska</td>\n",
       "      <td>TotalC2010</td>\n",
       "      <td>653221.0</td>\n",
       "    </tr>\n",
       "    <tr>\n",
       "      <th>2</th>\n",
       "      <td>Arizona</td>\n",
       "      <td>TotalC2010</td>\n",
       "      <td>1383531.0</td>\n",
       "    </tr>\n",
       "    <tr>\n",
       "      <th>3</th>\n",
       "      <td>Arkansas</td>\n",
       "      <td>TotalC2010</td>\n",
       "      <td>1120632.0</td>\n",
       "    </tr>\n",
       "    <tr>\n",
       "      <th>4</th>\n",
       "      <td>California</td>\n",
       "      <td>TotalC2010</td>\n",
       "      <td>7760629.0</td>\n",
       "    </tr>\n",
       "  </tbody>\n",
       "</table>\n",
       "</div>"
      ],
      "text/plain": [
       "        State    category      value\n",
       "0     Alabama  TotalC2010  1931522.0\n",
       "1      Alaska  TotalC2010   653221.0\n",
       "2     Arizona  TotalC2010  1383531.0\n",
       "3    Arkansas  TotalC2010  1120632.0\n",
       "4  California  TotalC2010  7760629.0"
      ]
     },
     "execution_count": 37,
     "metadata": {},
     "output_type": "execute_result"
    }
   ],
   "source": [
    "energy_long.head()"
   ]
  },
  {
   "cell_type": "code",
   "execution_count": 38,
   "metadata": {
    "ExecuteTime": {
     "end_time": "2019-05-16T22:39:51.600662Z",
     "start_time": "2019-05-16T22:39:51.563170Z"
    }
   },
   "outputs": [
    {
     "data": {
      "text/html": [
       "<div>\n",
       "<style scoped>\n",
       "    .dataframe tbody tr th:only-of-type {\n",
       "        vertical-align: middle;\n",
       "    }\n",
       "\n",
       "    .dataframe tbody tr th {\n",
       "        vertical-align: top;\n",
       "    }\n",
       "\n",
       "    .dataframe thead th {\n",
       "        text-align: right;\n",
       "    }\n",
       "</style>\n",
       "<table border=\"1\" class=\"dataframe\">\n",
       "  <thead>\n",
       "    <tr style=\"text-align: right;\">\n",
       "      <th></th>\n",
       "      <th>State</th>\n",
       "      <th>category</th>\n",
       "      <th>value</th>\n",
       "      <th>year</th>\n",
       "    </tr>\n",
       "  </thead>\n",
       "  <tbody>\n",
       "    <tr>\n",
       "      <th>0</th>\n",
       "      <td>Alabama</td>\n",
       "      <td>TotalC</td>\n",
       "      <td>1931522.0</td>\n",
       "      <td>2010</td>\n",
       "    </tr>\n",
       "    <tr>\n",
       "      <th>1</th>\n",
       "      <td>Alaska</td>\n",
       "      <td>TotalC</td>\n",
       "      <td>653221.0</td>\n",
       "      <td>2010</td>\n",
       "    </tr>\n",
       "    <tr>\n",
       "      <th>2</th>\n",
       "      <td>Arizona</td>\n",
       "      <td>TotalC</td>\n",
       "      <td>1383531.0</td>\n",
       "      <td>2010</td>\n",
       "    </tr>\n",
       "    <tr>\n",
       "      <th>3</th>\n",
       "      <td>Arkansas</td>\n",
       "      <td>TotalC</td>\n",
       "      <td>1120632.0</td>\n",
       "      <td>2010</td>\n",
       "    </tr>\n",
       "    <tr>\n",
       "      <th>4</th>\n",
       "      <td>California</td>\n",
       "      <td>TotalC</td>\n",
       "      <td>7760629.0</td>\n",
       "      <td>2010</td>\n",
       "    </tr>\n",
       "  </tbody>\n",
       "</table>\n",
       "</div>"
      ],
      "text/plain": [
       "        State category      value  year\n",
       "0     Alabama   TotalC  1931522.0  2010\n",
       "1      Alaska   TotalC   653221.0  2010\n",
       "2     Arizona   TotalC  1383531.0  2010\n",
       "3    Arkansas   TotalC  1120632.0  2010\n",
       "4  California   TotalC  7760629.0  2010"
      ]
     },
     "execution_count": 38,
     "metadata": {},
     "output_type": "execute_result"
    }
   ],
   "source": [
    "split = energy_long['category'].str.split(r'(201[0-4])', expand=True).drop(2, axis=1)\n",
    "energy_long['category'] = split[0]\n",
    "energy_long['year'] = split[1]\n",
    "energy_long.head()"
   ]
  },
  {
   "cell_type": "code",
   "execution_count": 39,
   "metadata": {
    "ExecuteTime": {
     "end_time": "2019-05-16T22:39:51.636954Z",
     "start_time": "2019-05-16T22:39:51.602404Z"
    }
   },
   "outputs": [],
   "source": [
    "energy_long.to_csv('energy_long.csv', index=False)"
   ]
  }
 ],
 "metadata": {
  "kernelspec": {
   "display_name": "Python 3",
   "language": "python",
   "name": "python3"
  },
  "language_info": {
   "codemirror_mode": {
    "name": "ipython",
    "version": 3
   },
   "file_extension": ".py",
   "mimetype": "text/x-python",
   "name": "python",
   "nbconvert_exporter": "python",
   "pygments_lexer": "ipython3",
   "version": "3.7.3"
  }
 },
 "nbformat": 4,
 "nbformat_minor": 2
}
