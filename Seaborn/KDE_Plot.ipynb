{
 "cells": [
  {
   "cell_type": "code",
   "execution_count": 1,
   "metadata": {
    "ExecuteTime": {
     "end_time": "2019-04-20T17:28:51.830769Z",
     "start_time": "2019-04-20T17:28:51.002550Z"
    }
   },
   "outputs": [],
   "source": [
    "import googlemaps\n",
    "import matplotlib.pyplot as plt\n",
    "import numpy as np\n",
    "import pandas as pd\n",
    "import seaborn as sns\n",
    "\n",
    "%matplotlib inline"
   ]
  },
  {
   "cell_type": "markdown",
   "metadata": {},
   "source": [
    "# Data Load"
   ]
  },
  {
   "cell_type": "code",
   "execution_count": 2,
   "metadata": {
    "ExecuteTime": {
     "end_time": "2019-04-20T17:28:51.847541Z",
     "start_time": "2019-04-20T17:28:51.832618Z"
    }
   },
   "outputs": [
    {
     "data": {
      "text/html": [
       "<div>\n",
       "<style scoped>\n",
       "    .dataframe tbody tr th:only-of-type {\n",
       "        vertical-align: middle;\n",
       "    }\n",
       "\n",
       "    .dataframe tbody tr th {\n",
       "        vertical-align: top;\n",
       "    }\n",
       "\n",
       "    .dataframe thead th {\n",
       "        text-align: right;\n",
       "    }\n",
       "</style>\n",
       "<table border=\"1\" class=\"dataframe\">\n",
       "  <thead>\n",
       "    <tr style=\"text-align: right;\">\n",
       "      <th></th>\n",
       "      <th>age</th>\n",
       "      <th>location</th>\n",
       "      <th>hours</th>\n",
       "      <th>comfortability</th>\n",
       "    </tr>\n",
       "  </thead>\n",
       "  <tbody>\n",
       "    <tr>\n",
       "      <th>0</th>\n",
       "      <td>How old are you?</td>\n",
       "      <td>Where are you from?</td>\n",
       "      <td>How many hours a week do you expect to spend o...</td>\n",
       "      <td>How comfortable are you doing a presentation i...</td>\n",
       "    </tr>\n",
       "    <tr>\n",
       "      <th>1</th>\n",
       "      <td>23</td>\n",
       "      <td>...</td>\n",
       "      <td>0</td>\n",
       "      <td>1</td>\n",
       "    </tr>\n",
       "    <tr>\n",
       "      <th>2</th>\n",
       "      <td>26</td>\n",
       "      <td>China</td>\n",
       "      <td>2</td>\n",
       "      <td>4</td>\n",
       "    </tr>\n",
       "    <tr>\n",
       "      <th>3</th>\n",
       "      <td>28</td>\n",
       "      <td>Taiwan</td>\n",
       "      <td>4</td>\n",
       "      <td>3</td>\n",
       "    </tr>\n",
       "    <tr>\n",
       "      <th>4</th>\n",
       "      <td>29</td>\n",
       "      <td>Russia</td>\n",
       "      <td>4</td>\n",
       "      <td>4</td>\n",
       "    </tr>\n",
       "  </tbody>\n",
       "</table>\n",
       "</div>"
      ],
      "text/plain": [
       "                age             location  \\\n",
       "0  How old are you?  Where are you from?   \n",
       "1                23                  ...   \n",
       "2                26                China   \n",
       "3                28               Taiwan   \n",
       "4                29               Russia   \n",
       "\n",
       "                                               hours  \\\n",
       "0  How many hours a week do you expect to spend o...   \n",
       "1                                                  0   \n",
       "2                                                  2   \n",
       "3                                                  4   \n",
       "4                                                  4   \n",
       "\n",
       "                                      comfortability  \n",
       "0  How comfortable are you doing a presentation i...  \n",
       "1                                                  1  \n",
       "2                                                  4  \n",
       "3                                                  3  \n",
       "4                                                  4  "
      ]
     },
     "execution_count": 2,
     "metadata": {},
     "output_type": "execute_result"
    }
   ],
   "source": [
    "survey = pd.read_csv(\"Data Visualization Survey (Both sections) (Responses) - Form Responses 1.csv\",\n",
    "                     usecols=[5, 6, 16, 18], names=['age', 'location', 'hours', 'comfortability'], header=None)\n",
    "survey.head()"
   ]
  },
  {
   "cell_type": "markdown",
   "metadata": {},
   "source": [
    "# Cleaning"
   ]
  },
  {
   "cell_type": "markdown",
   "metadata": {},
   "source": [
    "Remove first row since it seems unhelpful and not a lot of information"
   ]
  },
  {
   "cell_type": "code",
   "execution_count": 3,
   "metadata": {
    "ExecuteTime": {
     "end_time": "2019-04-20T17:28:51.853943Z",
     "start_time": "2019-04-20T17:28:51.849744Z"
    }
   },
   "outputs": [],
   "source": [
    "survey.drop(survey.index[0:2], inplace=True)"
   ]
  },
  {
   "cell_type": "markdown",
   "metadata": {},
   "source": [
    "Standardize Location"
   ]
  },
  {
   "cell_type": "code",
   "execution_count": 4,
   "metadata": {
    "ExecuteTime": {
     "end_time": "2019-04-20T17:28:51.861444Z",
     "start_time": "2019-04-20T17:28:51.855433Z"
    }
   },
   "outputs": [
    {
     "data": {
      "text/plain": [
       "array(['China', 'Taiwan', 'Russia', 'china', 'Hong Kong', 'Chicago, IL',\n",
       "       'Armenia', 'Brazil', 'Los Angeles', 'Shanghai, China', 'India',\n",
       "       'San Diego, California', 'Colorado', 'Malaysia and Australia',\n",
       "       'Canton, China', 'CA', 'Miami, FL', 'New York', 'Beijing',\n",
       "       'England', 'Seattle', 'Massachusettes ', 'Sacramento, California',\n",
       "       'Santa Barbara', 'San Francisco Bay Area', 'Tunisia', 'USA',\n",
       "       'Peru', 'SF Bay Area', 'beijing, CHINA', 'Brooklyn',\n",
       "       'San Francisco', 'Long Island', 'Denver, CO', 'Neverland',\n",
       "       'Colombia', 'Houston', 'Miami', 'Livermore, CA', 'Barcelona',\n",
       "       'sf bay area', 'New Orleans', 'California', 'Canada', 'Germany',\n",
       "       'Bay Area', 'Virginia'], dtype=object)"
      ]
     },
     "execution_count": 4,
     "metadata": {},
     "output_type": "execute_result"
    }
   ],
   "source": [
    "survey = survey[(survey.location.notnull()) & (survey.location != ' ')]\n",
    "\n",
    "locations = survey.location.unique()\n",
    "locations"
   ]
  },
  {
   "cell_type": "markdown",
   "metadata": {},
   "source": [
    "Properly Geotag countries through Google API"
   ]
  },
  {
   "cell_type": "code",
   "execution_count": 5,
   "metadata": {
    "ExecuteTime": {
     "end_time": "2019-04-20T17:28:58.160883Z",
     "start_time": "2019-04-20T17:28:51.862886Z"
    }
   },
   "outputs": [],
   "source": [
    "with open('google_api.txt', 'r') as key:\n",
    "    g_key = key.read().splitlines()[0]\n",
    "\n",
    "googmaps = googlemaps.Client(key=g_key)\n",
    "\n",
    "locs = []\n",
    "\n",
    "for location in locations:\n",
    "    locs.append(googmaps.geocode(location))"
   ]
  },
  {
   "cell_type": "code",
   "execution_count": 6,
   "metadata": {
    "ExecuteTime": {
     "end_time": "2019-04-20T17:28:58.175379Z",
     "start_time": "2019-04-20T17:28:58.163143Z"
    },
    "scrolled": true
   },
   "outputs": [
    {
     "name": "stdout",
     "output_type": "stream",
     "text": [
      "0 China CN\n",
      "1 Taiwan TW\n",
      "2 Russia RU\n",
      "3 china CN\n",
      "4 Hong Kong HK\n",
      "5 Chicago, IL US\n",
      "6 Armenia AM\n",
      "7 Brazil BR\n",
      "8 Los Angeles US\n",
      "9 Shanghai, China CN\n",
      "10 India IN\n",
      "11 San Diego, California US\n",
      "12 Colorado US\n",
      "13 Malaysia and Australia MY\n",
      "14 Canton, China CN\n",
      "15 CA US\n",
      "16 Miami, FL US\n",
      "17 New York US\n",
      "18 Beijing CN\n",
      "19 England GB\n",
      "20 Seattle US\n",
      "21 Massachusettes  US\n",
      "22 Sacramento, California US\n",
      "23 Santa Barbara US\n",
      "24 San Francisco Bay Area US\n",
      "25 Tunisia TN\n",
      "26 USA US\n",
      "27 Peru PE\n",
      "28 SF Bay Area US\n",
      "29 beijing, CHINA CN\n",
      "30 Brooklyn US\n",
      "31 San Francisco US\n",
      "32 Long Island US\n",
      "33 Denver, CO US\n",
      "34 Neverland CA\n",
      "35 Colombia CO\n",
      "36 Houston US\n",
      "37 Miami US\n",
      "38 Livermore, CA US\n",
      "39 Barcelona ES\n",
      "40 sf bay area US\n",
      "41 New Orleans US\n",
      "42 California US\n",
      "43 Canada CA\n",
      "44 Germany DE\n",
      "45 Bay Area US\n",
      "46 Virginia US\n"
     ]
    }
   ],
   "source": [
    "countries = []\n",
    "for i, l in enumerate(locs):\n",
    "    loc_type = l[0]['address_components'][0]['types']\n",
    "    if 'country' in loc_type:\n",
    "        name = l[0]['address_components'][0]['short_name']\n",
    "    else:\n",
    "        for j in range(5):\n",
    "            try:\n",
    "                name = l[0]['address_components'][j]['short_name']\n",
    "            except:\n",
    "                pass\n",
    "    countries.append(name)\n",
    "    print(i, locations[i], name)"
   ]
  },
  {
   "cell_type": "code",
   "execution_count": 7,
   "metadata": {
    "ExecuteTime": {
     "end_time": "2019-04-20T17:28:58.242724Z",
     "start_time": "2019-04-20T17:28:58.188933Z"
    }
   },
   "outputs": [
    {
     "data": {
      "text/html": [
       "<div>\n",
       "<style scoped>\n",
       "    .dataframe tbody tr th:only-of-type {\n",
       "        vertical-align: middle;\n",
       "    }\n",
       "\n",
       "    .dataframe tbody tr th {\n",
       "        vertical-align: top;\n",
       "    }\n",
       "\n",
       "    .dataframe thead th {\n",
       "        text-align: right;\n",
       "    }\n",
       "</style>\n",
       "<table border=\"1\" class=\"dataframe\">\n",
       "  <thead>\n",
       "    <tr style=\"text-align: right;\">\n",
       "      <th></th>\n",
       "      <th>age</th>\n",
       "      <th>location</th>\n",
       "      <th>hours</th>\n",
       "      <th>comfortability</th>\n",
       "      <th>country_code</th>\n",
       "    </tr>\n",
       "  </thead>\n",
       "  <tbody>\n",
       "    <tr>\n",
       "      <th>2</th>\n",
       "      <td>26</td>\n",
       "      <td>China</td>\n",
       "      <td>2</td>\n",
       "      <td>4</td>\n",
       "      <td>CN</td>\n",
       "    </tr>\n",
       "    <tr>\n",
       "      <th>3</th>\n",
       "      <td>28</td>\n",
       "      <td>Taiwan</td>\n",
       "      <td>4</td>\n",
       "      <td>3</td>\n",
       "      <td>TW</td>\n",
       "    </tr>\n",
       "    <tr>\n",
       "      <th>4</th>\n",
       "      <td>29</td>\n",
       "      <td>Russia</td>\n",
       "      <td>4</td>\n",
       "      <td>4</td>\n",
       "      <td>RU</td>\n",
       "    </tr>\n",
       "    <tr>\n",
       "      <th>5</th>\n",
       "      <td>26</td>\n",
       "      <td>china</td>\n",
       "      <td>7</td>\n",
       "      <td>5</td>\n",
       "      <td>CN</td>\n",
       "    </tr>\n",
       "    <tr>\n",
       "      <th>6</th>\n",
       "      <td>16</td>\n",
       "      <td>Hong Kong</td>\n",
       "      <td>10</td>\n",
       "      <td>3</td>\n",
       "      <td>HK</td>\n",
       "    </tr>\n",
       "  </tbody>\n",
       "</table>\n",
       "</div>"
      ],
      "text/plain": [
       "  age   location hours comfortability country_code\n",
       "2  26      China     2              4           CN\n",
       "3  28     Taiwan     4              3           TW\n",
       "4  29     Russia     4              4           RU\n",
       "5  26      china     7              5           CN\n",
       "6  16  Hong Kong    10              3           HK"
      ]
     },
     "execution_count": 7,
     "metadata": {},
     "output_type": "execute_result"
    }
   ],
   "source": [
    "location_dict = dict(zip(locations, countries))\n",
    "\n",
    "def location_clean(row):\n",
    "    if pd.notnull(row) and row != ' ':\n",
    "        return location_dict[row]\n",
    "    else:\n",
    "        return row\n",
    "\n",
    "survey['country_code'] = survey.location.apply(location_clean)\n",
    "\n",
    "survey.head()"
   ]
  },
  {
   "cell_type": "markdown",
   "metadata": {},
   "source": [
    "## Create Age Groups"
   ]
  },
  {
   "cell_type": "code",
   "execution_count": 8,
   "metadata": {
    "ExecuteTime": {
     "end_time": "2019-04-20T17:28:58.269688Z",
     "start_time": "2019-04-20T17:28:58.245371Z"
    }
   },
   "outputs": [
    {
     "data": {
      "text/html": [
       "<div>\n",
       "<style scoped>\n",
       "    .dataframe tbody tr th:only-of-type {\n",
       "        vertical-align: middle;\n",
       "    }\n",
       "\n",
       "    .dataframe tbody tr th {\n",
       "        vertical-align: top;\n",
       "    }\n",
       "\n",
       "    .dataframe thead th {\n",
       "        text-align: right;\n",
       "    }\n",
       "</style>\n",
       "<table border=\"1\" class=\"dataframe\">\n",
       "  <thead>\n",
       "    <tr style=\"text-align: right;\">\n",
       "      <th></th>\n",
       "      <th>age</th>\n",
       "      <th>location</th>\n",
       "      <th>hours</th>\n",
       "      <th>comfortability</th>\n",
       "      <th>country_code</th>\n",
       "      <th>age_group</th>\n",
       "    </tr>\n",
       "  </thead>\n",
       "  <tbody>\n",
       "    <tr>\n",
       "      <th>2</th>\n",
       "      <td>26</td>\n",
       "      <td>China</td>\n",
       "      <td>2.0</td>\n",
       "      <td>4</td>\n",
       "      <td>CN</td>\n",
       "      <td>24 to 26</td>\n",
       "    </tr>\n",
       "    <tr>\n",
       "      <th>3</th>\n",
       "      <td>28</td>\n",
       "      <td>Taiwan</td>\n",
       "      <td>4.0</td>\n",
       "      <td>3</td>\n",
       "      <td>TW</td>\n",
       "      <td>greater than or equal to 27</td>\n",
       "    </tr>\n",
       "    <tr>\n",
       "      <th>4</th>\n",
       "      <td>29</td>\n",
       "      <td>Russia</td>\n",
       "      <td>4.0</td>\n",
       "      <td>4</td>\n",
       "      <td>RU</td>\n",
       "      <td>greater than or equal to 27</td>\n",
       "    </tr>\n",
       "    <tr>\n",
       "      <th>5</th>\n",
       "      <td>26</td>\n",
       "      <td>china</td>\n",
       "      <td>7.0</td>\n",
       "      <td>5</td>\n",
       "      <td>CN</td>\n",
       "      <td>24 to 26</td>\n",
       "    </tr>\n",
       "    <tr>\n",
       "      <th>6</th>\n",
       "      <td>16</td>\n",
       "      <td>Hong Kong</td>\n",
       "      <td>10.0</td>\n",
       "      <td>3</td>\n",
       "      <td>HK</td>\n",
       "      <td>less than 24</td>\n",
       "    </tr>\n",
       "  </tbody>\n",
       "</table>\n",
       "</div>"
      ],
      "text/plain": [
       "   age   location  hours  comfortability country_code  \\\n",
       "2   26      China    2.0               4           CN   \n",
       "3   28     Taiwan    4.0               3           TW   \n",
       "4   29     Russia    4.0               4           RU   \n",
       "5   26      china    7.0               5           CN   \n",
       "6   16  Hong Kong   10.0               3           HK   \n",
       "\n",
       "                     age_group  \n",
       "2                     24 to 26  \n",
       "3  greater than or equal to 27  \n",
       "4  greater than or equal to 27  \n",
       "5                     24 to 26  \n",
       "6                 less than 24  "
      ]
     },
     "execution_count": 8,
     "metadata": {},
     "output_type": "execute_result"
    }
   ],
   "source": [
    "survey.age = survey.age.astype(int)\n",
    "survey.hours = survey.hours.astype(float)\n",
    "survey.comfortability = survey.comfortability.astype(int)\n",
    "\n",
    "survey.loc[survey.age < 24, 'age_group'] = 'less than 24'\n",
    "survey.loc[(survey.age >= 24) & (survey.age < 27), 'age_group'] = '24 to 26'\n",
    "survey.loc[survey.age >= 27, 'age_group'] = 'greater than or equal to 27'\n",
    "\n",
    "survey.head()"
   ]
  },
  {
   "cell_type": "markdown",
   "metadata": {},
   "source": [
    "## Plot"
   ]
  },
  {
   "cell_type": "code",
   "execution_count": 9,
   "metadata": {
    "ExecuteTime": {
     "end_time": "2019-04-20T17:28:58.445773Z",
     "start_time": "2019-04-20T17:28:58.271146Z"
    }
   },
   "outputs": [
    {
     "data": {
      "text/plain": [
       "<matplotlib.axes._subplots.AxesSubplot at 0x1a1de7a898>"
      ]
     },
     "execution_count": 9,
     "metadata": {},
     "output_type": "execute_result"
    },
    {
     "data": {
      "image/png": "[encoded data removed]",
      "text/plain": [
       "<Figure size 432x288 with 1 Axes>"
      ]
     },
     "metadata": {
      "needs_background": "light"
     },
     "output_type": "display_data"
    }
   ],
   "source": [
    "sns.countplot(x='country_code', data=survey,\n",
    "              order=sorted(survey.country_code.unique()))"
   ]
  },
  {
   "cell_type": "code",
   "execution_count": 10,
   "metadata": {
    "ExecuteTime": {
     "end_time": "2019-04-20T17:28:58.600360Z",
     "start_time": "2019-04-20T17:28:58.447423Z"
    }
   },
   "outputs": [
    {
     "data": {
      "text/plain": [
       "<matplotlib.axes._subplots.AxesSubplot at 0x1a1e1cc0b8>"
      ]
     },
     "execution_count": 10,
     "metadata": {},
     "output_type": "execute_result"
    },
    {
     "data": {
      "image/png": "[encoded data removed]",
      "text/plain": [
       "<Figure size 432x288 with 1 Axes>"
      ]
     },
     "metadata": {
      "needs_background": "light"
     },
     "output_type": "display_data"
    }
   ],
   "source": [
    "sns.countplot(x='age', data=survey)"
   ]
  },
  {
   "cell_type": "code",
   "execution_count": 11,
   "metadata": {
    "ExecuteTime": {
     "end_time": "2019-04-20T17:28:58.607023Z",
     "start_time": "2019-04-20T17:28:58.602160Z"
    }
   },
   "outputs": [],
   "source": [
    "low = survey[survey.age_group == 'less than 24']\n",
    "med = survey[survey.age_group == '24 to 26']\n",
    "high = survey[survey.age_group == 'greater than or equal to 27']"
   ]
  },
  {
   "cell_type": "markdown",
   "metadata": {},
   "source": [
    "Make sure each age group is approximately the same"
   ]
  },
  {
   "cell_type": "code",
   "execution_count": 12,
   "metadata": {
    "ExecuteTime": {
     "end_time": "2019-04-20T17:28:58.713546Z",
     "start_time": "2019-04-20T17:28:58.608232Z"
    }
   },
   "outputs": [
    {
     "data": {
      "text/plain": [
       "<matplotlib.axes._subplots.AxesSubplot at 0x1a1cdc91d0>"
      ]
     },
     "execution_count": 12,
     "metadata": {},
     "output_type": "execute_result"
    },
    {
     "data": {
      "image/png": "[encoded data removed]",
      "text/plain": [
       "<Figure size 432x288 with 1 Axes>"
      ]
     },
     "metadata": {
      "needs_background": "light"
     },
     "output_type": "display_data"
    }
   ],
   "source": [
    "sns.countplot(x='age_group', data=survey)"
   ]
  },
  {
   "cell_type": "code",
   "execution_count": 13,
   "metadata": {
    "ExecuteTime": {
     "end_time": "2019-04-20T17:29:00.213023Z",
     "start_time": "2019-04-20T17:28:58.715430Z"
    }
   },
   "outputs": [
    {
     "data": {
      "image/png": "[encoded data removed]",
      "text/plain": [
       "<Figure size 720x720 with 1 Axes>"
      ]
     },
     "metadata": {
      "needs_background": "light"
     },
     "output_type": "display_data"
    }
   ],
   "source": [
    "# Set up the figure\n",
    "f, ax = plt.subplots(figsize=(10, 10))\n",
    "ax.set_xlim(0, 10)\n",
    "ax.set_ylim(0, 10)\n",
    "ax.set_aspect(\"equal\")\n",
    "\n",
    "# Draw the three density plots\n",
    "ax = sns.kdeplot(med.hours, med.comfortability,\n",
    "                 cmap=\"Blues\", shade=True, shade_lowest=False)\n",
    "ax = sns.kdeplot(high.hours, high.comfortability,\n",
    "                 cmap=\"Greens\", shade=True, shade_lowest=False)\n",
    "ax = sns.kdeplot(low.hours, low.comfortability,\n",
    "                 cmap=\"Reds\", shade=True, shade_lowest=False)\n",
    "\n",
    "f.suptitle(\n",
    "    'KDE of Anticipated Hours & Presentation Comfort\\nAmong Different Age Groups', fontsize=20)\n",
    "plt.xlabel('Anticipated Hours on Assignments', fontsize=18)\n",
    "plt.ylabel('Presentation Comfort (5 is highest)', fontsize=16)\n",
    "\n",
    "red = sns.color_palette(\"Reds\")[-2]\n",
    "blue = sns.color_palette(\"Blues\")[-2]\n",
    "green = sns.color_palette(\"Greens\")[-2]\n",
    "ax.text(7.75, 3.0, \"Younger than 24\", size=12, color=red)\n",
    "ax.text(1.5, 7.0, \"Between 24 and 26, Inclusive\", size=12, color=blue)\n",
    "ax.text(6.5, 4.0, \"Older than 26\", size=12, color=green)\n",
    "\n",
    "f.savefig('hours_comfort_among_age.pdf')"
   ]
  }
 ],
 "metadata": {
  "kernelspec": {
   "display_name": "Python 3",
   "language": "python",
   "name": "python3"
  },
  "language_info": {
   "codemirror_mode": {
    "name": "ipython",
    "version": 3
   },
   "file_extension": ".py",
   "mimetype": "text/x-python",
   "name": "python",
   "nbconvert_exporter": "python",
   "pygments_lexer": "ipython3",
   "version": "3.7.3"
  }
 },
 "nbformat": 4,
 "nbformat_minor": 2
}
